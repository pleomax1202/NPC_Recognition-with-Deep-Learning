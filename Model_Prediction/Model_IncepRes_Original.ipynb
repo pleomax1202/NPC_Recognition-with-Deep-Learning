{
  "nbformat": 4,
  "nbformat_minor": 0,
  "metadata": {
    "accelerator": "GPU",
    "colab": {
      "name": "Model_IncepRes_Original.ipynb",
      "provenance": [],
      "collapsed_sections": [
        "c_Jvq5h89Sks",
        "4pE_fxD3-lJi",
        "6fUYZzTUPW0d",
        "q4olXtiXJiP1",
        "5x6fev6PFwnT",
        "KC3qBT1PHiz2",
        "eBEkFG1LGjqD",
        "GwHGm-76nfAJ",
        "1__6S8AMaI9U",
        "Fd4oUwcUuTVq",
        "Il0fhz74_mRe"
      ],
      "toc_visible": true
    },
    "kernelspec": {
      "display_name": "Python 3",
      "name": "python3"
    }
  },
  "cells": [
    {
      "cell_type": "code",
      "metadata": {
        "id": "l1T9rGl2VA_E"
      },
      "source": [
        "import matplotlib.pyplot as plt\n",
        "import numpy as np\n",
        "import tensorflow as tf\n",
        "from tensorflow.keras.preprocessing.image import ImageDataGenerator\n",
        "from keras import backend as K\n",
        "from tensorflow.keras.preprocessing.image import load_img\n",
        "from tensorflow.keras.preprocessing.image import img_to_array\n",
        "from keras.applications import imagenet_utils\n",
        "import pandas as pd\n",
        "import random\n",
        "from sklearn.model_selection import train_test_split\n",
        "from sklearn.metrics import accuracy_score, auc, confusion_matrix, f1_score, precision_score, roc_curve, recall_score\n",
        "from tensorflow import keras\n",
        "from tensorflow.keras.utils import plot_model\n",
        "import datetime\n",
        "from tensorflow.keras.callbacks import EarlyStopping, ReduceLROnPlateau, ModelCheckpoint\n",
        "import os\n",
        "from tensorflow.keras.applications import InceptionResNetV2\n",
        "from tensorflow.keras.applications.inception_resnet_v2 import preprocess_input\n",
        "from tensorflow.keras.layers import Dropout, BatchNormalization\n",
        "from tensorflow.keras.layers import Flatten\n",
        "from tensorflow.keras.layers import Dense, AveragePooling2D, GlobalAveragePooling2D\n",
        "from tensorflow.keras.layers import Input, Layer\n",
        "from tensorflow.keras.models import Model\n",
        "from tensorflow.keras.optimizers import Adam\n",
        "from tensorflow.keras.utils import plot_model\n",
        "import cv2\n",
        "from google.colab.patches import cv2_imshow\n",
        "import matplotlib.pyplot as plt\n",
        "import matplotlib.cm as cm\n",
        "from sklearn.model_selection import StratifiedKFold\n",
        "import seaborn as sn"
      ],
      "execution_count": null,
      "outputs": []
    },
    {
      "cell_type": "markdown",
      "metadata": {
        "id": "c_Jvq5h89Sks"
      },
      "source": [
        "# Parameter"
      ]
    },
    {
      "cell_type": "code",
      "metadata": {
        "id": "QB27P69RarK_"
      },
      "source": [
        "INIT_LR = 1e-3\n",
        "EPOCHS = 150\n",
        "BS = 32\n",
        "seed = 42"
      ],
      "execution_count": null,
      "outputs": []
    },
    {
      "cell_type": "code",
      "metadata": {
        "id": "7DHoK5CMajo9"
      },
      "source": [
        "image_size = (224, 224)"
      ],
      "execution_count": null,
      "outputs": []
    },
    {
      "cell_type": "markdown",
      "metadata": {
        "id": "4pE_fxD3-lJi"
      },
      "source": [
        "# Prepare_Data"
      ]
    },
    {
      "cell_type": "code",
      "metadata": {
        "id": "wei6-az_9dV0"
      },
      "source": [
        "imagePaths_label_0 = '/content/drive/MyDrive/Colab Notebooks/聖馬爾定/Dataset/Original_224X224/0'\n",
        "imagePaths_label_1 = '/content/drive/MyDrive/Colab Notebooks/聖馬爾定/Dataset/Original_224X224/1'\n",
        "\n",
        "filenames_0 = os.listdir(imagePaths_label_0)\n",
        "filenames_1 = os.listdir(imagePaths_label_1)"
      ],
      "execution_count": null,
      "outputs": []
    },
    {
      "cell_type": "code",
      "metadata": {
        "id": "p0LQ_f0xAtX5",
        "colab": {
          "base_uri": "https://localhost:8080/"
        },
        "outputId": "c82714da-b7a5-4378-fe20-ba6775ced31a"
      },
      "source": [
        "print(len(filenames_0))\n",
        "print(len(filenames_1))"
      ],
      "execution_count": null,
      "outputs": [
        {
          "output_type": "stream",
          "text": [
            "107\n",
            "58\n"
          ],
          "name": "stdout"
        }
      ]
    },
    {
      "cell_type": "code",
      "metadata": {
        "id": "BVx3S8OD-EFS"
      },
      "source": [
        "label_0 = pd.DataFrame({'picture_name': filenames_0})\n",
        "label_0['label'] = '0'\n",
        "label_0['path'] = '0/' + label_0['picture_name']"
      ],
      "execution_count": null,
      "outputs": []
    },
    {
      "cell_type": "code",
      "metadata": {
        "id": "q51XCUpk-EvS"
      },
      "source": [
        "label_1 = pd.DataFrame({'picture_name': filenames_1})\n",
        "label_1['label'] = '1'\n",
        "label_1['path'] = '1/' + label_1['picture_name']"
      ],
      "execution_count": null,
      "outputs": []
    },
    {
      "cell_type": "code",
      "metadata": {
        "id": "DwN0m2dT-fof"
      },
      "source": [
        "alldata = pd.concat([label_0, label_1])"
      ],
      "execution_count": null,
      "outputs": []
    },
    {
      "cell_type": "code",
      "metadata": {
        "id": "_zFrbyKSwacS",
        "colab": {
          "base_uri": "https://localhost:8080/"
        },
        "outputId": "6c8a4ea7-cf99-4256-aaf3-5f3dd056d6a5"
      },
      "source": [
        "alldata.shape"
      ],
      "execution_count": null,
      "outputs": [
        {
          "output_type": "execute_result",
          "data": {
            "text/plain": [
              "(165, 3)"
            ]
          },
          "metadata": {
            "tags": []
          },
          "execution_count": 41
        }
      ]
    },
    {
      "cell_type": "code",
      "metadata": {
        "id": "Hfn_95YN-wkm"
      },
      "source": [
        "train_df, test_df = train_test_split(alldata, test_size=0.15, random_state=seed)"
      ],
      "execution_count": null,
      "outputs": []
    },
    {
      "cell_type": "code",
      "metadata": {
        "id": "5uHqTYan-02c"
      },
      "source": [
        "total_train = train_df.shape[0]"
      ],
      "execution_count": null,
      "outputs": []
    },
    {
      "cell_type": "code",
      "metadata": {
        "id": "NjMDf7Ia-4Yc",
        "colab": {
          "base_uri": "https://localhost:8080/"
        },
        "outputId": "1d79911e-696a-4b5d-e6c4-0fcd03d731ea"
      },
      "source": [
        "train_datagen = ImageDataGenerator(rotation_range=15, \n",
        "                                   rescale=1./255, \n",
        "                                   shear_range=0.1, \n",
        "                                   zoom_range=0.2,\n",
        "                                   brightness_range = [1.4, 1.4],\n",
        "                                   horizontal_flip=True, \n",
        "                                   width_shift_range=0.1,\n",
        "                                   height_shift_range=0.1,\n",
        "                                   validation_split=0.15)\n",
        "\n",
        "train_generator = train_datagen.flow_from_dataframe(train_df,\n",
        "                                                    '/content/drive/MyDrive/Colab Notebooks/聖馬爾定/Dataset/Original_224X224/', \n",
        "                                                    x_col='path', \n",
        "                                                    y_col='label', \n",
        "                                                    target_size=image_size, \n",
        "                                                    class_mode='categorical', \n",
        "                                                    batch_size=BS, \n",
        "                                                    subset='training')\n"
      ],
      "execution_count": null,
      "outputs": [
        {
          "output_type": "stream",
          "text": [
            "Found 119 validated image filenames belonging to 2 classes.\n"
          ],
          "name": "stdout"
        }
      ]
    },
    {
      "cell_type": "code",
      "metadata": {
        "id": "JLqDLQiO_CKH",
        "colab": {
          "base_uri": "https://localhost:8080/"
        },
        "outputId": "6931b17d-16e6-452c-a448-c3353c905021"
      },
      "source": [
        "validation_generator = train_datagen.flow_from_dataframe(train_df, \n",
        "                                                    '/content/drive/MyDrive/Colab Notebooks/聖馬爾定/Dataset/Original_224X224/', \n",
        "                                                    x_col='path', \n",
        "                                                    y_col='label', \n",
        "                                                    target_size=image_size, \n",
        "                                                    class_mode='categorical', \n",
        "                                                    batch_size=BS,\n",
        "                                                    subset='validation')"
      ],
      "execution_count": null,
      "outputs": [
        {
          "output_type": "stream",
          "text": [
            "Found 21 validated image filenames belonging to 2 classes.\n"
          ],
          "name": "stdout"
        }
      ]
    },
    {
      "cell_type": "code",
      "metadata": {
        "id": "QzbJJuv4AlKn",
        "colab": {
          "base_uri": "https://localhost:8080/"
        },
        "outputId": "f13ad169-becb-4636-aa47-03453219480d"
      },
      "source": [
        "test_gen = ImageDataGenerator(rescale=1./255)\n",
        "\n",
        "test_generator = test_gen.flow_from_dataframe(\n",
        "    test_df, \n",
        "    '/content/drive/MyDrive/Colab Notebooks/聖馬爾定/Dataset/Original_224X224/', \n",
        "    x_col='path', \n",
        "    y_col=None, \n",
        "    class_mode=None, \n",
        "    target_size=image_size, \n",
        "    batch_size=1,\n",
        "    shuffle=False\n",
        ")"
      ],
      "execution_count": null,
      "outputs": [
        {
          "output_type": "stream",
          "text": [
            "Found 25 validated image filenames.\n"
          ],
          "name": "stdout"
        }
      ]
    },
    {
      "cell_type": "markdown",
      "metadata": {
        "id": "6fUYZzTUPW0d"
      },
      "source": [
        "# Model_InceptionResNetV2"
      ]
    },
    {
      "cell_type": "code",
      "metadata": {
        "id": "n3iC6a-kQGfo"
      },
      "source": [
        "baseModel = InceptionResNetV2(weights=\"imagenet\", include_top=False,\n",
        "                  input_tensor=Input(shape=(image_size[0], image_size[1], 3)))\n",
        "\n",
        "headModel = baseModel.output\n",
        "headModel = AveragePooling2D(pool_size=(4, 4))(headModel)\n",
        "headModel = Flatten(name=\"flatten\")(headModel)\n",
        "headModel = Dense(64, activation=\"relu\")(headModel)\n",
        "headModel = Dropout(0.5)(headModel)\n",
        "headModel = Dense(2, activation=\"softmax\", name=\"predictions\")(headModel)\n",
        "\n",
        "model = Model(inputs=baseModel.input, outputs=headModel)\n",
        "\n",
        "for layer in baseModel.layers:\n",
        "\tlayer.trainable = False\n",
        "\n",
        "opt = Adam(lr=INIT_LR, decay=INIT_LR / EPOCHS)\n",
        "model.compile(loss=\"categorical_crossentropy\", optimizer=opt,metrics=[\"accuracy\"])"
      ],
      "execution_count": null,
      "outputs": []
    },
    {
      "cell_type": "code",
      "metadata": {
        "id": "TV4td-AnRKeP"
      },
      "source": [
        "learning_rate_reduction = ReduceLROnPlateau(monitor='val_loss', \n",
        "                                            patience=7, \n",
        "                                            factor=0.5, \n",
        "                                            min_lr=0.00001)\n",
        "\n",
        "mcp_save = ModelCheckpoint('InceptionResNetV2_wts.h5', save_best_only=True, monitor='val_accuracy', mode='max')\n",
        "\n",
        "callbacks = [learning_rate_reduction, mcp_save]"
      ],
      "execution_count": null,
      "outputs": []
    },
    {
      "cell_type": "code",
      "metadata": {
        "id": "HN6hmShxQpwS",
        "colab": {
          "base_uri": "https://localhost:8080/"
        },
        "outputId": "ad0f8d12-4e39-45e6-8ae2-b519fdc9f25e"
      },
      "source": [
        "H = model.fit(\n",
        "\t\ttrain_generator,\n",
        "    # steps_per_epoch=train_generator.samples // BS,\n",
        "    epochs=EPOCHS,\n",
        "    validation_data= validation_generator,\n",
        "    # validation_steps=validation_generator.samples // BS,\n",
        "    callbacks=callbacks)"
      ],
      "execution_count": null,
      "outputs": [
        {
          "output_type": "stream",
          "text": [
            "Epoch 1/150\n",
            "4/4 [==============================] - 7s 2s/step - loss: 0.9856 - accuracy: 0.6134 - val_loss: 0.6976 - val_accuracy: 0.6190\n",
            "Epoch 2/150\n",
            "4/4 [==============================] - 3s 858ms/step - loss: 0.8546 - accuracy: 0.5462 - val_loss: 0.5465 - val_accuracy: 0.7619\n",
            "Epoch 3/150\n",
            "4/4 [==============================] - 2s 447ms/step - loss: 0.6418 - accuracy: 0.6471 - val_loss: 0.5754 - val_accuracy: 0.5238\n",
            "Epoch 4/150\n",
            "4/4 [==============================] - 3s 806ms/step - loss: 0.5700 - accuracy: 0.7479 - val_loss: 0.5174 - val_accuracy: 0.8571\n",
            "Epoch 5/150\n",
            "4/4 [==============================] - 2s 444ms/step - loss: 0.4870 - accuracy: 0.7479 - val_loss: 0.5426 - val_accuracy: 0.7143\n",
            "Epoch 6/150\n",
            "4/4 [==============================] - 2s 499ms/step - loss: 0.5318 - accuracy: 0.7647 - val_loss: 0.4875 - val_accuracy: 0.7619\n",
            "Epoch 7/150\n",
            "4/4 [==============================] - 2s 456ms/step - loss: 0.4649 - accuracy: 0.7563 - val_loss: 0.5000 - val_accuracy: 0.7619\n",
            "Epoch 8/150\n",
            "4/4 [==============================] - 2s 495ms/step - loss: 0.4969 - accuracy: 0.7899 - val_loss: 0.4678 - val_accuracy: 0.8571\n",
            "Epoch 9/150\n",
            "4/4 [==============================] - 2s 451ms/step - loss: 0.4535 - accuracy: 0.7815 - val_loss: 0.4656 - val_accuracy: 0.7619\n",
            "Epoch 10/150\n",
            "4/4 [==============================] - 2s 460ms/step - loss: 0.4262 - accuracy: 0.8067 - val_loss: 0.4454 - val_accuracy: 0.7619\n",
            "Epoch 11/150\n",
            "4/4 [==============================] - 2s 449ms/step - loss: 0.4203 - accuracy: 0.7983 - val_loss: 0.4668 - val_accuracy: 0.7619\n",
            "Epoch 12/150\n",
            "4/4 [==============================] - 2s 493ms/step - loss: 0.4024 - accuracy: 0.8319 - val_loss: 0.4797 - val_accuracy: 0.8095\n",
            "Epoch 13/150\n",
            "4/4 [==============================] - 2s 454ms/step - loss: 0.3887 - accuracy: 0.8487 - val_loss: 0.4464 - val_accuracy: 0.8095\n",
            "Epoch 14/150\n",
            "4/4 [==============================] - 2s 453ms/step - loss: 0.3847 - accuracy: 0.8319 - val_loss: 0.4887 - val_accuracy: 0.7619\n",
            "Epoch 15/150\n",
            "4/4 [==============================] - 2s 449ms/step - loss: 0.4537 - accuracy: 0.8151 - val_loss: 0.5748 - val_accuracy: 0.7619\n",
            "Epoch 16/150\n",
            "4/4 [==============================] - 2s 495ms/step - loss: 0.4404 - accuracy: 0.7899 - val_loss: 0.5284 - val_accuracy: 0.7143\n",
            "Epoch 17/150\n",
            "4/4 [==============================] - 2s 449ms/step - loss: 0.3494 - accuracy: 0.8319 - val_loss: 0.5246 - val_accuracy: 0.6190\n",
            "Epoch 18/150\n",
            "4/4 [==============================] - 2s 491ms/step - loss: 0.3357 - accuracy: 0.8487 - val_loss: 0.3895 - val_accuracy: 0.7619\n",
            "Epoch 19/150\n",
            "4/4 [==============================] - 2s 514ms/step - loss: 0.3052 - accuracy: 0.8992 - val_loss: 0.5265 - val_accuracy: 0.6667\n",
            "Epoch 20/150\n",
            "4/4 [==============================] - 2s 468ms/step - loss: 0.2869 - accuracy: 0.8992 - val_loss: 0.4841 - val_accuracy: 0.6190\n",
            "Epoch 21/150\n",
            "4/4 [==============================] - 2s 466ms/step - loss: 0.3359 - accuracy: 0.8824 - val_loss: 0.4212 - val_accuracy: 0.7619\n",
            "Epoch 22/150\n",
            "4/4 [==============================] - 2s 467ms/step - loss: 0.3041 - accuracy: 0.8908 - val_loss: 0.5020 - val_accuracy: 0.8095\n",
            "Epoch 23/150\n",
            "4/4 [==============================] - 2s 504ms/step - loss: 0.2798 - accuracy: 0.9076 - val_loss: 0.4738 - val_accuracy: 0.7619\n",
            "Epoch 24/150\n",
            "4/4 [==============================] - 2s 451ms/step - loss: 0.3071 - accuracy: 0.8824 - val_loss: 0.5368 - val_accuracy: 0.7143\n",
            "Epoch 25/150\n",
            "4/4 [==============================] - 2s 450ms/step - loss: 0.2754 - accuracy: 0.8908 - val_loss: 0.4219 - val_accuracy: 0.8095\n",
            "Epoch 26/150\n",
            "4/4 [==============================] - 2s 485ms/step - loss: 0.2897 - accuracy: 0.8739 - val_loss: 0.4418 - val_accuracy: 0.8095\n",
            "Epoch 27/150\n",
            "4/4 [==============================] - 2s 496ms/step - loss: 0.3006 - accuracy: 0.8655 - val_loss: 0.3947 - val_accuracy: 0.7619\n",
            "Epoch 28/150\n",
            "4/4 [==============================] - 2s 455ms/step - loss: 0.2558 - accuracy: 0.9244 - val_loss: 0.4509 - val_accuracy: 0.7619\n",
            "Epoch 29/150\n",
            "4/4 [==============================] - 2s 463ms/step - loss: 0.3601 - accuracy: 0.8235 - val_loss: 0.4285 - val_accuracy: 0.8095\n",
            "Epoch 30/150\n",
            "4/4 [==============================] - 2s 502ms/step - loss: 0.2532 - accuracy: 0.8908 - val_loss: 0.5081 - val_accuracy: 0.7143\n",
            "Epoch 31/150\n",
            "4/4 [==============================] - 3s 817ms/step - loss: 0.2509 - accuracy: 0.8908 - val_loss: 0.3307 - val_accuracy: 0.9048\n",
            "Epoch 32/150\n",
            "4/4 [==============================] - 2s 488ms/step - loss: 0.2642 - accuracy: 0.9076 - val_loss: 0.4867 - val_accuracy: 0.7143\n",
            "Epoch 33/150\n",
            "4/4 [==============================] - 2s 463ms/step - loss: 0.2711 - accuracy: 0.8992 - val_loss: 0.3697 - val_accuracy: 0.8095\n",
            "Epoch 34/150\n",
            "4/4 [==============================] - 2s 451ms/step - loss: 0.3020 - accuracy: 0.8824 - val_loss: 0.4700 - val_accuracy: 0.8571\n",
            "Epoch 35/150\n",
            "4/4 [==============================] - 2s 458ms/step - loss: 0.3245 - accuracy: 0.8487 - val_loss: 0.4302 - val_accuracy: 0.7619\n",
            "Epoch 36/150\n",
            "4/4 [==============================] - 2s 450ms/step - loss: 0.2211 - accuracy: 0.9244 - val_loss: 0.5216 - val_accuracy: 0.6667\n",
            "Epoch 37/150\n",
            "4/4 [==============================] - 2s 500ms/step - loss: 0.2583 - accuracy: 0.9244 - val_loss: 0.3808 - val_accuracy: 0.8095\n",
            "Epoch 38/150\n",
            "4/4 [==============================] - 2s 506ms/step - loss: 0.2869 - accuracy: 0.8655 - val_loss: 0.4067 - val_accuracy: 0.7143\n",
            "Epoch 39/150\n",
            "4/4 [==============================] - 2s 458ms/step - loss: 0.2935 - accuracy: 0.8824 - val_loss: 0.3981 - val_accuracy: 0.8095\n",
            "Epoch 40/150\n",
            "4/4 [==============================] - 2s 462ms/step - loss: 0.2394 - accuracy: 0.9328 - val_loss: 0.3622 - val_accuracy: 0.8095\n",
            "Epoch 41/150\n",
            "4/4 [==============================] - 2s 497ms/step - loss: 0.2532 - accuracy: 0.9076 - val_loss: 0.3381 - val_accuracy: 0.8571\n",
            "Epoch 42/150\n",
            "4/4 [==============================] - 2s 453ms/step - loss: 0.2096 - accuracy: 0.9496 - val_loss: 0.4049 - val_accuracy: 0.8095\n",
            "Epoch 43/150\n",
            "4/4 [==============================] - 2s 463ms/step - loss: 0.2468 - accuracy: 0.9160 - val_loss: 0.4478 - val_accuracy: 0.8095\n",
            "Epoch 44/150\n",
            "4/4 [==============================] - 2s 467ms/step - loss: 0.2678 - accuracy: 0.9076 - val_loss: 0.5739 - val_accuracy: 0.7143\n",
            "Epoch 45/150\n",
            "4/4 [==============================] - 2s 448ms/step - loss: 0.2966 - accuracy: 0.8655 - val_loss: 0.5386 - val_accuracy: 0.7619\n",
            "Epoch 46/150\n",
            "4/4 [==============================] - 2s 448ms/step - loss: 0.2125 - accuracy: 0.9580 - val_loss: 0.3975 - val_accuracy: 0.7619\n",
            "Epoch 47/150\n",
            "4/4 [==============================] - 2s 495ms/step - loss: 0.2850 - accuracy: 0.8908 - val_loss: 0.5051 - val_accuracy: 0.7143\n",
            "Epoch 48/150\n",
            "4/4 [==============================] - 2s 458ms/step - loss: 0.3012 - accuracy: 0.8655 - val_loss: 0.4333 - val_accuracy: 0.8095\n",
            "Epoch 49/150\n",
            "4/4 [==============================] - 2s 456ms/step - loss: 0.2553 - accuracy: 0.9160 - val_loss: 0.5558 - val_accuracy: 0.7143\n",
            "Epoch 50/150\n",
            "4/4 [==============================] - 2s 458ms/step - loss: 0.2288 - accuracy: 0.9160 - val_loss: 0.3029 - val_accuracy: 0.8095\n",
            "Epoch 51/150\n",
            "4/4 [==============================] - 2s 448ms/step - loss: 0.2836 - accuracy: 0.8655 - val_loss: 0.4544 - val_accuracy: 0.7619\n",
            "Epoch 52/150\n",
            "4/4 [==============================] - 2s 455ms/step - loss: 0.1996 - accuracy: 0.9412 - val_loss: 0.4968 - val_accuracy: 0.7143\n",
            "Epoch 53/150\n",
            "4/4 [==============================] - 2s 457ms/step - loss: 0.2080 - accuracy: 0.9412 - val_loss: 0.4168 - val_accuracy: 0.8571\n",
            "Epoch 54/150\n",
            "4/4 [==============================] - 2s 460ms/step - loss: 0.2536 - accuracy: 0.8992 - val_loss: 0.3599 - val_accuracy: 0.9048\n",
            "Epoch 55/150\n",
            "4/4 [==============================] - 2s 506ms/step - loss: 0.2710 - accuracy: 0.9244 - val_loss: 0.5533 - val_accuracy: 0.7619\n",
            "Epoch 56/150\n",
            "4/4 [==============================] - 2s 501ms/step - loss: 0.2281 - accuracy: 0.9244 - val_loss: 0.4357 - val_accuracy: 0.8095\n",
            "Epoch 57/150\n",
            "4/4 [==============================] - 2s 458ms/step - loss: 0.2406 - accuracy: 0.9328 - val_loss: 0.5473 - val_accuracy: 0.7143\n",
            "Epoch 58/150\n",
            "4/4 [==============================] - 2s 452ms/step - loss: 0.2694 - accuracy: 0.8992 - val_loss: 0.4727 - val_accuracy: 0.7619\n",
            "Epoch 59/150\n",
            "4/4 [==============================] - 2s 496ms/step - loss: 0.2668 - accuracy: 0.8992 - val_loss: 0.4008 - val_accuracy: 0.7619\n",
            "Epoch 60/150\n",
            "4/4 [==============================] - 2s 488ms/step - loss: 0.2482 - accuracy: 0.8992 - val_loss: 0.6248 - val_accuracy: 0.7619\n",
            "Epoch 61/150\n",
            "4/4 [==============================] - 2s 459ms/step - loss: 0.2605 - accuracy: 0.9160 - val_loss: 0.3812 - val_accuracy: 0.8571\n",
            "Epoch 62/150\n",
            "4/4 [==============================] - 2s 460ms/step - loss: 0.2457 - accuracy: 0.8992 - val_loss: 0.5134 - val_accuracy: 0.8095\n",
            "Epoch 63/150\n",
            "4/4 [==============================] - 2s 459ms/step - loss: 0.2274 - accuracy: 0.9328 - val_loss: 0.4977 - val_accuracy: 0.7619\n",
            "Epoch 64/150\n",
            "4/4 [==============================] - 2s 455ms/step - loss: 0.2777 - accuracy: 0.8908 - val_loss: 0.5259 - val_accuracy: 0.6667\n",
            "Epoch 65/150\n",
            "4/4 [==============================] - 2s 460ms/step - loss: 0.2487 - accuracy: 0.9076 - val_loss: 0.5107 - val_accuracy: 0.8571\n",
            "Epoch 66/150\n",
            "4/4 [==============================] - 2s 458ms/step - loss: 0.2344 - accuracy: 0.9244 - val_loss: 0.3582 - val_accuracy: 0.8571\n",
            "Epoch 67/150\n",
            "4/4 [==============================] - 2s 468ms/step - loss: 0.2009 - accuracy: 0.9412 - val_loss: 0.4446 - val_accuracy: 0.7619\n",
            "Epoch 68/150\n",
            "4/4 [==============================] - 2s 499ms/step - loss: 0.2110 - accuracy: 0.9244 - val_loss: 0.5730 - val_accuracy: 0.7143\n",
            "Epoch 69/150\n",
            "4/4 [==============================] - 2s 468ms/step - loss: 0.2457 - accuracy: 0.9160 - val_loss: 0.4166 - val_accuracy: 0.7619\n",
            "Epoch 70/150\n",
            "4/4 [==============================] - 2s 462ms/step - loss: 0.2475 - accuracy: 0.9160 - val_loss: 0.4605 - val_accuracy: 0.7143\n",
            "Epoch 71/150\n",
            "4/4 [==============================] - 2s 468ms/step - loss: 0.2275 - accuracy: 0.9328 - val_loss: 0.5469 - val_accuracy: 0.6667\n",
            "Epoch 72/150\n",
            "4/4 [==============================] - 2s 455ms/step - loss: 0.2386 - accuracy: 0.9160 - val_loss: 0.4574 - val_accuracy: 0.8095\n",
            "Epoch 73/150\n",
            "4/4 [==============================] - 2s 461ms/step - loss: 0.1994 - accuracy: 0.9412 - val_loss: 0.5641 - val_accuracy: 0.6667\n",
            "Epoch 74/150\n",
            "4/4 [==============================] - 2s 454ms/step - loss: 0.2688 - accuracy: 0.8908 - val_loss: 0.4110 - val_accuracy: 0.8571\n",
            "Epoch 75/150\n",
            "4/4 [==============================] - 2s 452ms/step - loss: 0.2409 - accuracy: 0.9160 - val_loss: 0.5387 - val_accuracy: 0.7143\n",
            "Epoch 76/150\n",
            "4/4 [==============================] - 2s 453ms/step - loss: 0.2057 - accuracy: 0.9076 - val_loss: 0.4375 - val_accuracy: 0.7143\n",
            "Epoch 77/150\n",
            "4/4 [==============================] - 2s 451ms/step - loss: 0.2161 - accuracy: 0.9328 - val_loss: 0.4181 - val_accuracy: 0.8571\n",
            "Epoch 78/150\n",
            "4/4 [==============================] - 2s 454ms/step - loss: 0.2503 - accuracy: 0.9244 - val_loss: 0.4286 - val_accuracy: 0.7619\n",
            "Epoch 79/150\n",
            "4/4 [==============================] - 2s 455ms/step - loss: 0.2605 - accuracy: 0.8655 - val_loss: 0.5086 - val_accuracy: 0.6667\n",
            "Epoch 80/150\n",
            "4/4 [==============================] - 2s 468ms/step - loss: 0.2219 - accuracy: 0.9244 - val_loss: 0.5303 - val_accuracy: 0.7619\n",
            "Epoch 81/150\n",
            "4/4 [==============================] - 2s 457ms/step - loss: 0.2481 - accuracy: 0.8992 - val_loss: 0.5878 - val_accuracy: 0.8095\n",
            "Epoch 82/150\n",
            "4/4 [==============================] - 2s 506ms/step - loss: 0.2132 - accuracy: 0.9664 - val_loss: 0.3011 - val_accuracy: 0.9048\n",
            "Epoch 83/150\n",
            "4/4 [==============================] - 2s 462ms/step - loss: 0.2797 - accuracy: 0.9076 - val_loss: 0.5273 - val_accuracy: 0.7143\n",
            "Epoch 84/150\n",
            "4/4 [==============================] - 2s 456ms/step - loss: 0.2611 - accuracy: 0.8824 - val_loss: 0.4447 - val_accuracy: 0.8095\n",
            "Epoch 85/150\n",
            "4/4 [==============================] - 2s 496ms/step - loss: 0.2253 - accuracy: 0.9244 - val_loss: 0.4407 - val_accuracy: 0.7143\n",
            "Epoch 86/150\n",
            "4/4 [==============================] - 2s 509ms/step - loss: 0.1920 - accuracy: 0.9160 - val_loss: 0.6230 - val_accuracy: 0.8095\n",
            "Epoch 87/150\n",
            "4/4 [==============================] - 2s 459ms/step - loss: 0.2320 - accuracy: 0.8992 - val_loss: 0.6446 - val_accuracy: 0.6190\n",
            "Epoch 88/150\n",
            "4/4 [==============================] - 2s 498ms/step - loss: 0.2751 - accuracy: 0.8824 - val_loss: 0.3658 - val_accuracy: 0.8095\n",
            "Epoch 89/150\n",
            "4/4 [==============================] - 2s 458ms/step - loss: 0.2489 - accuracy: 0.8992 - val_loss: 0.4001 - val_accuracy: 0.8095\n",
            "Epoch 90/150\n",
            "4/4 [==============================] - 2s 447ms/step - loss: 0.2139 - accuracy: 0.9496 - val_loss: 0.3545 - val_accuracy: 0.8095\n",
            "Epoch 91/150\n",
            "4/4 [==============================] - 2s 456ms/step - loss: 0.2568 - accuracy: 0.9076 - val_loss: 0.4826 - val_accuracy: 0.7619\n",
            "Epoch 92/150\n",
            "4/4 [==============================] - 2s 458ms/step - loss: 0.1745 - accuracy: 0.9664 - val_loss: 0.4953 - val_accuracy: 0.7619\n",
            "Epoch 93/150\n",
            "4/4 [==============================] - 2s 449ms/step - loss: 0.2617 - accuracy: 0.8824 - val_loss: 0.4348 - val_accuracy: 0.8095\n",
            "Epoch 94/150\n",
            "4/4 [==============================] - 2s 455ms/step - loss: 0.2735 - accuracy: 0.8908 - val_loss: 0.3338 - val_accuracy: 0.8571\n",
            "Epoch 95/150\n",
            "4/4 [==============================] - 2s 458ms/step - loss: 0.2182 - accuracy: 0.9244 - val_loss: 0.3781 - val_accuracy: 0.8095\n",
            "Epoch 96/150\n",
            "4/4 [==============================] - 2s 495ms/step - loss: 0.2269 - accuracy: 0.9328 - val_loss: 0.4950 - val_accuracy: 0.7143\n",
            "Epoch 97/150\n",
            "4/4 [==============================] - 2s 502ms/step - loss: 0.2159 - accuracy: 0.9160 - val_loss: 0.3659 - val_accuracy: 0.7619\n",
            "Epoch 98/150\n",
            "4/4 [==============================] - 2s 459ms/step - loss: 0.2288 - accuracy: 0.9076 - val_loss: 0.4929 - val_accuracy: 0.8571\n",
            "Epoch 99/150\n",
            "4/4 [==============================] - 2s 452ms/step - loss: 0.2511 - accuracy: 0.9076 - val_loss: 0.6079 - val_accuracy: 0.6190\n",
            "Epoch 100/150\n",
            "4/4 [==============================] - 2s 494ms/step - loss: 0.2213 - accuracy: 0.9328 - val_loss: 0.3673 - val_accuracy: 0.8571\n",
            "Epoch 101/150\n",
            "4/4 [==============================] - 2s 453ms/step - loss: 0.2260 - accuracy: 0.9412 - val_loss: 0.5511 - val_accuracy: 0.7143\n",
            "Epoch 102/150\n",
            "4/4 [==============================] - 2s 506ms/step - loss: 0.2022 - accuracy: 0.9412 - val_loss: 0.6951 - val_accuracy: 0.7619\n",
            "Epoch 103/150\n",
            "4/4 [==============================] - 2s 453ms/step - loss: 0.2242 - accuracy: 0.9244 - val_loss: 0.6215 - val_accuracy: 0.6667\n",
            "Epoch 104/150\n",
            "4/4 [==============================] - 2s 462ms/step - loss: 0.2436 - accuracy: 0.8908 - val_loss: 0.5516 - val_accuracy: 0.7619\n",
            "Epoch 105/150\n",
            "4/4 [==============================] - 2s 457ms/step - loss: 0.2745 - accuracy: 0.8908 - val_loss: 0.5380 - val_accuracy: 0.7143\n",
            "Epoch 106/150\n",
            "4/4 [==============================] - 2s 509ms/step - loss: 0.2288 - accuracy: 0.9328 - val_loss: 0.3443 - val_accuracy: 0.8095\n",
            "Epoch 107/150\n",
            "4/4 [==============================] - 2s 452ms/step - loss: 0.2371 - accuracy: 0.8992 - val_loss: 0.3994 - val_accuracy: 0.8571\n",
            "Epoch 108/150\n",
            "4/4 [==============================] - 2s 452ms/step - loss: 0.2230 - accuracy: 0.8992 - val_loss: 0.4752 - val_accuracy: 0.8095\n",
            "Epoch 109/150\n",
            "4/4 [==============================] - 2s 449ms/step - loss: 0.1959 - accuracy: 0.9160 - val_loss: 0.4249 - val_accuracy: 0.7619\n",
            "Epoch 110/150\n",
            "4/4 [==============================] - 2s 444ms/step - loss: 0.2235 - accuracy: 0.9076 - val_loss: 0.4837 - val_accuracy: 0.8095\n",
            "Epoch 111/150\n",
            "4/4 [==============================] - 2s 470ms/step - loss: 0.2174 - accuracy: 0.9328 - val_loss: 0.4472 - val_accuracy: 0.7143\n",
            "Epoch 112/150\n",
            "4/4 [==============================] - 2s 463ms/step - loss: 0.1882 - accuracy: 0.9244 - val_loss: 0.5905 - val_accuracy: 0.7143\n",
            "Epoch 113/150\n",
            "4/4 [==============================] - 2s 450ms/step - loss: 0.2370 - accuracy: 0.9244 - val_loss: 0.5332 - val_accuracy: 0.7143\n",
            "Epoch 114/150\n",
            "4/4 [==============================] - 2s 496ms/step - loss: 0.2266 - accuracy: 0.9244 - val_loss: 0.4258 - val_accuracy: 0.7619\n",
            "Epoch 115/150\n",
            "4/4 [==============================] - 2s 456ms/step - loss: 0.2419 - accuracy: 0.8908 - val_loss: 0.3392 - val_accuracy: 0.8571\n",
            "Epoch 116/150\n",
            "4/4 [==============================] - 2s 461ms/step - loss: 0.1827 - accuracy: 0.9412 - val_loss: 0.4548 - val_accuracy: 0.7619\n",
            "Epoch 117/150\n",
            "4/4 [==============================] - 2s 447ms/step - loss: 0.2731 - accuracy: 0.9076 - val_loss: 0.6649 - val_accuracy: 0.6667\n",
            "Epoch 118/150\n",
            "4/4 [==============================] - 2s 457ms/step - loss: 0.2231 - accuracy: 0.9244 - val_loss: 0.3740 - val_accuracy: 0.8571\n",
            "Epoch 119/150\n",
            "4/4 [==============================] - 2s 463ms/step - loss: 0.2636 - accuracy: 0.8655 - val_loss: 0.4443 - val_accuracy: 0.7619\n",
            "Epoch 120/150\n",
            "4/4 [==============================] - 2s 461ms/step - loss: 0.2855 - accuracy: 0.8908 - val_loss: 0.4375 - val_accuracy: 0.7619\n",
            "Epoch 121/150\n",
            "4/4 [==============================] - 2s 497ms/step - loss: 0.2559 - accuracy: 0.8908 - val_loss: 0.4807 - val_accuracy: 0.7143\n",
            "Epoch 122/150\n",
            "4/4 [==============================] - 2s 458ms/step - loss: 0.2618 - accuracy: 0.8992 - val_loss: 0.4393 - val_accuracy: 0.7619\n",
            "Epoch 123/150\n",
            "4/4 [==============================] - 2s 505ms/step - loss: 0.2326 - accuracy: 0.9328 - val_loss: 0.5944 - val_accuracy: 0.8095\n",
            "Epoch 124/150\n",
            "4/4 [==============================] - 2s 460ms/step - loss: 0.2694 - accuracy: 0.8739 - val_loss: 0.4899 - val_accuracy: 0.7619\n",
            "Epoch 125/150\n",
            "4/4 [==============================] - 2s 458ms/step - loss: 0.2283 - accuracy: 0.9328 - val_loss: 0.4180 - val_accuracy: 0.8095\n",
            "Epoch 126/150\n",
            "4/4 [==============================] - 2s 455ms/step - loss: 0.2470 - accuracy: 0.9160 - val_loss: 0.5540 - val_accuracy: 0.6667\n",
            "Epoch 127/150\n",
            "4/4 [==============================] - 2s 459ms/step - loss: 0.2666 - accuracy: 0.8908 - val_loss: 0.4956 - val_accuracy: 0.5714\n",
            "Epoch 128/150\n",
            "4/4 [==============================] - 2s 504ms/step - loss: 0.1828 - accuracy: 0.9580 - val_loss: 0.3933 - val_accuracy: 0.8095\n",
            "Epoch 129/150\n",
            "4/4 [==============================] - 2s 450ms/step - loss: 0.1927 - accuracy: 0.9496 - val_loss: 0.4360 - val_accuracy: 0.8095\n",
            "Epoch 130/150\n",
            "4/4 [==============================] - 2s 506ms/step - loss: 0.2188 - accuracy: 0.9160 - val_loss: 0.4411 - val_accuracy: 0.7619\n",
            "Epoch 131/150\n",
            "4/4 [==============================] - 2s 457ms/step - loss: 0.2269 - accuracy: 0.9160 - val_loss: 0.4058 - val_accuracy: 0.7619\n",
            "Epoch 132/150\n",
            "4/4 [==============================] - 2s 466ms/step - loss: 0.2328 - accuracy: 0.9160 - val_loss: 0.4351 - val_accuracy: 0.7619\n",
            "Epoch 133/150\n",
            "4/4 [==============================] - 2s 500ms/step - loss: 0.2348 - accuracy: 0.9328 - val_loss: 0.3587 - val_accuracy: 0.8571\n",
            "Epoch 134/150\n",
            "4/4 [==============================] - 2s 461ms/step - loss: 0.2319 - accuracy: 0.9244 - val_loss: 0.6053 - val_accuracy: 0.7619\n",
            "Epoch 135/150\n",
            "4/4 [==============================] - 2s 504ms/step - loss: 0.2565 - accuracy: 0.9412 - val_loss: 0.4318 - val_accuracy: 0.8095\n",
            "Epoch 136/150\n",
            "4/4 [==============================] - 2s 461ms/step - loss: 0.2472 - accuracy: 0.8739 - val_loss: 0.3830 - val_accuracy: 0.8095\n",
            "Epoch 137/150\n",
            "4/4 [==============================] - 2s 460ms/step - loss: 0.1935 - accuracy: 0.9412 - val_loss: 0.3913 - val_accuracy: 0.8095\n",
            "Epoch 138/150\n",
            "4/4 [==============================] - 2s 459ms/step - loss: 0.2015 - accuracy: 0.9580 - val_loss: 0.4163 - val_accuracy: 0.7143\n",
            "Epoch 139/150\n",
            "4/4 [==============================] - 2s 496ms/step - loss: 0.2304 - accuracy: 0.9076 - val_loss: 0.5199 - val_accuracy: 0.8095\n",
            "Epoch 140/150\n",
            "4/4 [==============================] - 2s 465ms/step - loss: 0.2162 - accuracy: 0.9412 - val_loss: 0.3309 - val_accuracy: 0.8571\n",
            "Epoch 141/150\n",
            "4/4 [==============================] - 2s 460ms/step - loss: 0.2488 - accuracy: 0.9076 - val_loss: 0.6088 - val_accuracy: 0.7143\n",
            "Epoch 142/150\n",
            "4/4 [==============================] - 2s 457ms/step - loss: 0.2254 - accuracy: 0.9244 - val_loss: 0.4321 - val_accuracy: 0.7619\n",
            "Epoch 143/150\n",
            "4/4 [==============================] - 2s 462ms/step - loss: 0.2372 - accuracy: 0.9160 - val_loss: 0.3878 - val_accuracy: 0.8095\n",
            "Epoch 144/150\n",
            "4/4 [==============================] - 2s 458ms/step - loss: 0.2484 - accuracy: 0.9076 - val_loss: 0.5494 - val_accuracy: 0.7619\n",
            "Epoch 145/150\n",
            "4/4 [==============================] - 2s 472ms/step - loss: 0.2340 - accuracy: 0.8992 - val_loss: 0.3685 - val_accuracy: 0.7619\n",
            "Epoch 146/150\n",
            "4/4 [==============================] - 2s 465ms/step - loss: 0.2203 - accuracy: 0.9076 - val_loss: 0.4711 - val_accuracy: 0.6667\n",
            "Epoch 147/150\n",
            "4/4 [==============================] - 2s 470ms/step - loss: 0.2050 - accuracy: 0.9412 - val_loss: 0.4002 - val_accuracy: 0.7619\n",
            "Epoch 148/150\n",
            "4/4 [==============================] - 2s 480ms/step - loss: 0.2052 - accuracy: 0.9244 - val_loss: 0.5849 - val_accuracy: 0.6667\n",
            "Epoch 149/150\n",
            "4/4 [==============================] - 2s 494ms/step - loss: 0.2359 - accuracy: 0.9076 - val_loss: 0.4965 - val_accuracy: 0.8095\n",
            "Epoch 150/150\n",
            "4/4 [==============================] - 2s 493ms/step - loss: 0.1965 - accuracy: 0.9412 - val_loss: 0.4783 - val_accuracy: 0.8095\n"
          ],
          "name": "stdout"
        }
      ]
    },
    {
      "cell_type": "code",
      "metadata": {
        "id": "dAku6IwsoJCQ"
      },
      "source": [
        "model.save('/content/drive/My Drive/Colab Notebooks/聖馬爾定/Model/IncepRes_model_Original_224X224.h5')\n",
        "model.save_weights('/content/drive/My Drive/Colab Notebooks/聖馬爾定/Model/IncepRes_weight_Original_224X224.h5')"
      ],
      "execution_count": null,
      "outputs": []
    },
    {
      "cell_type": "code",
      "metadata": {
        "id": "f5OyxtTt81As"
      },
      "source": [
        "model = tf.keras.models.load_model('/content/drive/My Drive/Colab Notebooks/聖馬爾定/Model/Weights/IncepRes_model_Original.h5')"
      ],
      "execution_count": null,
      "outputs": []
    },
    {
      "cell_type": "code",
      "metadata": {
        "id": "0zl5RQ3w1Yh2"
      },
      "source": [
        "#model.summary()"
      ],
      "execution_count": null,
      "outputs": []
    },
    {
      "cell_type": "markdown",
      "metadata": {
        "id": "q4olXtiXJiP1"
      },
      "source": [
        "# Plot_History of Accuracy, Loss"
      ]
    },
    {
      "cell_type": "code",
      "metadata": {
        "id": "fUK3AmOZJqFL",
        "colab": {
          "base_uri": "https://localhost:8080/",
          "height": 330
        },
        "outputId": "46369592-dc7c-4e2c-e4d8-e876bf803808"
      },
      "source": [
        "N = EPOCHS\n",
        "plt.style.use(\"ggplot\")\n",
        "plt.figure()\n",
        "plt.plot(np.arange(0, N), H.history[\"accuracy\"], label=\"train_acc\")\n",
        "plt.plot(np.arange(0, N), H.history[\"val_accuracy\"], label=\"val_acc\")\n",
        "plt.title(\"Training Accuracy\")\n",
        "plt.xlabel(\"Epoch #\")\n",
        "plt.ylabel(\"Accuracy\")\n",
        "#plt.ylim(0, 1)\n",
        "# plt.legend(loc=\"best\")"
      ],
      "execution_count": null,
      "outputs": [
        {
          "output_type": "execute_result",
          "data": {
            "text/plain": [
              "Text(0, 0.5, 'Accuracy')"
            ]
          },
          "metadata": {
            "tags": []
          },
          "execution_count": 101
        },
        {
          "output_type": "display_data",
          "data": {
            "image/png": "[encoded data removed]",
            "text/plain": [
              "<Figure size 432x288 with 1 Axes>"
            ]
          },
          "metadata": {
            "tags": []
          }
        }
      ]
    },
    {
      "cell_type": "code",
      "metadata": {
        "colab": {
          "base_uri": "https://localhost:8080/",
          "height": 330
        },
        "id": "QA3OvXTwoSzq",
        "outputId": "8b735258-f87c-4e93-f311-09fe7e2a35e7"
      },
      "source": [
        "plt.figure()\n",
        "plt.plot(np.arange(0, N), H.history[\"loss\"], label=\"train_loss\")\n",
        "plt.plot(np.arange(0, N), H.history[\"val_loss\"], label=\"val_loss\")\n",
        "plt.title(\"Training Loss\")\n",
        "plt.xlabel(\"Epoch #\")\n",
        "plt.ylabel(\"Loss\")"
      ],
      "execution_count": null,
      "outputs": [
        {
          "output_type": "execute_result",
          "data": {
            "text/plain": [
              "Text(0, 0.5, 'Loss')"
            ]
          },
          "metadata": {
            "tags": []
          },
          "execution_count": 102
        },
        {
          "output_type": "display_data",
          "data": {
            "image/png": "[encoded data removed]",
            "text/plain": [
              "<Figure size 432x288 with 1 Axes>"
            ]
          },
          "metadata": {
            "tags": []
          }
        }
      ]
    },
    {
      "cell_type": "markdown",
      "metadata": {
        "id": "5x6fev6PFwnT"
      },
      "source": [
        "# Model_Predict"
      ]
    },
    {
      "cell_type": "markdown",
      "metadata": {
        "id": "u1vV6knxd3dJ"
      },
      "source": [
        "Train_Predict"
      ]
    },
    {
      "cell_type": "code",
      "metadata": {
        "id": "G11v4arUd65T",
        "colab": {
          "base_uri": "https://localhost:8080/"
        },
        "outputId": "a82565b6-0ad2-4996-def3-4be05f067e09"
      },
      "source": [
        "train_gen = ImageDataGenerator(rescale=1./255)\n",
        "\n",
        "train_generator_test = train_gen.flow_from_dataframe(\n",
        "    train_df, \n",
        "    '/content/drive/MyDrive/Colab Notebooks/聖馬爾定/Dataset/Original_224X224/', \n",
        "    x_col='path', \n",
        "    y_col=None, \n",
        "    class_mode=None, \n",
        "    target_size=image_size, \n",
        "    batch_size=1,\n",
        "    shuffle=False\n",
        ")"
      ],
      "execution_count": null,
      "outputs": [
        {
          "output_type": "stream",
          "text": [
            "Found 140 validated image filenames.\n"
          ],
          "name": "stdout"
        }
      ]
    },
    {
      "cell_type": "code",
      "metadata": {
        "id": "LRoz_bkLef7i"
      },
      "source": [
        "predict = model.predict(train_generator_test)"
      ],
      "execution_count": null,
      "outputs": []
    },
    {
      "cell_type": "code",
      "metadata": {
        "id": "8MKtH79Keidy"
      },
      "source": [
        "train_predict = np.argmax(predict, axis=-1).astype('str')"
      ],
      "execution_count": null,
      "outputs": []
    },
    {
      "cell_type": "code",
      "metadata": {
        "id": "OGUY6k8RyJqm",
        "colab": {
          "base_uri": "https://localhost:8080/"
        },
        "outputId": "e08f71e7-6ad5-4716-c45b-04128e0bc736"
      },
      "source": [
        "train_df['predict'] = train_predict"
      ],
      "execution_count": null,
      "outputs": [
        {
          "output_type": "stream",
          "text": [
            "/usr/local/lib/python3.6/dist-packages/ipykernel_launcher.py:1: SettingWithCopyWarning: \n",
            "A value is trying to be set on a copy of a slice from a DataFrame.\n",
            "Try using .loc[row_indexer,col_indexer] = value instead\n",
            "\n",
            "See the caveats in the documentation: https://pandas.pydata.org/pandas-docs/stable/user_guide/indexing.html#returning-a-view-versus-a-copy\n",
            "  \"\"\"Entry point for launching an IPython kernel.\n"
          ],
          "name": "stderr"
        }
      ]
    },
    {
      "cell_type": "code",
      "metadata": {
        "id": "GA4X2-rYekBh",
        "colab": {
          "base_uri": "https://localhost:8080/",
          "height": 297
        },
        "outputId": "20b4206e-f81c-4280-8ab2-b5c85eaaa259"
      },
      "source": [
        "train_df[train_df['label'] != train_df['predict']]"
      ],
      "execution_count": null,
      "outputs": [
        {
          "output_type": "execute_result",
          "data": {
            "text/html": [
              "<div>\n",
              "<style scoped>\n",
              "    .dataframe tbody tr th:only-of-type {\n",
              "        vertical-align: middle;\n",
              "    }\n",
              "\n",
              "    .dataframe tbody tr th {\n",
              "        vertical-align: top;\n",
              "    }\n",
              "\n",
              "    .dataframe thead th {\n",
              "        text-align: right;\n",
              "    }\n",
              "</style>\n",
              "<table border=\"1\" class=\"dataframe\">\n",
              "  <thead>\n",
              "    <tr style=\"text-align: right;\">\n",
              "      <th></th>\n",
              "      <th>picture_name</th>\n",
              "      <th>label</th>\n",
              "      <th>path</th>\n",
              "      <th>predict</th>\n",
              "    </tr>\n",
              "  </thead>\n",
              "  <tbody>\n",
              "    <tr>\n",
              "      <th>2</th>\n",
              "      <td>0009911_0804032249_I00060161231_1.jpg</td>\n",
              "      <td>0</td>\n",
              "      <td>0/0009911_0804032249_I00060161231_1.jpg</td>\n",
              "      <td>1</td>\n",
              "    </tr>\n",
              "    <tr>\n",
              "      <th>39</th>\n",
              "      <td>4595198_0512120848_I00042975881_1.jpg</td>\n",
              "      <td>1</td>\n",
              "      <td>1/4595198_0512120848_I00042975881_1.jpg</td>\n",
              "      <td>0</td>\n",
              "    </tr>\n",
              "    <tr>\n",
              "      <th>77</th>\n",
              "      <td>0945091_0707210724_I00054748312_1.jpg</td>\n",
              "      <td>0</td>\n",
              "      <td>0/0945091_0707210724_I00054748312_1.jpg</td>\n",
              "      <td>1</td>\n",
              "    </tr>\n",
              "    <tr>\n",
              "      <th>3</th>\n",
              "      <td>7256531_0709271027_I00056184218_1.jpg</td>\n",
              "      <td>1</td>\n",
              "      <td>1/7256531_0709271027_I00056184218_1.jpg</td>\n",
              "      <td>0</td>\n",
              "    </tr>\n",
              "    <tr>\n",
              "      <th>8</th>\n",
              "      <td>0009911_0804032249_I00060161232_1.jpg</td>\n",
              "      <td>0</td>\n",
              "      <td>0/0009911_0804032249_I00060161232_1.jpg</td>\n",
              "      <td>1</td>\n",
              "    </tr>\n",
              "    <tr>\n",
              "      <th>6</th>\n",
              "      <td>0591728_0609211214_I00048777599_1.jpg</td>\n",
              "      <td>1</td>\n",
              "      <td>1/0591728_0609211214_I00048777599_1.jpg</td>\n",
              "      <td>0</td>\n",
              "    </tr>\n",
              "    <tr>\n",
              "      <th>33</th>\n",
              "      <td>0208952_0602130355_I00044189823_1.jpg</td>\n",
              "      <td>1</td>\n",
              "      <td>1/0208952_0602130355_I00044189823_1.jpg</td>\n",
              "      <td>0</td>\n",
              "    </tr>\n",
              "    <tr>\n",
              "      <th>99</th>\n",
              "      <td>8702765_0703121563_I00051982783_1.jpg</td>\n",
              "      <td>0</td>\n",
              "      <td>0/8702765_0703121563_I00051982783_1.jpg</td>\n",
              "      <td>1</td>\n",
              "    </tr>\n",
              "  </tbody>\n",
              "</table>\n",
              "</div>"
            ],
            "text/plain": [
              "                             picture_name  ... predict\n",
              "2   0009911_0804032249_I00060161231_1.jpg  ...       1\n",
              "39  4595198_0512120848_I00042975881_1.jpg  ...       0\n",
              "77  0945091_0707210724_I00054748312_1.jpg  ...       1\n",
              "3   7256531_0709271027_I00056184218_1.jpg  ...       0\n",
              "8   0009911_0804032249_I00060161232_1.jpg  ...       1\n",
              "6   0591728_0609211214_I00048777599_1.jpg  ...       0\n",
              "33  0208952_0602130355_I00044189823_1.jpg  ...       0\n",
              "99  8702765_0703121563_I00051982783_1.jpg  ...       1\n",
              "\n",
              "[8 rows x 4 columns]"
            ]
          },
          "metadata": {
            "tags": []
          },
          "execution_count": 82
        }
      ]
    },
    {
      "cell_type": "markdown",
      "metadata": {
        "id": "PVpMiQJeF5tv"
      },
      "source": [
        "Test_Predict"
      ]
    },
    {
      "cell_type": "code",
      "metadata": {
        "id": "c8mYdeFw_ayI"
      },
      "source": [
        "predict = model.predict(test_generator)"
      ],
      "execution_count": null,
      "outputs": []
    },
    {
      "cell_type": "code",
      "metadata": {
        "id": "q4861XH3Wv5W"
      },
      "source": [
        "test_predict = np.argmax(predict, axis=-1).astype('str')"
      ],
      "execution_count": null,
      "outputs": []
    },
    {
      "cell_type": "code",
      "metadata": {
        "id": "MQqLtgjGA8Xu",
        "colab": {
          "base_uri": "https://localhost:8080/"
        },
        "outputId": "73d8f355-f343-4172-ad28-b4130cfac8db"
      },
      "source": [
        "test_df['predict'] = test_predict"
      ],
      "execution_count": null,
      "outputs": [
        {
          "output_type": "stream",
          "text": [
            "/usr/local/lib/python3.6/dist-packages/ipykernel_launcher.py:1: SettingWithCopyWarning: \n",
            "A value is trying to be set on a copy of a slice from a DataFrame.\n",
            "Try using .loc[row_indexer,col_indexer] = value instead\n",
            "\n",
            "See the caveats in the documentation: https://pandas.pydata.org/pandas-docs/stable/user_guide/indexing.html#returning-a-view-versus-a-copy\n",
            "  \"\"\"Entry point for launching an IPython kernel.\n"
          ],
          "name": "stderr"
        }
      ]
    },
    {
      "cell_type": "code",
      "metadata": {
        "id": "_e-ApLNTBFcs",
        "colab": {
          "base_uri": "https://localhost:8080/",
          "height": 49
        },
        "outputId": "0407f353-0425-4167-cf15-5f7ccf9c6b3e"
      },
      "source": [
        "test_df[test_df['label'] != test_df['predict']]"
      ],
      "execution_count": null,
      "outputs": [
        {
          "output_type": "execute_result",
          "data": {
            "text/html": [
              "<div>\n",
              "<style scoped>\n",
              "    .dataframe tbody tr th:only-of-type {\n",
              "        vertical-align: middle;\n",
              "    }\n",
              "\n",
              "    .dataframe tbody tr th {\n",
              "        vertical-align: top;\n",
              "    }\n",
              "\n",
              "    .dataframe thead th {\n",
              "        text-align: right;\n",
              "    }\n",
              "</style>\n",
              "<table border=\"1\" class=\"dataframe\">\n",
              "  <thead>\n",
              "    <tr style=\"text-align: right;\">\n",
              "      <th></th>\n",
              "      <th>picture_name</th>\n",
              "      <th>label</th>\n",
              "      <th>path</th>\n",
              "      <th>predict</th>\n",
              "    </tr>\n",
              "  </thead>\n",
              "  <tbody>\n",
              "  </tbody>\n",
              "</table>\n",
              "</div>"
            ],
            "text/plain": [
              "Empty DataFrame\n",
              "Columns: [picture_name, label, path, predict]\n",
              "Index: []"
            ]
          },
          "metadata": {
            "tags": []
          },
          "execution_count": 86
        }
      ]
    },
    {
      "cell_type": "code",
      "metadata": {
        "id": "60AINeCcXmVP"
      },
      "source": [
        "concate = pd.concat([train_df, test_df], axis=0, ignore_index=False)\n",
        "concate = concate.sort_values(by=['picture_name'])\n",
        "concate.to_csv('Org.csv', index=0)"
      ],
      "execution_count": null,
      "outputs": []
    },
    {
      "cell_type": "markdown",
      "metadata": {
        "id": "KC3qBT1PHiz2"
      },
      "source": [
        "# Performance"
      ]
    },
    {
      "cell_type": "markdown",
      "metadata": {
        "id": "BKRP5B0AyBfh"
      },
      "source": [
        "Train"
      ]
    },
    {
      "cell_type": "code",
      "metadata": {
        "id": "kcnfnl6IV7S1",
        "colab": {
          "base_uri": "https://localhost:8080/",
          "height": 142
        },
        "outputId": "1b8df659-196c-4164-de34-1722d2e07fcc"
      },
      "source": [
        "y_test = train_df['label'].astype('int32').values\n",
        "pre_y = train_df['predict'].astype('int32').values\n",
        "\n",
        "confusion_train = confusion_matrix(y_test, pre_y)\n",
        "df_confusion_test = pd.DataFrame(confusion_train, columns=['Negative', 'Positive'], index=['Negative', 'Positive'])\n",
        "df_confusion_test.index.name = 'Real'\n",
        "df_confusion_test.columns.name = 'Predict'\n",
        "\n",
        "df_confusion_test"
      ],
      "execution_count": null,
      "outputs": [
        {
          "output_type": "execute_result",
          "data": {
            "text/html": [
              "<div>\n",
              "<style scoped>\n",
              "    .dataframe tbody tr th:only-of-type {\n",
              "        vertical-align: middle;\n",
              "    }\n",
              "\n",
              "    .dataframe tbody tr th {\n",
              "        vertical-align: top;\n",
              "    }\n",
              "\n",
              "    .dataframe thead th {\n",
              "        text-align: right;\n",
              "    }\n",
              "</style>\n",
              "<table border=\"1\" class=\"dataframe\">\n",
              "  <thead>\n",
              "    <tr style=\"text-align: right;\">\n",
              "      <th>Predict</th>\n",
              "      <th>Negative</th>\n",
              "      <th>Positive</th>\n",
              "    </tr>\n",
              "    <tr>\n",
              "      <th>Real</th>\n",
              "      <th></th>\n",
              "      <th></th>\n",
              "    </tr>\n",
              "  </thead>\n",
              "  <tbody>\n",
              "    <tr>\n",
              "      <th>Negative</th>\n",
              "      <td>85</td>\n",
              "      <td>4</td>\n",
              "    </tr>\n",
              "    <tr>\n",
              "      <th>Positive</th>\n",
              "      <td>4</td>\n",
              "      <td>47</td>\n",
              "    </tr>\n",
              "  </tbody>\n",
              "</table>\n",
              "</div>"
            ],
            "text/plain": [
              "Predict   Negative  Positive\n",
              "Real                        \n",
              "Negative        85         4\n",
              "Positive         4        47"
            ]
          },
          "metadata": {
            "tags": []
          },
          "execution_count": 88
        }
      ]
    },
    {
      "cell_type": "code",
      "metadata": {
        "id": "s-HLFZ8lyIER",
        "colab": {
          "base_uri": "https://localhost:8080/",
          "height": 487
        },
        "outputId": "78e8cfbb-a681-422f-e46e-7d30aeefcc5c"
      },
      "source": [
        "y_test = train_df['label'].astype('int32').values\n",
        "pre_y = train_df['predict'].astype('int32').values\n",
        "\n",
        "confusion_train = confusion_matrix(y_test, pre_y)\n",
        "df_confusion_test = pd.DataFrame(confusion_train, columns=['Negative', 'Positive'], index=['Negative', 'Positive'])\n",
        "df_confusion_test.index.name = 'Real'\n",
        "df_confusion_test.columns.name = 'Predict'\n",
        "\n",
        "SMALL_SIZE = 24\n",
        "MEDIUM_SIZE = 24\n",
        "BIGGER_SIZE = 12\n",
        "\n",
        "plt.figure(figsize = (10,7))\n",
        "plt.rc('font', size=SMALL_SIZE)          # controls default text sizes\n",
        "plt.rc('axes', titlesize=SMALL_SIZE)     # fontsize of the axes title\n",
        "plt.rc('axes', labelsize=MEDIUM_SIZE)    # fontsize of the x and y labels\n",
        "plt.rc('xtick', labelsize=SMALL_SIZE)    # fontsize of the tick labels\n",
        "plt.rc('ytick', labelsize=SMALL_SIZE)    # fontsize of the tick labels\n",
        "plt.rc('legend', fontsize=SMALL_SIZE)    # legend fontsize\n",
        "plt.rc('figure', titlesize=BIGGER_SIZE)\n",
        "sn.heatmap(df_confusion_test, annot=True)"
      ],
      "execution_count": null,
      "outputs": [
        {
          "output_type": "execute_result",
          "data": {
            "text/plain": [
              "<matplotlib.axes._subplots.AxesSubplot at 0x7fd88ee08e80>"
            ]
          },
          "metadata": {
            "tags": []
          },
          "execution_count": 89
        },
        {
          "output_type": "display_data",
          "data": {
            "image/png": "[encoded data removed]",
            "text/plain": [
              "<Figure size 720x504 with 2 Axes>"
            ]
          },
          "metadata": {
            "tags": [],
            "needs_background": "light"
          }
        }
      ]
    },
    {
      "cell_type": "code",
      "metadata": {
        "id": "fGPh-atQyv5i",
        "colab": {
          "base_uri": "https://localhost:8080/",
          "height": 546
        },
        "outputId": "cf80cff7-eda9-40b9-dc27-0ab6c2785341"
      },
      "source": [
        "fpr, tpr, thresholds = roc_curve(y_test, pre_y)\n",
        "\n",
        "AUC = auc(fpr, tpr)\n",
        "\n",
        "#Accuracy\n",
        "accuracy = accuracy_score(y_test, pre_y)\n",
        "\n",
        "precision = precision_score(y_test, pre_y)\n",
        "\n",
        "recall = recall_score(y_test, pre_y)\n",
        "\n",
        "f1 = f1_score(y_test, pre_y)\n",
        "\n",
        "df_metrics_train = pd.DataFrame([[AUC, accuracy, precision, recall, f1]], columns=['auc', 'accuracy', 'precision', 'recall', 'f1'], index=['result'])\n",
        "print(df_metrics_train)\n",
        "\n",
        "plt.figure(figsize=(8, 7))\n",
        "plt.plot(fpr, tpr, label='ROC')\n",
        "plt.plot([0, 1], [0, 1], linestyle='--', color='k')\n",
        "\n",
        "plt.title('ROC')\n",
        "plt.xlabel('false positive rate')\n",
        "plt.ylabel('true positive rate')\n",
        "plt.legend(loc=0)"
      ],
      "execution_count": null,
      "outputs": [
        {
          "output_type": "stream",
          "text": [
            "             auc  accuracy  precision    recall        f1\n",
            "result  0.938312  0.942857   0.921569  0.921569  0.921569\n"
          ],
          "name": "stdout"
        },
        {
          "output_type": "execute_result",
          "data": {
            "text/plain": [
              "<matplotlib.legend.Legend at 0x7fd885cd7eb8>"
            ]
          },
          "metadata": {
            "tags": []
          },
          "execution_count": 90
        },
        {
          "output_type": "display_data",
          "data": {
            "image/png": "[encoded data removed]",
            "text/plain": [
              "<Figure size 576x504 with 1 Axes>"
            ]
          },
          "metadata": {
            "tags": [],
            "needs_background": "light"
          }
        }
      ]
    },
    {
      "cell_type": "markdown",
      "metadata": {
        "id": "Ue9QReD4yAFt"
      },
      "source": [
        "Test"
      ]
    },
    {
      "cell_type": "code",
      "metadata": {
        "id": "i-lBD9EkJFQ8"
      },
      "source": [
        "y_test = test_df['label'].astype('int32').values\n",
        "pre_y = test_df['predict'].astype('int32').values"
      ],
      "execution_count": null,
      "outputs": []
    },
    {
      "cell_type": "code",
      "metadata": {
        "id": "eePQ-GonHl7w"
      },
      "source": [
        "confusion_test = confusion_matrix(y_test, pre_y)"
      ],
      "execution_count": null,
      "outputs": []
    },
    {
      "cell_type": "code",
      "metadata": {
        "id": "D9w0Zd4GIBtW",
        "colab": {
          "base_uri": "https://localhost:8080/"
        },
        "outputId": "289a971e-f98d-4f45-be6e-2674c8515ca8"
      },
      "source": [
        "confusion_test"
      ],
      "execution_count": null,
      "outputs": [
        {
          "output_type": "execute_result",
          "data": {
            "text/plain": [
              "array([[18,  0],\n",
              "       [ 0,  7]])"
            ]
          },
          "metadata": {
            "tags": []
          },
          "execution_count": 93
        }
      ]
    },
    {
      "cell_type": "code",
      "metadata": {
        "id": "s2H9srTgIDnG"
      },
      "source": [
        "df_confusion_test = pd.DataFrame(confusion_test, columns=['Negative', 'Positive'], index=['Negative', 'Positive'])"
      ],
      "execution_count": null,
      "outputs": []
    },
    {
      "cell_type": "code",
      "metadata": {
        "id": "nEaIQy9_IYHn",
        "colab": {
          "base_uri": "https://localhost:8080/",
          "height": 142
        },
        "outputId": "17fe46e3-2ce1-441c-8f7a-b1168bae0132"
      },
      "source": [
        "df_confusion_test.index.name = 'Real'\n",
        "df_confusion_test.columns.name = 'Predict'\n",
        "df_confusion_test"
      ],
      "execution_count": null,
      "outputs": [
        {
          "output_type": "execute_result",
          "data": {
            "text/html": [
              "<div>\n",
              "<style scoped>\n",
              "    .dataframe tbody tr th:only-of-type {\n",
              "        vertical-align: middle;\n",
              "    }\n",
              "\n",
              "    .dataframe tbody tr th {\n",
              "        vertical-align: top;\n",
              "    }\n",
              "\n",
              "    .dataframe thead th {\n",
              "        text-align: right;\n",
              "    }\n",
              "</style>\n",
              "<table border=\"1\" class=\"dataframe\">\n",
              "  <thead>\n",
              "    <tr style=\"text-align: right;\">\n",
              "      <th>Predict</th>\n",
              "      <th>Negative</th>\n",
              "      <th>Positive</th>\n",
              "    </tr>\n",
              "    <tr>\n",
              "      <th>Real</th>\n",
              "      <th></th>\n",
              "      <th></th>\n",
              "    </tr>\n",
              "  </thead>\n",
              "  <tbody>\n",
              "    <tr>\n",
              "      <th>Negative</th>\n",
              "      <td>18</td>\n",
              "      <td>0</td>\n",
              "    </tr>\n",
              "    <tr>\n",
              "      <th>Positive</th>\n",
              "      <td>0</td>\n",
              "      <td>7</td>\n",
              "    </tr>\n",
              "  </tbody>\n",
              "</table>\n",
              "</div>"
            ],
            "text/plain": [
              "Predict   Negative  Positive\n",
              "Real                        \n",
              "Negative        18         0\n",
              "Positive         0         7"
            ]
          },
          "metadata": {
            "tags": []
          },
          "execution_count": 95
        }
      ]
    },
    {
      "cell_type": "code",
      "metadata": {
        "id": "S4EaHBDmWChz",
        "colab": {
          "base_uri": "https://localhost:8080/",
          "height": 487
        },
        "outputId": "00b298e4-3e49-4f39-e7f4-f9222519e4cf"
      },
      "source": [
        "plt.figure(figsize = (10,7))\n",
        "plt.rc('font', size=SMALL_SIZE)          # controls default text sizes\n",
        "plt.rc('axes', titlesize=SMALL_SIZE)     # fontsize of the axes title\n",
        "plt.rc('axes', labelsize=MEDIUM_SIZE)    # fontsize of the x and y labels\n",
        "plt.rc('xtick', labelsize=SMALL_SIZE)    # fontsize of the tick labels\n",
        "plt.rc('ytick', labelsize=SMALL_SIZE)    # fontsize of the tick labels\n",
        "plt.rc('legend', fontsize=SMALL_SIZE)    # legend fontsize\n",
        "plt.rc('figure', titlesize=BIGGER_SIZE)\n",
        "sn.heatmap(df_confusion_test, annot=True)"
      ],
      "execution_count": null,
      "outputs": [
        {
          "output_type": "execute_result",
          "data": {
            "text/plain": [
              "<matplotlib.axes._subplots.AxesSubplot at 0x7fd88ee082e8>"
            ]
          },
          "metadata": {
            "tags": []
          },
          "execution_count": 96
        },
        {
          "output_type": "display_data",
          "data": {
            "image/png": "[encoded data removed]",
            "text/plain": [
              "<Figure size 720x504 with 2 Axes>"
            ]
          },
          "metadata": {
            "tags": [],
            "needs_background": "light"
          }
        }
      ]
    },
    {
      "cell_type": "code",
      "metadata": {
        "id": "1dZCbVNmIZVo",
        "colab": {
          "base_uri": "https://localhost:8080/",
          "height": 80
        },
        "outputId": "dcdafadb-2d82-4193-8268-755b65ac83a3"
      },
      "source": [
        "fpr, tpr, thresholds = roc_curve(y_test, pre_y)\n",
        "\n",
        "AUC = auc(fpr, tpr)\n",
        "\n",
        "#Accuracy\n",
        "accuracy = accuracy_score(y_test, pre_y)\n",
        "\n",
        "precision = precision_score(y_test, pre_y)\n",
        "\n",
        "recall = recall_score(y_test, pre_y)\n",
        "\n",
        "f1 = f1_score(y_test, pre_y)\n",
        "\n",
        "df_metrics_test = pd.DataFrame([[AUC, accuracy, precision, recall, f1]], columns=['auc', 'accuracy', 'precision', 'recall', 'f1'], index=['result'])\n",
        "df_metrics_test"
      ],
      "execution_count": null,
      "outputs": [
        {
          "output_type": "execute_result",
          "data": {
            "text/html": [
              "<div>\n",
              "<style scoped>\n",
              "    .dataframe tbody tr th:only-of-type {\n",
              "        vertical-align: middle;\n",
              "    }\n",
              "\n",
              "    .dataframe tbody tr th {\n",
              "        vertical-align: top;\n",
              "    }\n",
              "\n",
              "    .dataframe thead th {\n",
              "        text-align: right;\n",
              "    }\n",
              "</style>\n",
              "<table border=\"1\" class=\"dataframe\">\n",
              "  <thead>\n",
              "    <tr style=\"text-align: right;\">\n",
              "      <th></th>\n",
              "      <th>auc</th>\n",
              "      <th>accuracy</th>\n",
              "      <th>precision</th>\n",
              "      <th>recall</th>\n",
              "      <th>f1</th>\n",
              "    </tr>\n",
              "  </thead>\n",
              "  <tbody>\n",
              "    <tr>\n",
              "      <th>result</th>\n",
              "      <td>1.0</td>\n",
              "      <td>1.0</td>\n",
              "      <td>1.0</td>\n",
              "      <td>1.0</td>\n",
              "      <td>1.0</td>\n",
              "    </tr>\n",
              "  </tbody>\n",
              "</table>\n",
              "</div>"
            ],
            "text/plain": [
              "        auc  accuracy  precision  recall   f1\n",
              "result  1.0       1.0        1.0     1.0  1.0"
            ]
          },
          "metadata": {
            "tags": []
          },
          "execution_count": 97
        }
      ]
    },
    {
      "cell_type": "code",
      "metadata": {
        "id": "3cwVZ2AtI53N",
        "colab": {
          "base_uri": "https://localhost:8080/",
          "height": 512
        },
        "outputId": "d8ceb897-30a9-489e-d739-93b39eff8739"
      },
      "source": [
        "plt.figure(figsize=(8, 7))\n",
        "plt.plot(fpr, tpr, label='ROC')\n",
        "plt.plot([0, 1], [0, 1], linestyle='--', color='k')\n",
        "\n",
        "plt.title('ROC')\n",
        "plt.xlabel('false positive rate')\n",
        "plt.ylabel('true positive rate')\n",
        "plt.legend(loc=0)"
      ],
      "execution_count": null,
      "outputs": [
        {
          "output_type": "execute_result",
          "data": {
            "text/plain": [
              "<matplotlib.legend.Legend at 0x7fd885f82470>"
            ]
          },
          "metadata": {
            "tags": []
          },
          "execution_count": 98
        },
        {
          "output_type": "display_data",
          "data": {
            "image/png": "[encoded data removed]",
            "text/plain": [
              "<Figure size 576x504 with 1 Axes>"
            ]
          },
          "metadata": {
            "tags": [],
            "needs_background": "light"
          }
        }
      ]
    },
    {
      "cell_type": "markdown",
      "metadata": {
        "id": "eBEkFG1LGjqD"
      },
      "source": [
        "# Cross Validation"
      ]
    },
    {
      "cell_type": "code",
      "metadata": {
        "id": "1OvyQQ0XZd6i"
      },
      "source": [
        "def create_new_model():\n",
        "  baseModel = InceptionResNetV2(weights=\"imagenet\", include_top=False,\n",
        "                  input_tensor=Input(shape=(image_size[0], image_size[1], 3)))\n",
        "  \n",
        "  headModel = baseModel.output\n",
        "  headModel = AveragePooling2D(pool_size=(4, 4))(headModel)\n",
        "  headModel = Flatten(name=\"flatten\")(headModel)\n",
        "  headModel = Dense(64, activation=\"relu\")(headModel)\n",
        "  headModel = Dropout(0.5)(headModel)\n",
        "  headModel = Dense(2, activation=\"softmax\", name=\"predictions\")(headModel)\n",
        "  \n",
        "  model = Model(inputs=baseModel.input, outputs=headModel)\n",
        "  \n",
        "  for layer in baseModel.layers:\n",
        "    layer.trainable = False\n",
        "  \n",
        "  opt = Adam(lr=INIT_LR, decay=INIT_LR / EPOCHS)\n",
        "  model.compile(loss=\"categorical_crossentropy\", optimizer=opt,metrics=[\"accuracy\"])\n",
        "\n",
        "  return model"
      ],
      "execution_count": null,
      "outputs": []
    },
    {
      "cell_type": "code",
      "metadata": {
        "id": "dmHOcuU7m9Lc"
      },
      "source": [
        "kf = StratifiedKFold(n_splits=5, shuffle=True, random_state=seed)\n",
        "Y = alldata[['label']]\n",
        "\n",
        "train_cv_datagen = ImageDataGenerator(rotation_range=15, \n",
        "                                   rescale=1./255, \n",
        "                                   shear_range=0.1, \n",
        "                                   zoom_range=0.2,\n",
        "                                   brightness_range = [1.4, 1.4],\n",
        "                                   horizontal_flip=True,\n",
        "                                   width_shift_range=0.1,\n",
        "                                   height_shift_range=0.1)"
      ],
      "execution_count": null,
      "outputs": []
    },
    {
      "cell_type": "code",
      "metadata": {
        "id": "Jxw5zkeuHD1m"
      },
      "source": [
        "accuracy = []\n",
        "precision = []\n",
        "recall = []\n",
        "f1 = []\n",
        "\n",
        "k_fold = 1\n",
        "\n",
        "for train_index, test_index in kf.split(np.zeros(len(alldata)),Y):\n",
        "  training_data = alldata.iloc[train_index]\n",
        "  test_data = alldata.iloc[test_index]\n",
        "\n",
        "  train_generator = train_cv_datagen.flow_from_dataframe(training_data, \n",
        "                                                    '/content/drive/MyDrive/Colab Notebooks/聖馬爾定/Dataset/Original_224X224/', \n",
        "                                                    x_col='path', \n",
        "                                                    y_col='label', \n",
        "                                                    target_size=image_size, \n",
        "                                                    class_mode='categorical', \n",
        "                                                    batch_size=BS,\n",
        "                                                    seed=40)\n",
        "  \n",
        "  validation_generator = train_cv_datagen.flow_from_dataframe(test_data, \n",
        "                                                    '/content/drive/MyDrive/Colab Notebooks/聖馬爾定/Dataset/Original_224X224/', \n",
        "                                                    x_col='path', \n",
        "                                                    y_col='label', \n",
        "                                                    target_size=image_size, \n",
        "                                                    class_mode='categorical', \n",
        "                                                    batch_size=BS,\n",
        "                                                    seed=40)\n",
        "  \n",
        "  model = create_new_model()\n",
        "\n",
        "  learning_rate_reduction = ReduceLROnPlateau(monitor='val_loss', \n",
        "                                            patience=7, \n",
        "                                            factor=0.5, \n",
        "                                            min_lr=0.00001)\n",
        "  callbacks = [learning_rate_reduction]\n",
        "  \n",
        "  H = model.fit(\n",
        "      train_generator,\n",
        "      epochs=EPOCHS,\n",
        "      validation_data= validation_generator,\n",
        "      callbacks=callbacks\n",
        "      )\n",
        "  \n",
        "  model.save('/content/drive/My Drive/Colab Notebooks/聖馬爾定/Model/Weights/Cross_Validation/original_224X224/IncepRes_model_'+ str(k_fold) +'_Original.h5')\n",
        "\n",
        "  results = model.evaluate(validation_generator)\n",
        "  results = dict(zip(model.metrics_names,results))\n",
        "  accuracy.append(results['accuracy'])\n",
        "\n",
        "  tf.keras.backend.clear_session()\n",
        "\n",
        "  k_fold += 1"
      ],
      "execution_count": null,
      "outputs": []
    },
    {
      "cell_type": "code",
      "metadata": {
        "id": "CQy3kJMtfFn5",
        "colab": {
          "base_uri": "https://localhost:8080/",
          "height": 204
        },
        "outputId": "b718cb12-3fc3-4d01-bbaf-0372d13d1565"
      },
      "source": [
        "performance = pd.DataFrame(accuracy, columns=['Accuracy'])\n",
        "# performance['Precision'] = precision\n",
        "# performance['Recall'] = recall\n",
        "# performance['F1'] = f1\n",
        "\n",
        "performance"
      ],
      "execution_count": null,
      "outputs": [
        {
          "output_type": "execute_result",
          "data": {
            "text/html": [
              "<div>\n",
              "<style scoped>\n",
              "    .dataframe tbody tr th:only-of-type {\n",
              "        vertical-align: middle;\n",
              "    }\n",
              "\n",
              "    .dataframe tbody tr th {\n",
              "        vertical-align: top;\n",
              "    }\n",
              "\n",
              "    .dataframe thead th {\n",
              "        text-align: right;\n",
              "    }\n",
              "</style>\n",
              "<table border=\"1\" class=\"dataframe\">\n",
              "  <thead>\n",
              "    <tr style=\"text-align: right;\">\n",
              "      <th></th>\n",
              "      <th>Accuracy</th>\n",
              "    </tr>\n",
              "  </thead>\n",
              "  <tbody>\n",
              "    <tr>\n",
              "      <th>0</th>\n",
              "      <td>0.818182</td>\n",
              "    </tr>\n",
              "    <tr>\n",
              "      <th>1</th>\n",
              "      <td>0.878788</td>\n",
              "    </tr>\n",
              "    <tr>\n",
              "      <th>2</th>\n",
              "      <td>0.848485</td>\n",
              "    </tr>\n",
              "    <tr>\n",
              "      <th>3</th>\n",
              "      <td>0.696970</td>\n",
              "    </tr>\n",
              "    <tr>\n",
              "      <th>4</th>\n",
              "      <td>0.939394</td>\n",
              "    </tr>\n",
              "  </tbody>\n",
              "</table>\n",
              "</div>"
            ],
            "text/plain": [
              "   Accuracy\n",
              "0  0.818182\n",
              "1  0.878788\n",
              "2  0.848485\n",
              "3  0.696970\n",
              "4  0.939394"
            ]
          },
          "metadata": {
            "tags": []
          },
          "execution_count": 75
        }
      ]
    },
    {
      "cell_type": "code",
      "metadata": {
        "id": "_WGS6rp9kt8M",
        "colab": {
          "base_uri": "https://localhost:8080/",
          "height": 297
        },
        "outputId": "e6c0141e-bb7e-457a-ccbc-f1442e6942f5"
      },
      "source": [
        "performance.describe()"
      ],
      "execution_count": null,
      "outputs": [
        {
          "output_type": "execute_result",
          "data": {
            "text/html": [
              "<div>\n",
              "<style scoped>\n",
              "    .dataframe tbody tr th:only-of-type {\n",
              "        vertical-align: middle;\n",
              "    }\n",
              "\n",
              "    .dataframe tbody tr th {\n",
              "        vertical-align: top;\n",
              "    }\n",
              "\n",
              "    .dataframe thead th {\n",
              "        text-align: right;\n",
              "    }\n",
              "</style>\n",
              "<table border=\"1\" class=\"dataframe\">\n",
              "  <thead>\n",
              "    <tr style=\"text-align: right;\">\n",
              "      <th></th>\n",
              "      <th>Accuracy</th>\n",
              "    </tr>\n",
              "  </thead>\n",
              "  <tbody>\n",
              "    <tr>\n",
              "      <th>count</th>\n",
              "      <td>5.000000</td>\n",
              "    </tr>\n",
              "    <tr>\n",
              "      <th>mean</th>\n",
              "      <td>0.836364</td>\n",
              "    </tr>\n",
              "    <tr>\n",
              "      <th>std</th>\n",
              "      <td>0.089893</td>\n",
              "    </tr>\n",
              "    <tr>\n",
              "      <th>min</th>\n",
              "      <td>0.696970</td>\n",
              "    </tr>\n",
              "    <tr>\n",
              "      <th>25%</th>\n",
              "      <td>0.818182</td>\n",
              "    </tr>\n",
              "    <tr>\n",
              "      <th>50%</th>\n",
              "      <td>0.848485</td>\n",
              "    </tr>\n",
              "    <tr>\n",
              "      <th>75%</th>\n",
              "      <td>0.878788</td>\n",
              "    </tr>\n",
              "    <tr>\n",
              "      <th>max</th>\n",
              "      <td>0.939394</td>\n",
              "    </tr>\n",
              "  </tbody>\n",
              "</table>\n",
              "</div>"
            ],
            "text/plain": [
              "       Accuracy\n",
              "count  5.000000\n",
              "mean   0.836364\n",
              "std    0.089893\n",
              "min    0.696970\n",
              "25%    0.818182\n",
              "50%    0.848485\n",
              "75%    0.878788\n",
              "max    0.939394"
            ]
          },
          "metadata": {
            "tags": []
          },
          "execution_count": 76
        }
      ]
    },
    {
      "cell_type": "markdown",
      "metadata": {
        "id": "GwHGm-76nfAJ"
      },
      "source": [
        "# Class_Grad_Cam"
      ]
    },
    {
      "cell_type": "code",
      "metadata": {
        "id": "1QZM74zLbJo1"
      },
      "source": [
        "class GradCAM:\n",
        "\tdef __init__(self, model, classIdx, layerName=None):\n",
        "\t\t# store the model, the class index used to measure the class\n",
        "\t\t# activation map, and the layer to be used when visualizing\n",
        "\t\t# the class activation map\n",
        "\t\tself.model = model\n",
        "\t\tself.classIdx = classIdx\n",
        "\t\tself.layerName = layerName\n",
        "\n",
        "\t\t# if the layer name is None, attempt to automatically find\n",
        "\t\t# the target output layer\n",
        "\t\tif self.layerName is None:\n",
        "\t\t\tself.layerName = self.find_target_layer()\n",
        "\n",
        "\tdef find_target_layer(self):\n",
        "\t\t# attempt to find the final convolutional layer in the network\n",
        "\t\t# by looping over the layers of the network in reverse order\n",
        "\t\tfor layer in reversed(self.model.layers):\n",
        "\t\t\t# check to see if the layer has a 4D output\n",
        "\t\t\tif len(layer.get_output_shape_at(0)) == 4:\n",
        "\t\t\t\treturn layer.name\n",
        "\n",
        "\t\t# otherwise, we could not find a 4D layer so the GradCAM\n",
        "\t\t# algorithm cannot be applied\n",
        "\t\traise ValueError(\"Could not find 4D layer. Cannot apply GradCAM.\")\n",
        "\n",
        "\tdef compute_heatmap(self, image, eps=1e-8):\n",
        "\t\t# construct our gradient model by supplying (1) the inputs\n",
        "\t\t# to our pre-trained model, (2) the output of the (presumably)\n",
        "\t\t# final 4D layer in the network, and (3) the output of the\n",
        "\t\t# softmax activations from the model\n",
        "\t\tgradModel = Model(\n",
        "\t\t\tinputs=[self.model.inputs],\n",
        "\t\t\toutputs=[self.model.get_layer(self.layerName).output, \n",
        "\t\t\t\tself.model.output])\n",
        "\n",
        "\t\t# record operations for automatic differentiation\n",
        "\t\twith tf.GradientTape() as tape:\n",
        "\t\t\t# cast the image tensor to a float-32 data type, pass the\n",
        "\t\t\t# image through the gradient model, and grab the loss\n",
        "\t\t\t# associated with the specific class index\n",
        "\t\t\tinputs = tf.cast(image, tf.float32)\n",
        "\t\t\t(convOutputs, predictions) = gradModel(inputs)\n",
        "\t\t\tloss = predictions[:, self.classIdx]\n",
        "\n",
        "\t\t# use automatic differentiation to compute the gradients\n",
        "\t\tgrads = tape.gradient(loss, convOutputs)\n",
        "\n",
        "\t\t# compute the guided gradients\n",
        "\t\tcastConvOutputs = tf.cast(convOutputs > 0, \"float32\")\n",
        "\t\tcastGrads = tf.cast(grads > 0, \"float32\")\n",
        "\t\tguidedGrads = castConvOutputs * castGrads * grads\n",
        "\n",
        "\t\t# the convolution and guided gradients have a batch dimension\n",
        "\t\t# (which we don't need) so let's grab the volume itself and\n",
        "\t\t# discard the batch\n",
        "\t\tconvOutputs = convOutputs[0]\n",
        "\t\tguidedGrads = guidedGrads[0]\n",
        "\n",
        "\t\t# compute the average of the gradient values, and using them\n",
        "\t\t# as weights, compute the ponderation of the filters with\n",
        "\t\t# respect to the weights\n",
        "\t\tweights = tf.reduce_mean(guidedGrads, axis=(0, 1))\n",
        "\t\tcam = tf.reduce_sum(tf.multiply(weights, convOutputs), axis=-1)\n",
        "\n",
        "\t\t# grab the spatial dimensions of the input image and resize\n",
        "\t\t# the output class activation map to match the input image\n",
        "\t\t# dimensions\n",
        "\t\t(w, h) = (image.shape[2], image.shape[1])\n",
        "\t\theatmap = cv2.resize(cam.numpy(), (w, h))\n",
        "\n",
        "\t\t# normalize the heatmap such that all values lie in the range\n",
        "\t\t# [0, 1], scale the resulting values to the range [0, 255],\n",
        "\t\t# and then convert to an unsigned 8-bit integer\n",
        "\t\tnumer = heatmap - np.min(heatmap)\n",
        "\t\tdenom = (heatmap.max() - heatmap.min()) + eps\n",
        "\t\theatmap = numer / denom\n",
        "\t\theatmap = (heatmap * 255).astype(\"uint8\")\n",
        "\n",
        "\t\t# return the resulting heatmap to the calling function\n",
        "\t\treturn heatmap\n",
        "\n",
        "\tdef overlay_heatmap(self, heatmap, image, alpha=0.5,\n",
        "\t\tcolormap=cv2.COLORMAP_PLASMA):\n",
        "\t\t# apply the supplied color map to the heatmap and then\n",
        "\t\t# overlay the heatmap on the input image\n",
        "\t\theatmap = cv2.applyColorMap(heatmap, colormap)\n",
        "\t\toutput = cv2.addWeighted(image, alpha, heatmap, 1 - alpha, 0)\n",
        "\n",
        "\t\t# return a 2-tuple of the color mapped heatmap and the output,\n",
        "\t\t# overlaid image\n",
        "\t\treturn (heatmap, output)"
      ],
      "execution_count": null,
      "outputs": []
    },
    {
      "cell_type": "code",
      "metadata": {
        "id": "na_YNdWGkgPs"
      },
      "source": [
        "def make_gradcam_heatmap(\n",
        "    img_array, model, last_conv_layer_name, classifier_layer_names\n",
        "):\n",
        "    # First, we create a model that maps the input image to the activations\n",
        "    # of the last conv layer\n",
        "    last_conv_layer = model.get_layer(last_conv_layer_name)\n",
        "    last_conv_layer_model = keras.Model(model.inputs, last_conv_layer.output)\n",
        "\n",
        "    # Second, we create a model that maps the activations of the last conv\n",
        "    # layer to the final class predictions\n",
        "    classifier_input = keras.Input(shape=last_conv_layer.output.shape[1:])\n",
        "    x = classifier_input\n",
        "    for layer_name in classifier_layer_names:\n",
        "        x = model.get_layer(layer_name)(x)\n",
        "    classifier_model = keras.Model(classifier_input, x)\n",
        "\n",
        "    # Then, we compute the gradient of the top predicted class for our input image\n",
        "    # with respect to the activations of the last conv layer\n",
        "    with tf.GradientTape() as tape:\n",
        "        # Compute activations of the last conv layer and make the tape watch it\n",
        "        last_conv_layer_output = last_conv_layer_model(img_array)\n",
        "        tape.watch(last_conv_layer_output)\n",
        "        # Compute class predictions\n",
        "        preds = classifier_model(last_conv_layer_output)\n",
        "        top_pred_index = tf.argmax(preds[0])\n",
        "        top_class_channel = preds[:, top_pred_index]\n",
        "\n",
        "    # This is the gradient of the top predicted class with regard to\n",
        "    # the output feature map of the last conv layer\n",
        "    grads = tape.gradient(top_class_channel, last_conv_layer_output)\n",
        "\n",
        "    # This is a vector where each entry is the mean intensity of the gradient\n",
        "    # over a specific feature map channel\n",
        "    pooled_grads = tf.reduce_mean(grads, axis=(0, 1, 2))\n",
        "\n",
        "    # We multiply each channel in the feature map array\n",
        "    # by \"how important this channel is\" with regard to the top predicted class\n",
        "    last_conv_layer_output = last_conv_layer_output.numpy()[0]\n",
        "    pooled_grads = pooled_grads.numpy()\n",
        "    for i in range(pooled_grads.shape[-1]):\n",
        "        last_conv_layer_output[:, :, i] *= pooled_grads[i]\n",
        "\n",
        "    # The channel-wise mean of the resulting feature map\n",
        "    # is our heatmap of class activation\n",
        "    heatmap = np.mean(last_conv_layer_output, axis=-1)\n",
        "\n",
        "    # For visualization purpose, we will also normalize the heatmap between 0 & 1\n",
        "    heatmap = np.maximum(heatmap, 0) / np.max(heatmap)\n",
        "    return heatmap"
      ],
      "execution_count": null,
      "outputs": []
    },
    {
      "cell_type": "code",
      "metadata": {
        "id": "4zovNyOqDER5"
      },
      "source": [
        "def preprocess_img(img_path, image_size):\n",
        "  image = load_img(img_path, target_size=image_size)\n",
        "  image = img_to_array(image)\n",
        "  image = np.expand_dims(image, axis=0)\n",
        "  image = imagenet_utils.preprocess_input(image)\n",
        "\n",
        "  return image"
      ],
      "execution_count": null,
      "outputs": []
    },
    {
      "cell_type": "code",
      "metadata": {
        "id": "OdSktmEVAxGG"
      },
      "source": [
        "def overlay_heatmap(heatmap, colormap=\"jet\"):\n",
        "  heatmap = np.uint8(255 * heatmap)\n",
        "  jet = cm.get_cmap(colormap)\n",
        "  \n",
        "  # We use RGB values of the colormap\n",
        "  jet_colors = jet(np.arange(256))[:, :3]\n",
        "  jet_heatmap = jet_colors[heatmap]\n",
        "  \n",
        "  # We create an image with RGB colorized heatmap\n",
        "  jet_heatmap = keras.preprocessing.image.array_to_img(jet_heatmap)\n",
        "  jet_heatmap = jet_heatmap.resize((orig.shape[1], orig.shape[0]))\n",
        "  jet_heatmap = keras.preprocessing.image.img_to_array(jet_heatmap)\n",
        "  superimposed_img = jet_heatmap * 0.4 + orig2\n",
        "  superimposed_img = keras.preprocessing.image.array_to_img(superimposed_img)\n",
        "\n",
        "  return superimposed_img, jet_heatmap"
      ],
      "execution_count": null,
      "outputs": []
    },
    {
      "cell_type": "code",
      "metadata": {
        "id": "LrVY5fXEHvuN"
      },
      "source": [
        "def plot_heatmap(heatmap, img_path, img_path2):\n",
        "    # ReLU\n",
        "    heatmap = np.maximum(heatmap, 0)\n",
        "    \n",
        "    # 正規化\n",
        "    heatmap /= np.max(heatmap)\n",
        "    \n",
        "    # 讀取影像\n",
        "    img = cv2.imread(img_path)\n",
        "    img2 = cv2.imread(img_path2)\n",
        "\n",
        "    \n",
        "    \n",
        "    im = cv2.resize(cv2.cvtColor(cv2.imread(img_path), cv2.COLOR_BGR2RGB), (img.shape[1], img.shape[0]))\n",
        "    im2 = cv2.resize(cv2.cvtColor(cv2.imread(img_path2), cv2.COLOR_BGR2RGB), (img2.shape[1], img2.shape[0]))\n",
        "\n",
        "    # 拉伸 heatmap\n",
        "    heatmap = cv2.resize(heatmap, (img.shape[1], img.shape[0]))\n",
        "\n",
        "    heatmap = np.uint8(255 * heatmap)\n",
        "\n",
        "    fig, (ax1, ax2, ax3) = plt.subplots(1, 3)\n",
        "\n",
        "    ax1.imshow(im, alpha=0.4)\n",
        "    ax1.axis('off')\n",
        "\n",
        "    ax1.imshow(heatmap, cmap='jet', alpha=0.6)\n",
        "    ax1.axis('off')\n",
        "\n",
        "    ax2.imshow(im)\n",
        "    ax2.axis('off')\n",
        "\n",
        "    ax3.imshow(im2)\n",
        "    ax3.axis('off')\n",
        "\n",
        "    fig.set_size_inches(15,12)\n",
        "\n",
        "    plt.show()"
      ],
      "execution_count": null,
      "outputs": []
    },
    {
      "cell_type": "markdown",
      "metadata": {
        "id": "1__6S8AMaI9U"
      },
      "source": [
        "# Grad_CAM"
      ]
    },
    {
      "cell_type": "code",
      "metadata": {
        "id": "uf_XfIDRkisP",
        "colab": {
          "base_uri": "https://localhost:8080/",
          "height": 253
        },
        "outputId": "f32b932e-9e0c-45cf-b39f-46cf87db1aac"
      },
      "source": [
        "img_name = '3754852_0705110712_I00053203321.jpg'\n",
        "\n",
        "img_path = \"/content/drive/My Drive/Colab Notebooks/聖馬爾定/Dataset_Check/Original/1/\" + img_name\n",
        "orig_path = \"/content/drive/My Drive/Colab Notebooks/聖馬爾定/Dataset_Check/Original/1/\" + img_name\n",
        "# img_path = \"/content/roi.jpg\"\n",
        "orig = cv2.imread(img_path)\n",
        "\n",
        "#orig2 = cv2.imread(orig_path)\n",
        "#orig2 = cv2.resize(orig2, (orig.shape[0],orig.shape[1]))  #(width, height)\n",
        "\n",
        "image = preprocess_img(img_path, image_size)\n",
        "orig = np.expand_dims(orig, axis=0)\n",
        "\n",
        "last_conv_layer_name = \"conv_7b_ac\"\n",
        "classifier_layer_names = [\"flatten\"]\n",
        "\n",
        "heatmap = make_gradcam_heatmap(\n",
        "    image, model, last_conv_layer_name, classifier_layer_names\n",
        ")\n",
        "\n",
        "plot_heatmap(heatmap, img_path, orig_path)\n",
        "\n",
        "predict_datagen = ImageDataGenerator(rescale=1./255)\n",
        "\n",
        "predict_generator = predict_datagen.flow(image,\n",
        "                                         y=None,\n",
        "                                         batch_size=1)\n",
        "\n",
        "preds = model.predict(predict_generator)\n",
        "i = np.argmax(preds, axis=-1).astype('str')\n",
        "print(preds)"
      ],
      "execution_count": null,
      "outputs": [
        {
          "output_type": "display_data",
          "data": {
            "image/png": "[encoded data removed]",
            "text/plain": [
              "<Figure size 1080x864 with 3 Axes>"
            ]
          },
          "metadata": {
            "tags": []
          }
        },
        {
          "output_type": "stream",
          "text": [
            "[[0.6691286 0.3308714]]\n"
          ],
          "name": "stdout"
        }
      ]
    },
    {
      "cell_type": "markdown",
      "metadata": {
        "id": "Fd4oUwcUuTVq"
      },
      "source": [
        "# Arg_Adjust"
      ]
    },
    {
      "cell_type": "code",
      "metadata": {
        "id": "Ra79uZie0G2n"
      },
      "source": [
        "range = [0.8, 1.0, 1.2, 1.4, 1.6 , 1.8, 2.0]"
      ],
      "execution_count": null,
      "outputs": []
    },
    {
      "cell_type": "code",
      "metadata": {
        "id": "DaPrcDw-3Tkq",
        "colab": {
          "base_uri": "https://localhost:8080/",
          "height": 1000
        },
        "outputId": "27e840ba-6768-45b0-f943-479e062546ca"
      },
      "source": [
        "train_accuracy = []\n",
        "train_precision = []\n",
        "train_recall = []\n",
        "train_f1 = []\n",
        "\n",
        "test_accuracy = []\n",
        "test_precision = []\n",
        "test_recall = []\n",
        "test_f1 = []\n",
        "\n",
        "for i in range:\n",
        "  train_datagen = ImageDataGenerator(rotation_range=15, \n",
        "                                     rescale=1./255, \n",
        "                                     shear_range=0.1, \n",
        "                                     zoom_range=0.2,\n",
        "                                     brightness_range=[i,i],\n",
        "                                     horizontal_flip=True, \n",
        "                                     width_shift_range=0.1,\n",
        "                                     height_shift_range=0.1,\n",
        "                                     validation_split=0.15)\n",
        "  \n",
        "  train_generator = train_datagen.flow_from_dataframe(train_df,\n",
        "                                                    '/content/drive/My Drive/Colab Notebooks/聖馬爾定/Dataset_Check/Original/', \n",
        "                                                    x_col='path', \n",
        "                                                    y_col='label', \n",
        "                                                    target_size=image_size, \n",
        "                                                    class_mode='categorical', \n",
        "                                                    batch_size=BS, \n",
        "                                                    subset='training')\n",
        "  \n",
        "  validation_generator = train_datagen.flow_from_dataframe(train_df, \n",
        "                                                    '/content/drive/My Drive/Colab Notebooks/聖馬爾定/Dataset_Check/Original/', \n",
        "                                                    x_col='path', \n",
        "                                                    y_col='label', \n",
        "                                                    target_size=image_size, \n",
        "                                                    class_mode='categorical', \n",
        "                                                    batch_size=BS,\n",
        "                                                    subset='validation')\n",
        "\n",
        "  test_gen = ImageDataGenerator(brightness_range=[i,i],\n",
        "                                rescale=1./255)\n",
        "\n",
        "  test_generator = test_gen.flow_from_dataframe(\n",
        "      test_df, \n",
        "      '/content/drive/My Drive/Colab Notebooks/聖馬爾定/Dataset_Check/Original/', \n",
        "      x_col='path', \n",
        "      y_col=None, \n",
        "      class_mode=None, \n",
        "      target_size=image_size, \n",
        "      batch_size=1,\n",
        "      shuffle=False\n",
        "  )\n",
        "\n",
        "  train_inTest_generator = test_gen.flow_from_dataframe(\n",
        "      train_df, \n",
        "      '/content/drive/My Drive/Colab Notebooks/聖馬爾定/Dataset_Check/Original/', \n",
        "      x_col='path', \n",
        "      y_col=None, \n",
        "      class_mode=None, \n",
        "      target_size=image_size, \n",
        "      batch_size=1,\n",
        "      shuffle=False\n",
        "  )\n",
        "\n",
        "  model = create_new_model()\n",
        "\n",
        "  learning_rate_reduction = ReduceLROnPlateau(monitor='val_loss', \n",
        "                                             patience=7, \n",
        "                                             factor=0.5, \n",
        "                                             min_lr=0.00001)\n",
        "  \n",
        "  callbacks = [learning_rate_reduction]\n",
        "  \n",
        "  \n",
        "  H = model.fit(\n",
        "      train_generator,\n",
        "      epochs=150,\n",
        "      validation_data= validation_generator,\n",
        "      callbacks=callbacks\n",
        "      )\n",
        "\n",
        "  predict = model.predict(test_generator)\n",
        "  test_predict = np.argmax(predict, axis=-1).astype('str')\n",
        "  test_df['predict'] = test_predict\n",
        "\n",
        "  y_test = test_df['label'].astype('int32').values\n",
        "  pre_y = test_df['predict'].astype('int32').values\n",
        "\n",
        "  test_accuracy.append(accuracy_score(y_test, pre_y))\n",
        "  test_precision.append(precision_score(y_test, pre_y))\n",
        "  test_recall.append(recall_score(y_test, pre_y))\n",
        "  test_f1.append(f1_score(y_test, pre_y))\n",
        "\n",
        "  predict = model.predict(train_inTest_generator)\n",
        "  test_predict = np.argmax(predict, axis=-1).astype('str')\n",
        "  train_df['predict'] = test_predict\n",
        "\n",
        "  y_test = train_df['label'].astype('int32').values\n",
        "  pre_y = train_df['predict'].astype('int32').values\n",
        "\n",
        "  train_accuracy.append(accuracy_score(y_test, pre_y))\n",
        "  train_precision.append(precision_score(y_test, pre_y))\n",
        "  train_recall.append(recall_score(y_test, pre_y))\n",
        "  train_f1.append(f1_score(y_test, pre_y))"
      ],
      "execution_count": null,
      "outputs": [
        {
          "output_type": "stream",
          "text": [
            "Found 119 validated image filenames belonging to 2 classes.\n",
            "Found 21 validated image filenames belonging to 2 classes.\n",
            "Found 25 validated image filenames.\n",
            "Found 140 validated image filenames.\n",
            "Downloading data from https://storage.googleapis.com/tensorflow/keras-applications/inception_resnet_v2/inception_resnet_v2_weights_tf_dim_ordering_tf_kernels_notop.h5\n",
            "219062272/219055592 [==============================] - 3s 0us/step\n",
            "Epoch 1/150\n",
            "4/4 [==============================] - 46s 11s/step - loss: 0.9509 - accuracy: 0.6134 - val_loss: 0.6098 - val_accuracy: 0.6667\n",
            "Epoch 2/150\n",
            "4/4 [==============================] - 3s 870ms/step - loss: 0.6808 - accuracy: 0.6303 - val_loss: 0.5430 - val_accuracy: 0.7143\n",
            "Epoch 3/150\n",
            "4/4 [==============================] - 3s 870ms/step - loss: 0.5856 - accuracy: 0.6975 - val_loss: 0.5174 - val_accuracy: 0.6667\n",
            "Epoch 4/150\n",
            "4/4 [==============================] - 4s 878ms/step - loss: 0.4994 - accuracy: 0.7143 - val_loss: 0.5930 - val_accuracy: 0.6667\n",
            "Epoch 5/150\n",
            "4/4 [==============================] - 4s 882ms/step - loss: 0.4625 - accuracy: 0.7479 - val_loss: 0.5108 - val_accuracy: 0.7143\n",
            "Epoch 6/150\n",
            "4/4 [==============================] - 4s 885ms/step - loss: 0.5027 - accuracy: 0.7227 - val_loss: 0.4364 - val_accuracy: 0.8571\n",
            "Epoch 7/150\n",
            "4/4 [==============================] - 4s 963ms/step - loss: 0.4226 - accuracy: 0.8235 - val_loss: 0.4833 - val_accuracy: 0.8095\n",
            "Epoch 8/150\n",
            "4/4 [==============================] - 3s 871ms/step - loss: 0.4194 - accuracy: 0.7731 - val_loss: 0.4331 - val_accuracy: 0.8571\n",
            "Epoch 9/150\n",
            "4/4 [==============================] - 4s 955ms/step - loss: 0.4646 - accuracy: 0.7647 - val_loss: 0.3848 - val_accuracy: 0.8571\n",
            "Epoch 10/150\n",
            "4/4 [==============================] - 3s 872ms/step - loss: 0.3725 - accuracy: 0.8319 - val_loss: 0.3444 - val_accuracy: 0.9524\n",
            "Epoch 11/150\n",
            "4/4 [==============================] - 4s 962ms/step - loss: 0.4277 - accuracy: 0.7815 - val_loss: 0.3448 - val_accuracy: 0.9048\n",
            "Epoch 12/150\n",
            "4/4 [==============================] - 4s 880ms/step - loss: 0.3433 - accuracy: 0.8487 - val_loss: 0.4572 - val_accuracy: 0.8095\n",
            "Epoch 13/150\n",
            "4/4 [==============================] - 3s 872ms/step - loss: 0.3344 - accuracy: 0.8403 - val_loss: 0.3327 - val_accuracy: 0.8571\n",
            "Epoch 14/150\n",
            "4/4 [==============================] - 3s 863ms/step - loss: 0.3882 - accuracy: 0.8067 - val_loss: 0.3574 - val_accuracy: 0.7619\n",
            "Epoch 15/150\n",
            "4/4 [==============================] - 3s 865ms/step - loss: 0.3823 - accuracy: 0.8319 - val_loss: 0.4371 - val_accuracy: 0.7143\n",
            "Epoch 16/150\n",
            "4/4 [==============================] - 4s 942ms/step - loss: 0.3232 - accuracy: 0.8908 - val_loss: 0.3953 - val_accuracy: 0.7143\n",
            "Epoch 17/150\n",
            "4/4 [==============================] - 4s 947ms/step - loss: 0.2946 - accuracy: 0.9076 - val_loss: 0.3931 - val_accuracy: 0.7619\n",
            "Epoch 18/150\n",
            "4/4 [==============================] - 4s 940ms/step - loss: 0.3413 - accuracy: 0.8235 - val_loss: 0.3189 - val_accuracy: 0.9048\n",
            "Epoch 19/150\n",
            "4/4 [==============================] - 3s 874ms/step - loss: 0.3242 - accuracy: 0.8571 - val_loss: 0.5887 - val_accuracy: 0.7619\n",
            "Epoch 20/150\n",
            "4/4 [==============================] - 3s 850ms/step - loss: 0.2899 - accuracy: 0.8487 - val_loss: 0.5087 - val_accuracy: 0.7143\n",
            "Epoch 21/150\n",
            "4/4 [==============================] - 3s 857ms/step - loss: 0.2877 - accuracy: 0.8571 - val_loss: 0.4947 - val_accuracy: 0.7143\n",
            "Epoch 22/150\n",
            "4/4 [==============================] - 3s 860ms/step - loss: 0.2711 - accuracy: 0.8739 - val_loss: 0.3979 - val_accuracy: 0.7143\n",
            "Epoch 23/150\n",
            "4/4 [==============================] - 3s 869ms/step - loss: 0.2494 - accuracy: 0.9076 - val_loss: 0.4788 - val_accuracy: 0.7619\n",
            "Epoch 24/150\n",
            "4/4 [==============================] - 3s 865ms/step - loss: 0.2648 - accuracy: 0.8739 - val_loss: 0.3208 - val_accuracy: 0.9048\n",
            "Epoch 25/150\n",
            "4/4 [==============================] - 3s 865ms/step - loss: 0.2896 - accuracy: 0.8403 - val_loss: 0.4243 - val_accuracy: 0.8571\n",
            "Epoch 26/150\n",
            "4/4 [==============================] - 3s 853ms/step - loss: 0.2585 - accuracy: 0.8739 - val_loss: 0.4516 - val_accuracy: 0.8095\n",
            "Epoch 27/150\n",
            "4/4 [==============================] - 3s 844ms/step - loss: 0.2463 - accuracy: 0.8992 - val_loss: 0.3701 - val_accuracy: 0.8095\n",
            "Epoch 28/150\n",
            "4/4 [==============================] - 3s 865ms/step - loss: 0.2189 - accuracy: 0.9328 - val_loss: 0.3396 - val_accuracy: 0.8571\n",
            "Epoch 29/150\n",
            "4/4 [==============================] - 4s 879ms/step - loss: 0.2515 - accuracy: 0.8824 - val_loss: 0.3358 - val_accuracy: 0.8095\n",
            "Epoch 30/150\n",
            "4/4 [==============================] - 4s 880ms/step - loss: 0.2111 - accuracy: 0.8908 - val_loss: 0.5086 - val_accuracy: 0.7619\n",
            "Epoch 31/150\n",
            "4/4 [==============================] - 3s 844ms/step - loss: 0.1968 - accuracy: 0.9328 - val_loss: 0.5082 - val_accuracy: 0.7143\n",
            "Epoch 32/150\n",
            "4/4 [==============================] - 3s 838ms/step - loss: 0.1710 - accuracy: 0.9244 - val_loss: 0.5729 - val_accuracy: 0.7619\n",
            "Epoch 33/150\n",
            "4/4 [==============================] - 3s 842ms/step - loss: 0.2348 - accuracy: 0.8824 - val_loss: 0.3833 - val_accuracy: 0.7619\n",
            "Epoch 34/150\n",
            "4/4 [==============================] - 4s 917ms/step - loss: 0.2089 - accuracy: 0.9160 - val_loss: 0.6064 - val_accuracy: 0.7143\n",
            "Epoch 35/150\n",
            "4/4 [==============================] - 4s 906ms/step - loss: 0.2938 - accuracy: 0.8655 - val_loss: 0.3138 - val_accuracy: 0.8095\n",
            "Epoch 36/150\n",
            "4/4 [==============================] - 3s 840ms/step - loss: 0.1592 - accuracy: 0.9664 - val_loss: 0.3737 - val_accuracy: 0.7143\n",
            "Epoch 37/150\n",
            "4/4 [==============================] - 3s 853ms/step - loss: 0.2329 - accuracy: 0.9160 - val_loss: 0.4053 - val_accuracy: 0.8571\n",
            "Epoch 38/150\n",
            "4/4 [==============================] - 3s 838ms/step - loss: 0.2168 - accuracy: 0.9076 - val_loss: 0.3743 - val_accuracy: 0.8571\n",
            "Epoch 39/150\n",
            "4/4 [==============================] - 4s 910ms/step - loss: 0.2263 - accuracy: 0.9328 - val_loss: 0.4733 - val_accuracy: 0.8571\n",
            "Epoch 40/150\n",
            "4/4 [==============================] - 3s 825ms/step - loss: 0.1410 - accuracy: 0.9580 - val_loss: 0.4252 - val_accuracy: 0.7619\n",
            "Epoch 41/150\n",
            "4/4 [==============================] - 3s 834ms/step - loss: 0.2520 - accuracy: 0.9076 - val_loss: 0.4849 - val_accuracy: 0.8095\n",
            "Epoch 42/150\n",
            "4/4 [==============================] - 4s 918ms/step - loss: 0.1578 - accuracy: 0.9580 - val_loss: 0.2939 - val_accuracy: 0.8095\n",
            "Epoch 43/150\n",
            "4/4 [==============================] - 3s 835ms/step - loss: 0.1905 - accuracy: 0.9328 - val_loss: 0.3147 - val_accuracy: 0.9048\n",
            "Epoch 44/150\n",
            "4/4 [==============================] - 4s 901ms/step - loss: 0.1711 - accuracy: 0.9496 - val_loss: 0.4008 - val_accuracy: 0.7619\n",
            "Epoch 45/150\n",
            "4/4 [==============================] - 3s 834ms/step - loss: 0.1851 - accuracy: 0.9328 - val_loss: 0.2745 - val_accuracy: 0.8571\n",
            "Epoch 46/150\n",
            "4/4 [==============================] - 4s 905ms/step - loss: 0.1783 - accuracy: 0.9160 - val_loss: 0.5410 - val_accuracy: 0.8095\n",
            "Epoch 47/150\n",
            "4/4 [==============================] - 3s 842ms/step - loss: 0.1609 - accuracy: 0.9244 - val_loss: 0.3225 - val_accuracy: 0.7619\n",
            "Epoch 48/150\n",
            "4/4 [==============================] - 3s 830ms/step - loss: 0.2058 - accuracy: 0.9244 - val_loss: 0.4066 - val_accuracy: 0.8571\n",
            "Epoch 49/150\n",
            "4/4 [==============================] - 3s 831ms/step - loss: 0.1653 - accuracy: 0.9580 - val_loss: 0.2474 - val_accuracy: 0.8571\n",
            "Epoch 50/150\n",
            "4/4 [==============================] - 3s 823ms/step - loss: 0.1645 - accuracy: 0.9412 - val_loss: 0.4029 - val_accuracy: 0.8571\n",
            "Epoch 51/150\n",
            "4/4 [==============================] - 3s 827ms/step - loss: 0.1780 - accuracy: 0.9328 - val_loss: 0.4946 - val_accuracy: 0.7143\n",
            "Epoch 52/150\n",
            "4/4 [==============================] - 3s 832ms/step - loss: 0.2314 - accuracy: 0.8908 - val_loss: 0.5241 - val_accuracy: 0.9048\n",
            "Epoch 53/150\n",
            "4/4 [==============================] - 4s 895ms/step - loss: 0.1667 - accuracy: 0.9244 - val_loss: 0.6369 - val_accuracy: 0.7143\n",
            "Epoch 54/150\n",
            "4/4 [==============================] - 3s 827ms/step - loss: 0.2089 - accuracy: 0.8992 - val_loss: 0.3721 - val_accuracy: 0.8571\n",
            "Epoch 55/150\n",
            "4/4 [==============================] - 3s 824ms/step - loss: 0.1755 - accuracy: 0.9412 - val_loss: 0.4488 - val_accuracy: 0.7143\n",
            "Epoch 56/150\n",
            "4/4 [==============================] - 4s 898ms/step - loss: 0.1614 - accuracy: 0.9244 - val_loss: 0.4825 - val_accuracy: 0.8095\n",
            "Epoch 57/150\n",
            "4/4 [==============================] - 3s 833ms/step - loss: 0.2472 - accuracy: 0.9412 - val_loss: 0.4293 - val_accuracy: 0.8095\n",
            "Epoch 58/150\n",
            "4/4 [==============================] - 3s 818ms/step - loss: 0.1459 - accuracy: 0.9664 - val_loss: 0.4121 - val_accuracy: 0.7619\n",
            "Epoch 59/150\n",
            "4/4 [==============================] - 3s 834ms/step - loss: 0.1630 - accuracy: 0.9580 - val_loss: 0.5079 - val_accuracy: 0.7619\n",
            "Epoch 60/150\n",
            "4/4 [==============================] - 3s 840ms/step - loss: 0.1519 - accuracy: 0.9412 - val_loss: 0.4612 - val_accuracy: 0.7143\n",
            "Epoch 61/150\n",
            "4/4 [==============================] - 3s 831ms/step - loss: 0.1701 - accuracy: 0.9244 - val_loss: 0.2789 - val_accuracy: 0.9048\n",
            "Epoch 62/150\n",
            "4/4 [==============================] - 3s 837ms/step - loss: 0.1587 - accuracy: 0.9580 - val_loss: 0.3995 - val_accuracy: 0.8095\n",
            "Epoch 63/150\n",
            "4/4 [==============================] - 3s 827ms/step - loss: 0.1679 - accuracy: 0.9328 - val_loss: 0.3109 - val_accuracy: 0.8571\n",
            "Epoch 64/150\n",
            "4/4 [==============================] - 3s 816ms/step - loss: 0.1434 - accuracy: 0.9580 - val_loss: 0.6110 - val_accuracy: 0.8095\n",
            "Epoch 65/150\n",
            "4/4 [==============================] - 3s 825ms/step - loss: 0.1670 - accuracy: 0.9412 - val_loss: 0.4130 - val_accuracy: 0.8095\n",
            "Epoch 66/150\n",
            "4/4 [==============================] - 3s 824ms/step - loss: 0.1892 - accuracy: 0.9412 - val_loss: 0.3078 - val_accuracy: 0.9048\n",
            "Epoch 67/150\n",
            "4/4 [==============================] - 3s 812ms/step - loss: 0.1418 - accuracy: 0.9496 - val_loss: 0.3772 - val_accuracy: 0.7619\n",
            "Epoch 68/150\n",
            "4/4 [==============================] - 3s 819ms/step - loss: 0.1908 - accuracy: 0.9412 - val_loss: 0.3680 - val_accuracy: 0.9048\n",
            "Epoch 69/150\n",
            "4/4 [==============================] - 4s 888ms/step - loss: 0.1594 - accuracy: 0.9328 - val_loss: 0.2784 - val_accuracy: 0.9048\n",
            "Epoch 70/150\n",
            "4/4 [==============================] - 3s 820ms/step - loss: 0.1552 - accuracy: 0.9496 - val_loss: 0.3526 - val_accuracy: 0.8571\n",
            "Epoch 71/150\n",
            "4/4 [==============================] - 4s 884ms/step - loss: 0.2027 - accuracy: 0.8992 - val_loss: 0.3957 - val_accuracy: 0.8095\n",
            "Epoch 72/150\n",
            "4/4 [==============================] - 3s 807ms/step - loss: 0.1753 - accuracy: 0.9412 - val_loss: 0.3087 - val_accuracy: 0.8571\n",
            "Epoch 73/150\n",
            "4/4 [==============================] - 3s 821ms/step - loss: 0.1435 - accuracy: 0.9664 - val_loss: 0.3414 - val_accuracy: 0.7619\n",
            "Epoch 74/150\n",
            "4/4 [==============================] - 3s 806ms/step - loss: 0.1449 - accuracy: 0.9664 - val_loss: 0.3002 - val_accuracy: 0.9524\n",
            "Epoch 75/150\n",
            "4/4 [==============================] - 3s 806ms/step - loss: 0.1502 - accuracy: 0.9328 - val_loss: 0.4142 - val_accuracy: 0.8095\n",
            "Epoch 76/150\n",
            "4/4 [==============================] - 3s 807ms/step - loss: 0.1538 - accuracy: 0.9496 - val_loss: 0.3018 - val_accuracy: 0.8571\n",
            "Epoch 77/150\n",
            "4/4 [==============================] - 3s 823ms/step - loss: 0.1282 - accuracy: 0.9580 - val_loss: 0.3382 - val_accuracy: 0.8571\n",
            "Epoch 78/150\n",
            "4/4 [==============================] - 3s 823ms/step - loss: 0.1299 - accuracy: 0.9664 - val_loss: 0.5372 - val_accuracy: 0.7619\n",
            "Epoch 79/150\n",
            "4/4 [==============================] - 3s 827ms/step - loss: 0.1689 - accuracy: 0.9076 - val_loss: 0.2231 - val_accuracy: 0.9048\n",
            "Epoch 80/150\n",
            "4/4 [==============================] - 3s 818ms/step - loss: 0.1452 - accuracy: 0.9244 - val_loss: 0.3418 - val_accuracy: 0.9048\n",
            "Epoch 81/150\n",
            "4/4 [==============================] - 3s 821ms/step - loss: 0.1779 - accuracy: 0.9412 - val_loss: 0.5738 - val_accuracy: 0.7143\n",
            "Epoch 82/150\n",
            "4/4 [==============================] - 3s 815ms/step - loss: 0.1600 - accuracy: 0.9580 - val_loss: 0.3921 - val_accuracy: 0.8571\n",
            "Epoch 83/150\n",
            "4/4 [==============================] - 4s 881ms/step - loss: 0.1728 - accuracy: 0.9328 - val_loss: 0.4587 - val_accuracy: 0.8571\n",
            "Epoch 84/150\n",
            "4/4 [==============================] - 3s 817ms/step - loss: 0.1317 - accuracy: 0.9244 - val_loss: 0.4804 - val_accuracy: 0.8095\n",
            "Epoch 85/150\n",
            "4/4 [==============================] - 4s 886ms/step - loss: 0.1550 - accuracy: 0.9580 - val_loss: 0.3187 - val_accuracy: 0.8095\n",
            "Epoch 86/150\n",
            "4/4 [==============================] - 3s 813ms/step - loss: 0.1875 - accuracy: 0.9244 - val_loss: 0.2319 - val_accuracy: 0.9048\n",
            "Epoch 87/150\n",
            "4/4 [==============================] - 3s 827ms/step - loss: 0.2220 - accuracy: 0.9160 - val_loss: 0.3359 - val_accuracy: 0.8571\n",
            "Epoch 88/150\n",
            "4/4 [==============================] - 3s 801ms/step - loss: 0.1323 - accuracy: 0.9664 - val_loss: 0.3264 - val_accuracy: 0.8095\n",
            "Epoch 89/150\n",
            "4/4 [==============================] - 3s 810ms/step - loss: 0.1278 - accuracy: 0.9496 - val_loss: 0.3787 - val_accuracy: 0.9048\n",
            "Epoch 90/150\n",
            "4/4 [==============================] - 3s 821ms/step - loss: 0.1443 - accuracy: 0.9412 - val_loss: 0.3299 - val_accuracy: 0.8571\n",
            "Epoch 91/150\n",
            "4/4 [==============================] - 3s 807ms/step - loss: 0.1479 - accuracy: 0.9664 - val_loss: 0.3966 - val_accuracy: 0.9048\n",
            "Epoch 92/150\n",
            "4/4 [==============================] - 3s 822ms/step - loss: 0.2196 - accuracy: 0.9076 - val_loss: 0.4159 - val_accuracy: 0.8095\n",
            "Epoch 93/150\n",
            "4/4 [==============================] - 3s 811ms/step - loss: 0.1447 - accuracy: 0.9328 - val_loss: 0.3118 - val_accuracy: 0.8571\n",
            "Epoch 94/150\n",
            "4/4 [==============================] - 3s 811ms/step - loss: 0.1311 - accuracy: 0.9580 - val_loss: 0.2979 - val_accuracy: 0.8571\n",
            "Epoch 95/150\n",
            "4/4 [==============================] - 3s 811ms/step - loss: 0.1316 - accuracy: 0.9580 - val_loss: 0.3476 - val_accuracy: 0.8095\n",
            "Epoch 96/150\n",
            "4/4 [==============================] - 3s 818ms/step - loss: 0.1377 - accuracy: 0.9328 - val_loss: 0.2028 - val_accuracy: 0.9048\n",
            "Epoch 97/150\n",
            "4/4 [==============================] - 3s 817ms/step - loss: 0.1072 - accuracy: 0.9748 - val_loss: 0.2956 - val_accuracy: 0.8095\n",
            "Epoch 98/150\n",
            "4/4 [==============================] - 3s 829ms/step - loss: 0.1435 - accuracy: 0.9328 - val_loss: 0.4307 - val_accuracy: 0.8571\n",
            "Epoch 99/150\n",
            "4/4 [==============================] - 3s 839ms/step - loss: 0.1619 - accuracy: 0.9496 - val_loss: 0.4069 - val_accuracy: 0.8095\n",
            "Epoch 100/150\n",
            "4/4 [==============================] - 4s 913ms/step - loss: 0.1287 - accuracy: 0.9580 - val_loss: 0.2705 - val_accuracy: 0.8095\n",
            "Epoch 101/150\n",
            "4/4 [==============================] - 3s 826ms/step - loss: 0.1693 - accuracy: 0.9496 - val_loss: 0.3620 - val_accuracy: 0.8095\n",
            "Epoch 102/150\n",
            "4/4 [==============================] - 3s 815ms/step - loss: 0.1075 - accuracy: 0.9664 - val_loss: 0.3304 - val_accuracy: 0.8571\n",
            "Epoch 103/150\n",
            "4/4 [==============================] - 4s 885ms/step - loss: 0.1575 - accuracy: 0.9580 - val_loss: 0.3156 - val_accuracy: 0.9048\n",
            "Epoch 104/150\n",
            "4/4 [==============================] - 4s 888ms/step - loss: 0.1731 - accuracy: 0.9496 - val_loss: 0.2808 - val_accuracy: 0.8571\n",
            "Epoch 105/150\n",
            "4/4 [==============================] - 3s 813ms/step - loss: 0.1630 - accuracy: 0.9328 - val_loss: 0.4603 - val_accuracy: 0.8095\n",
            "Epoch 106/150\n",
            "4/4 [==============================] - 4s 896ms/step - loss: 0.1695 - accuracy: 0.9328 - val_loss: 0.3354 - val_accuracy: 0.8095\n",
            "Epoch 107/150\n",
            "4/4 [==============================] - 3s 832ms/step - loss: 0.1731 - accuracy: 0.9244 - val_loss: 0.5830 - val_accuracy: 0.7143\n",
            "Epoch 108/150\n",
            "4/4 [==============================] - 3s 815ms/step - loss: 0.1135 - accuracy: 0.9748 - val_loss: 0.4117 - val_accuracy: 0.8095\n",
            "Epoch 109/150\n",
            "4/4 [==============================] - 3s 806ms/step - loss: 0.1879 - accuracy: 0.9244 - val_loss: 0.4436 - val_accuracy: 0.7143\n",
            "Epoch 110/150\n",
            "4/4 [==============================] - 3s 812ms/step - loss: 0.1663 - accuracy: 0.9160 - val_loss: 0.5938 - val_accuracy: 0.7619\n",
            "Epoch 111/150\n",
            "4/4 [==============================] - 3s 821ms/step - loss: 0.1552 - accuracy: 0.9412 - val_loss: 0.4907 - val_accuracy: 0.7619\n",
            "Epoch 112/150\n",
            "4/4 [==============================] - 3s 816ms/step - loss: 0.1472 - accuracy: 0.9580 - val_loss: 0.3326 - val_accuracy: 0.8571\n",
            "Epoch 113/150\n",
            "4/4 [==============================] - 3s 820ms/step - loss: 0.1149 - accuracy: 0.9832 - val_loss: 0.3369 - val_accuracy: 0.8095\n",
            "Epoch 114/150\n",
            "4/4 [==============================] - 4s 894ms/step - loss: 0.1296 - accuracy: 0.9496 - val_loss: 0.3479 - val_accuracy: 0.8571\n",
            "Epoch 115/150\n",
            "4/4 [==============================] - 3s 822ms/step - loss: 0.1505 - accuracy: 0.9580 - val_loss: 0.3308 - val_accuracy: 0.9524\n",
            "Epoch 116/150\n",
            "4/4 [==============================] - 3s 829ms/step - loss: 0.1449 - accuracy: 0.9580 - val_loss: 0.4602 - val_accuracy: 0.8095\n",
            "Epoch 117/150\n",
            "4/4 [==============================] - 3s 820ms/step - loss: 0.1433 - accuracy: 0.9496 - val_loss: 0.4379 - val_accuracy: 0.8571\n",
            "Epoch 118/150\n",
            "4/4 [==============================] - 4s 886ms/step - loss: 0.1567 - accuracy: 0.9244 - val_loss: 0.3524 - val_accuracy: 0.8095\n",
            "Epoch 119/150\n",
            "4/4 [==============================] - 3s 809ms/step - loss: 0.1420 - accuracy: 0.9412 - val_loss: 0.2213 - val_accuracy: 0.9524\n",
            "Epoch 120/150\n",
            "4/4 [==============================] - 3s 820ms/step - loss: 0.1472 - accuracy: 0.9580 - val_loss: 0.4366 - val_accuracy: 0.8571\n",
            "Epoch 121/150\n",
            "4/4 [==============================] - 4s 885ms/step - loss: 0.1920 - accuracy: 0.9076 - val_loss: 0.3822 - val_accuracy: 0.7143\n",
            "Epoch 122/150\n",
            "4/4 [==============================] - 3s 815ms/step - loss: 0.1300 - accuracy: 0.9496 - val_loss: 0.3913 - val_accuracy: 0.7619\n",
            "Epoch 123/150\n",
            "4/4 [==============================] - 3s 813ms/step - loss: 0.1543 - accuracy: 0.9328 - val_loss: 0.3125 - val_accuracy: 0.8095\n",
            "Epoch 124/150\n",
            "4/4 [==============================] - 3s 815ms/step - loss: 0.1733 - accuracy: 0.9160 - val_loss: 0.2195 - val_accuracy: 0.9048\n",
            "Epoch 125/150\n",
            "4/4 [==============================] - 4s 891ms/step - loss: 0.1832 - accuracy: 0.9244 - val_loss: 0.4867 - val_accuracy: 0.8095\n",
            "Epoch 126/150\n",
            "4/4 [==============================] - 3s 812ms/step - loss: 0.1366 - accuracy: 0.9580 - val_loss: 0.4087 - val_accuracy: 0.8095\n",
            "Epoch 127/150\n",
            "4/4 [==============================] - 3s 818ms/step - loss: 0.1151 - accuracy: 0.9580 - val_loss: 0.3047 - val_accuracy: 0.8571\n",
            "Epoch 128/150\n",
            "4/4 [==============================] - 3s 817ms/step - loss: 0.1703 - accuracy: 0.9244 - val_loss: 0.3025 - val_accuracy: 0.8571\n",
            "Epoch 129/150\n",
            "4/4 [==============================] - 3s 812ms/step - loss: 0.1447 - accuracy: 0.9496 - val_loss: 0.3526 - val_accuracy: 0.8571\n",
            "Epoch 130/150\n",
            "4/4 [==============================] - 3s 817ms/step - loss: 0.1292 - accuracy: 0.9748 - val_loss: 0.3129 - val_accuracy: 0.8095\n",
            "Epoch 131/150\n",
            "4/4 [==============================] - 4s 882ms/step - loss: 0.1341 - accuracy: 0.9496 - val_loss: 0.3228 - val_accuracy: 0.8571\n",
            "Epoch 132/150\n",
            "4/4 [==============================] - 3s 824ms/step - loss: 0.1309 - accuracy: 0.9832 - val_loss: 0.3608 - val_accuracy: 0.8095\n",
            "Epoch 133/150\n",
            "4/4 [==============================] - 3s 821ms/step - loss: 0.2135 - accuracy: 0.9160 - val_loss: 0.5516 - val_accuracy: 0.8095\n",
            "Epoch 134/150\n",
            "4/4 [==============================] - 3s 826ms/step - loss: 0.2103 - accuracy: 0.9328 - val_loss: 0.3522 - val_accuracy: 0.8095\n",
            "Epoch 135/150\n",
            "4/4 [==============================] - 3s 826ms/step - loss: 0.1683 - accuracy: 0.9244 - val_loss: 0.2889 - val_accuracy: 0.9048\n",
            "Epoch 136/150\n",
            "4/4 [==============================] - 3s 812ms/step - loss: 0.1634 - accuracy: 0.9496 - val_loss: 0.4417 - val_accuracy: 0.8571\n",
            "Epoch 137/150\n",
            "4/4 [==============================] - 3s 809ms/step - loss: 0.1150 - accuracy: 0.9748 - val_loss: 0.3970 - val_accuracy: 0.8095\n",
            "Epoch 138/150\n",
            "4/4 [==============================] - 4s 880ms/step - loss: 0.1410 - accuracy: 0.9748 - val_loss: 0.4267 - val_accuracy: 0.7143\n",
            "Epoch 139/150\n",
            "4/4 [==============================] - 3s 816ms/step - loss: 0.2390 - accuracy: 0.9160 - val_loss: 0.3780 - val_accuracy: 0.8095\n",
            "Epoch 140/150\n",
            "4/4 [==============================] - 4s 888ms/step - loss: 0.1233 - accuracy: 0.9580 - val_loss: 0.4620 - val_accuracy: 0.7143\n",
            "Epoch 141/150\n",
            "4/4 [==============================] - 3s 814ms/step - loss: 0.1270 - accuracy: 0.9664 - val_loss: 0.2503 - val_accuracy: 0.8571\n",
            "Epoch 142/150\n",
            "4/4 [==============================] - 3s 808ms/step - loss: 0.1340 - accuracy: 0.9664 - val_loss: 0.3273 - val_accuracy: 0.9048\n",
            "Epoch 143/150\n",
            "4/4 [==============================] - 3s 811ms/step - loss: 0.1736 - accuracy: 0.9412 - val_loss: 0.4614 - val_accuracy: 0.8571\n",
            "Epoch 144/150\n",
            "4/4 [==============================] - 3s 811ms/step - loss: 0.1748 - accuracy: 0.9328 - val_loss: 0.3632 - val_accuracy: 0.8571\n",
            "Epoch 145/150\n",
            "4/4 [==============================] - 3s 814ms/step - loss: 0.1394 - accuracy: 0.9412 - val_loss: 0.3412 - val_accuracy: 0.8571\n",
            "Epoch 146/150\n",
            "4/4 [==============================] - 4s 889ms/step - loss: 0.1423 - accuracy: 0.9412 - val_loss: 0.4241 - val_accuracy: 0.8571\n",
            "Epoch 147/150\n",
            "4/4 [==============================] - 3s 817ms/step - loss: 0.1329 - accuracy: 0.9664 - val_loss: 0.4218 - val_accuracy: 0.8095\n",
            "Epoch 148/150\n",
            "4/4 [==============================] - 3s 813ms/step - loss: 0.2116 - accuracy: 0.9328 - val_loss: 0.3919 - val_accuracy: 0.8095\n",
            "Epoch 149/150\n",
            "4/4 [==============================] - 3s 817ms/step - loss: 0.1292 - accuracy: 0.9496 - val_loss: 0.4327 - val_accuracy: 0.8095\n",
            "Epoch 150/150\n",
            "4/4 [==============================] - 3s 819ms/step - loss: 0.1604 - accuracy: 0.9412 - val_loss: 0.3144 - val_accuracy: 0.9048\n"
          ],
          "name": "stdout"
        },
        {
          "output_type": "stream",
          "text": [
            "/usr/local/lib/python3.6/dist-packages/ipykernel_launcher.py:84: SettingWithCopyWarning: \n",
            "A value is trying to be set on a copy of a slice from a DataFrame.\n",
            "Try using .loc[row_indexer,col_indexer] = value instead\n",
            "\n",
            "See the caveats in the documentation: https://pandas.pydata.org/pandas-docs/stable/user_guide/indexing.html#returning-a-view-versus-a-copy\n",
            "/usr/local/lib/python3.6/dist-packages/ipykernel_launcher.py:96: SettingWithCopyWarning: \n",
            "A value is trying to be set on a copy of a slice from a DataFrame.\n",
            "Try using .loc[row_indexer,col_indexer] = value instead\n",
            "\n",
            "See the caveats in the documentation: https://pandas.pydata.org/pandas-docs/stable/user_guide/indexing.html#returning-a-view-versus-a-copy\n"
          ],
          "name": "stderr"
        },
        {
          "output_type": "stream",
          "text": [
            "Found 119 validated image filenames belonging to 2 classes.\n",
            "Found 21 validated image filenames belonging to 2 classes.\n",
            "Found 25 validated image filenames.\n",
            "Found 140 validated image filenames.\n",
            "Epoch 1/150\n",
            "4/4 [==============================] - 6s 2s/step - loss: 1.1528 - accuracy: 0.5882 - val_loss: 0.5158 - val_accuracy: 0.7619\n",
            "Epoch 2/150\n",
            "4/4 [==============================] - 4s 886ms/step - loss: 0.7677 - accuracy: 0.6975 - val_loss: 0.9081 - val_accuracy: 0.5238\n",
            "Epoch 3/150\n",
            "4/4 [==============================] - 3s 827ms/step - loss: 0.6570 - accuracy: 0.7227 - val_loss: 0.5499 - val_accuracy: 0.6190\n",
            "Epoch 4/150\n",
            "4/4 [==============================] - 3s 817ms/step - loss: 0.5735 - accuracy: 0.6807 - val_loss: 0.5415 - val_accuracy: 0.7619\n",
            "Epoch 5/150\n",
            "4/4 [==============================] - 3s 818ms/step - loss: 0.5369 - accuracy: 0.7311 - val_loss: 0.4610 - val_accuracy: 0.7619\n",
            "Epoch 6/150\n",
            "4/4 [==============================] - 3s 823ms/step - loss: 0.5163 - accuracy: 0.7563 - val_loss: 0.5292 - val_accuracy: 0.7143\n",
            "Epoch 7/150\n",
            "4/4 [==============================] - 4s 891ms/step - loss: 0.4904 - accuracy: 0.8067 - val_loss: 0.4181 - val_accuracy: 0.8095\n",
            "Epoch 8/150\n",
            "4/4 [==============================] - 3s 810ms/step - loss: 0.4472 - accuracy: 0.7983 - val_loss: 0.4308 - val_accuracy: 0.7619\n",
            "Epoch 9/150\n",
            "4/4 [==============================] - 3s 802ms/step - loss: 0.4339 - accuracy: 0.7731 - val_loss: 0.4512 - val_accuracy: 0.7143\n",
            "Epoch 10/150\n",
            "4/4 [==============================] - 3s 819ms/step - loss: 0.3888 - accuracy: 0.8151 - val_loss: 0.4796 - val_accuracy: 0.6667\n",
            "Epoch 11/150\n",
            "4/4 [==============================] - 4s 905ms/step - loss: 0.4188 - accuracy: 0.7647 - val_loss: 0.4762 - val_accuracy: 0.7143\n",
            "Epoch 12/150\n",
            "4/4 [==============================] - 3s 837ms/step - loss: 0.4433 - accuracy: 0.7479 - val_loss: 0.3663 - val_accuracy: 0.8571\n",
            "Epoch 13/150\n",
            "4/4 [==============================] - 3s 841ms/step - loss: 0.3754 - accuracy: 0.8319 - val_loss: 0.3767 - val_accuracy: 0.8571\n",
            "Epoch 14/150\n",
            "4/4 [==============================] - 3s 814ms/step - loss: 0.4356 - accuracy: 0.8067 - val_loss: 0.3368 - val_accuracy: 0.9048\n",
            "Epoch 15/150\n",
            "4/4 [==============================] - 3s 817ms/step - loss: 0.3399 - accuracy: 0.8571 - val_loss: 0.5104 - val_accuracy: 0.6667\n",
            "Epoch 16/150\n",
            "4/4 [==============================] - 3s 824ms/step - loss: 0.3369 - accuracy: 0.8403 - val_loss: 0.3894 - val_accuracy: 0.8571\n",
            "Epoch 17/150\n",
            "4/4 [==============================] - 3s 817ms/step - loss: 0.3795 - accuracy: 0.8151 - val_loss: 0.3823 - val_accuracy: 0.8571\n",
            "Epoch 18/150\n",
            "4/4 [==============================] - 3s 820ms/step - loss: 0.4009 - accuracy: 0.8067 - val_loss: 0.5190 - val_accuracy: 0.7143\n",
            "Epoch 19/150\n",
            "4/4 [==============================] - 4s 893ms/step - loss: 0.3605 - accuracy: 0.8403 - val_loss: 0.5409 - val_accuracy: 0.6667\n",
            "Epoch 20/150\n",
            "4/4 [==============================] - 3s 814ms/step - loss: 0.3560 - accuracy: 0.8403 - val_loss: 0.3939 - val_accuracy: 0.8095\n",
            "Epoch 21/150\n",
            "4/4 [==============================] - 3s 813ms/step - loss: 0.3719 - accuracy: 0.8403 - val_loss: 0.4605 - val_accuracy: 0.7143\n",
            "Epoch 22/150\n",
            "4/4 [==============================] - 3s 811ms/step - loss: 0.3197 - accuracy: 0.9076 - val_loss: 0.4344 - val_accuracy: 0.7143\n",
            "Epoch 23/150\n",
            "4/4 [==============================] - 3s 815ms/step - loss: 0.3351 - accuracy: 0.8319 - val_loss: 0.3979 - val_accuracy: 0.8095\n",
            "Epoch 24/150\n",
            "4/4 [==============================] - 4s 887ms/step - loss: 0.3313 - accuracy: 0.8824 - val_loss: 0.4531 - val_accuracy: 0.8571\n",
            "Epoch 25/150\n",
            "4/4 [==============================] - 3s 819ms/step - loss: 0.2739 - accuracy: 0.9076 - val_loss: 0.3042 - val_accuracy: 0.9524\n",
            "Epoch 26/150\n",
            "4/4 [==============================] - 3s 810ms/step - loss: 0.2666 - accuracy: 0.8992 - val_loss: 0.3075 - val_accuracy: 0.9048\n",
            "Epoch 27/150\n",
            "4/4 [==============================] - 3s 818ms/step - loss: 0.3043 - accuracy: 0.8403 - val_loss: 0.4130 - val_accuracy: 0.8095\n",
            "Epoch 28/150\n",
            "4/4 [==============================] - 4s 883ms/step - loss: 0.2630 - accuracy: 0.8824 - val_loss: 0.3048 - val_accuracy: 0.9048\n",
            "Epoch 29/150\n",
            "4/4 [==============================] - 3s 814ms/step - loss: 0.2534 - accuracy: 0.8992 - val_loss: 0.4165 - val_accuracy: 0.7619\n",
            "Epoch 30/150\n",
            "4/4 [==============================] - 4s 885ms/step - loss: 0.2275 - accuracy: 0.8992 - val_loss: 0.4451 - val_accuracy: 0.7619\n",
            "Epoch 31/150\n",
            "4/4 [==============================] - 3s 825ms/step - loss: 0.3220 - accuracy: 0.8655 - val_loss: 0.5079 - val_accuracy: 0.8095\n",
            "Epoch 32/150\n",
            "4/4 [==============================] - 4s 893ms/step - loss: 0.2939 - accuracy: 0.8655 - val_loss: 0.2713 - val_accuracy: 0.9524\n",
            "Epoch 33/150\n",
            "4/4 [==============================] - 3s 805ms/step - loss: 0.2665 - accuracy: 0.8739 - val_loss: 0.2975 - val_accuracy: 0.9048\n",
            "Epoch 34/150\n",
            "4/4 [==============================] - 3s 820ms/step - loss: 0.2579 - accuracy: 0.8908 - val_loss: 0.2824 - val_accuracy: 0.8571\n",
            "Epoch 35/150\n",
            "4/4 [==============================] - 4s 883ms/step - loss: 0.2566 - accuracy: 0.8655 - val_loss: 0.3251 - val_accuracy: 0.8095\n",
            "Epoch 36/150\n",
            "4/4 [==============================] - 3s 813ms/step - loss: 0.2760 - accuracy: 0.8992 - val_loss: 0.2667 - val_accuracy: 0.9524\n",
            "Epoch 37/150\n",
            "4/4 [==============================] - 3s 815ms/step - loss: 0.2358 - accuracy: 0.9076 - val_loss: 0.2273 - val_accuracy: 0.9524\n",
            "Epoch 38/150\n",
            "4/4 [==============================] - 3s 813ms/step - loss: 0.2210 - accuracy: 0.9076 - val_loss: 0.4278 - val_accuracy: 0.8095\n",
            "Epoch 39/150\n",
            "4/4 [==============================] - 3s 812ms/step - loss: 0.2805 - accuracy: 0.8655 - val_loss: 0.3145 - val_accuracy: 0.8571\n",
            "Epoch 40/150\n",
            "4/4 [==============================] - 3s 818ms/step - loss: 0.2047 - accuracy: 0.9244 - val_loss: 0.4688 - val_accuracy: 0.8095\n",
            "Epoch 41/150\n",
            "4/4 [==============================] - 3s 807ms/step - loss: 0.2223 - accuracy: 0.9328 - val_loss: 0.4872 - val_accuracy: 0.7143\n",
            "Epoch 42/150\n",
            "4/4 [==============================] - 3s 819ms/step - loss: 0.2036 - accuracy: 0.9160 - val_loss: 0.3283 - val_accuracy: 0.8095\n",
            "Epoch 43/150\n",
            "4/4 [==============================] - 3s 820ms/step - loss: 0.2062 - accuracy: 0.9160 - val_loss: 0.5479 - val_accuracy: 0.7619\n",
            "Epoch 44/150\n",
            "4/4 [==============================] - 3s 814ms/step - loss: 0.2513 - accuracy: 0.8908 - val_loss: 0.5088 - val_accuracy: 0.7619\n",
            "Epoch 45/150\n",
            "4/4 [==============================] - 4s 882ms/step - loss: 0.2130 - accuracy: 0.9328 - val_loss: 0.2776 - val_accuracy: 0.9524\n",
            "Epoch 46/150\n",
            "4/4 [==============================] - 3s 820ms/step - loss: 0.2043 - accuracy: 0.9580 - val_loss: 0.4313 - val_accuracy: 0.7619\n",
            "Epoch 47/150\n",
            "4/4 [==============================] - 3s 825ms/step - loss: 0.2379 - accuracy: 0.8908 - val_loss: 0.4275 - val_accuracy: 0.8095\n",
            "Epoch 48/150\n",
            "4/4 [==============================] - 3s 811ms/step - loss: 0.2661 - accuracy: 0.8908 - val_loss: 0.3789 - val_accuracy: 0.9048\n",
            "Epoch 49/150\n",
            "4/4 [==============================] - 3s 818ms/step - loss: 0.1856 - accuracy: 0.9076 - val_loss: 0.3894 - val_accuracy: 0.8571\n",
            "Epoch 50/150\n",
            "4/4 [==============================] - 3s 827ms/step - loss: 0.2221 - accuracy: 0.8992 - val_loss: 0.4780 - val_accuracy: 0.8095\n",
            "Epoch 51/150\n",
            "4/4 [==============================] - 3s 813ms/step - loss: 0.1840 - accuracy: 0.9244 - val_loss: 0.3643 - val_accuracy: 0.7619\n",
            "Epoch 52/150\n",
            "4/4 [==============================] - 3s 808ms/step - loss: 0.2319 - accuracy: 0.8992 - val_loss: 0.4135 - val_accuracy: 0.8095\n",
            "Epoch 53/150\n",
            "4/4 [==============================] - 3s 816ms/step - loss: 0.1851 - accuracy: 0.9328 - val_loss: 0.4387 - val_accuracy: 0.8095\n",
            "Epoch 54/150\n",
            "4/4 [==============================] - 3s 812ms/step - loss: 0.2177 - accuracy: 0.8908 - val_loss: 0.3441 - val_accuracy: 0.8095\n",
            "Epoch 55/150\n",
            "4/4 [==============================] - 3s 812ms/step - loss: 0.2038 - accuracy: 0.9328 - val_loss: 0.2832 - val_accuracy: 0.8571\n",
            "Epoch 56/150\n",
            "4/4 [==============================] - 4s 880ms/step - loss: 0.2250 - accuracy: 0.9076 - val_loss: 0.5728 - val_accuracy: 0.7619\n",
            "Epoch 57/150\n",
            "4/4 [==============================] - 4s 884ms/step - loss: 0.2052 - accuracy: 0.8992 - val_loss: 0.5928 - val_accuracy: 0.6190\n",
            "Epoch 58/150\n",
            "4/4 [==============================] - 4s 882ms/step - loss: 0.1853 - accuracy: 0.9328 - val_loss: 0.5005 - val_accuracy: 0.7143\n",
            "Epoch 59/150\n",
            "4/4 [==============================] - 3s 813ms/step - loss: 0.2136 - accuracy: 0.8908 - val_loss: 0.4022 - val_accuracy: 0.7619\n",
            "Epoch 60/150\n",
            "4/4 [==============================] - 3s 814ms/step - loss: 0.1980 - accuracy: 0.9244 - val_loss: 0.2281 - val_accuracy: 0.9048\n",
            "Epoch 61/150\n",
            "4/4 [==============================] - 3s 816ms/step - loss: 0.2014 - accuracy: 0.9076 - val_loss: 0.2810 - val_accuracy: 0.9048\n",
            "Epoch 62/150\n",
            "4/4 [==============================] - 4s 885ms/step - loss: 0.1938 - accuracy: 0.9160 - val_loss: 0.5077 - val_accuracy: 0.7619\n",
            "Epoch 63/150\n",
            "4/4 [==============================] - 3s 818ms/step - loss: 0.2008 - accuracy: 0.9328 - val_loss: 0.3713 - val_accuracy: 0.8095\n",
            "Epoch 64/150\n",
            "4/4 [==============================] - 4s 883ms/step - loss: 0.1472 - accuracy: 0.9412 - val_loss: 0.5662 - val_accuracy: 0.7143\n",
            "Epoch 65/150\n",
            "4/4 [==============================] - 3s 813ms/step - loss: 0.1671 - accuracy: 0.9580 - val_loss: 0.3776 - val_accuracy: 0.8571\n",
            "Epoch 66/150\n",
            "4/4 [==============================] - 3s 808ms/step - loss: 0.2061 - accuracy: 0.9412 - val_loss: 0.4249 - val_accuracy: 0.8095\n",
            "Epoch 67/150\n",
            "4/4 [==============================] - 3s 823ms/step - loss: 0.1926 - accuracy: 0.9160 - val_loss: 0.4035 - val_accuracy: 0.7143\n",
            "Epoch 68/150\n",
            "4/4 [==============================] - 4s 888ms/step - loss: 0.1510 - accuracy: 0.9580 - val_loss: 0.4214 - val_accuracy: 0.6667\n",
            "Epoch 69/150\n",
            "4/4 [==============================] - 3s 812ms/step - loss: 0.1764 - accuracy: 0.9412 - val_loss: 0.5375 - val_accuracy: 0.7143\n",
            "Epoch 70/150\n",
            "4/4 [==============================] - 4s 881ms/step - loss: 0.1948 - accuracy: 0.9580 - val_loss: 0.3857 - val_accuracy: 0.8095\n",
            "Epoch 71/150\n",
            "4/4 [==============================] - 3s 814ms/step - loss: 0.1504 - accuracy: 0.9244 - val_loss: 0.4790 - val_accuracy: 0.8571\n",
            "Epoch 72/150\n",
            "4/4 [==============================] - 4s 881ms/step - loss: 0.1703 - accuracy: 0.9412 - val_loss: 0.2846 - val_accuracy: 0.8571\n",
            "Epoch 73/150\n",
            "4/4 [==============================] - 3s 808ms/step - loss: 0.2044 - accuracy: 0.9244 - val_loss: 0.2075 - val_accuracy: 1.0000\n",
            "Epoch 74/150\n",
            "4/4 [==============================] - 3s 814ms/step - loss: 0.1663 - accuracy: 0.9244 - val_loss: 0.3766 - val_accuracy: 0.7619\n",
            "Epoch 75/150\n",
            "4/4 [==============================] - 4s 882ms/step - loss: 0.2727 - accuracy: 0.9160 - val_loss: 0.2937 - val_accuracy: 0.9048\n",
            "Epoch 76/150\n",
            "4/4 [==============================] - 3s 806ms/step - loss: 0.1602 - accuracy: 0.9496 - val_loss: 0.3736 - val_accuracy: 0.9524\n",
            "Epoch 77/150\n",
            "4/4 [==============================] - 3s 816ms/step - loss: 0.1744 - accuracy: 0.9664 - val_loss: 0.3600 - val_accuracy: 0.8095\n",
            "Epoch 78/150\n",
            "4/4 [==============================] - 3s 817ms/step - loss: 0.1576 - accuracy: 0.9496 - val_loss: 0.2871 - val_accuracy: 0.8571\n",
            "Epoch 79/150\n",
            "4/4 [==============================] - 4s 884ms/step - loss: 0.1677 - accuracy: 0.9328 - val_loss: 0.3445 - val_accuracy: 0.8571\n",
            "Epoch 80/150\n",
            "4/4 [==============================] - 3s 803ms/step - loss: 0.1588 - accuracy: 0.9412 - val_loss: 0.3023 - val_accuracy: 0.9048\n",
            "Epoch 81/150\n",
            "4/4 [==============================] - 3s 817ms/step - loss: 0.2435 - accuracy: 0.9076 - val_loss: 0.3992 - val_accuracy: 0.8095\n",
            "Epoch 82/150\n",
            "4/4 [==============================] - 3s 814ms/step - loss: 0.2096 - accuracy: 0.9160 - val_loss: 0.5120 - val_accuracy: 0.7619\n",
            "Epoch 83/150\n",
            "4/4 [==============================] - 3s 836ms/step - loss: 0.1707 - accuracy: 0.9328 - val_loss: 0.3251 - val_accuracy: 0.8571\n",
            "Epoch 84/150\n",
            "4/4 [==============================] - 3s 841ms/step - loss: 0.1932 - accuracy: 0.9244 - val_loss: 0.2442 - val_accuracy: 0.9048\n",
            "Epoch 85/150\n",
            "4/4 [==============================] - 3s 828ms/step - loss: 0.1739 - accuracy: 0.9496 - val_loss: 0.2756 - val_accuracy: 0.8571\n",
            "Epoch 86/150\n",
            "4/4 [==============================] - 3s 814ms/step - loss: 0.1797 - accuracy: 0.9328 - val_loss: 0.1923 - val_accuracy: 0.9524\n",
            "Epoch 87/150\n",
            "4/4 [==============================] - 3s 816ms/step - loss: 0.1622 - accuracy: 0.9748 - val_loss: 0.3795 - val_accuracy: 0.8095\n",
            "Epoch 88/150\n",
            "4/4 [==============================] - 3s 821ms/step - loss: 0.2173 - accuracy: 0.9412 - val_loss: 0.3589 - val_accuracy: 0.9048\n",
            "Epoch 89/150\n",
            "4/4 [==============================] - 3s 815ms/step - loss: 0.1960 - accuracy: 0.9412 - val_loss: 0.2605 - val_accuracy: 0.9048\n",
            "Epoch 90/150\n",
            "4/4 [==============================] - 3s 811ms/step - loss: 0.1522 - accuracy: 0.9580 - val_loss: 0.1880 - val_accuracy: 1.0000\n",
            "Epoch 91/150\n",
            "4/4 [==============================] - 4s 881ms/step - loss: 0.1976 - accuracy: 0.9160 - val_loss: 0.2981 - val_accuracy: 0.9048\n",
            "Epoch 92/150\n",
            "4/4 [==============================] - 3s 820ms/step - loss: 0.1443 - accuracy: 0.9580 - val_loss: 0.3231 - val_accuracy: 0.8571\n",
            "Epoch 93/150\n",
            "4/4 [==============================] - 3s 813ms/step - loss: 0.1579 - accuracy: 0.9496 - val_loss: 0.3996 - val_accuracy: 0.8571\n",
            "Epoch 94/150\n",
            "4/4 [==============================] - 3s 809ms/step - loss: 0.1824 - accuracy: 0.9328 - val_loss: 0.4157 - val_accuracy: 0.8571\n",
            "Epoch 95/150\n",
            "4/4 [==============================] - 4s 883ms/step - loss: 0.1703 - accuracy: 0.9664 - val_loss: 0.5724 - val_accuracy: 0.6667\n",
            "Epoch 96/150\n",
            "4/4 [==============================] - 3s 812ms/step - loss: 0.1373 - accuracy: 0.9496 - val_loss: 0.3291 - val_accuracy: 0.8095\n",
            "Epoch 97/150\n",
            "4/4 [==============================] - 4s 893ms/step - loss: 0.2294 - accuracy: 0.9244 - val_loss: 0.3227 - val_accuracy: 0.8095\n",
            "Epoch 98/150\n",
            "4/4 [==============================] - 3s 825ms/step - loss: 0.1630 - accuracy: 0.9412 - val_loss: 0.3895 - val_accuracy: 0.8571\n",
            "Epoch 99/150\n",
            "4/4 [==============================] - 4s 885ms/step - loss: 0.1965 - accuracy: 0.9160 - val_loss: 0.4165 - val_accuracy: 0.8571\n",
            "Epoch 100/150\n",
            "4/4 [==============================] - 3s 816ms/step - loss: 0.2498 - accuracy: 0.8824 - val_loss: 0.2514 - val_accuracy: 0.9524\n",
            "Epoch 101/150\n",
            "4/4 [==============================] - 3s 806ms/step - loss: 0.1704 - accuracy: 0.9412 - val_loss: 0.3064 - val_accuracy: 0.8095\n",
            "Epoch 102/150\n",
            "4/4 [==============================] - 3s 817ms/step - loss: 0.1700 - accuracy: 0.9412 - val_loss: 0.3138 - val_accuracy: 0.8571\n",
            "Epoch 103/150\n",
            "4/4 [==============================] - 3s 815ms/step - loss: 0.1757 - accuracy: 0.9328 - val_loss: 0.3199 - val_accuracy: 0.8571\n",
            "Epoch 104/150\n",
            "4/4 [==============================] - 4s 892ms/step - loss: 0.1611 - accuracy: 0.9580 - val_loss: 0.3242 - val_accuracy: 0.9524\n",
            "Epoch 105/150\n",
            "4/4 [==============================] - 3s 816ms/step - loss: 0.1732 - accuracy: 0.9496 - val_loss: 0.2556 - val_accuracy: 0.9048\n",
            "Epoch 106/150\n",
            "4/4 [==============================] - 3s 816ms/step - loss: 0.1689 - accuracy: 0.9244 - val_loss: 0.4682 - val_accuracy: 0.7619\n",
            "Epoch 107/150\n",
            "4/4 [==============================] - 3s 817ms/step - loss: 0.1555 - accuracy: 0.9664 - val_loss: 0.3725 - val_accuracy: 0.8571\n",
            "Epoch 108/150\n",
            "4/4 [==============================] - 3s 817ms/step - loss: 0.1954 - accuracy: 0.9244 - val_loss: 0.4112 - val_accuracy: 0.7143\n",
            "Epoch 109/150\n",
            "4/4 [==============================] - 4s 889ms/step - loss: 0.1493 - accuracy: 0.9496 - val_loss: 0.3497 - val_accuracy: 0.9048\n",
            "Epoch 110/150\n",
            "4/4 [==============================] - 4s 877ms/step - loss: 0.1568 - accuracy: 0.9580 - val_loss: 0.4167 - val_accuracy: 0.8095\n",
            "Epoch 111/150\n",
            "4/4 [==============================] - 4s 886ms/step - loss: 0.1673 - accuracy: 0.9496 - val_loss: 0.4878 - val_accuracy: 0.8095\n",
            "Epoch 112/150\n",
            "4/4 [==============================] - 3s 817ms/step - loss: 0.1443 - accuracy: 0.9412 - val_loss: 0.4355 - val_accuracy: 0.8571\n",
            "Epoch 113/150\n",
            "4/4 [==============================] - 3s 810ms/step - loss: 0.1722 - accuracy: 0.9160 - val_loss: 0.3730 - val_accuracy: 0.8571\n",
            "Epoch 114/150\n",
            "4/4 [==============================] - 3s 808ms/step - loss: 0.1827 - accuracy: 0.9412 - val_loss: 0.2333 - val_accuracy: 1.0000\n",
            "Epoch 115/150\n",
            "4/4 [==============================] - 3s 822ms/step - loss: 0.2041 - accuracy: 0.8992 - val_loss: 0.3468 - val_accuracy: 0.8571\n",
            "Epoch 116/150\n",
            "4/4 [==============================] - 3s 822ms/step - loss: 0.1892 - accuracy: 0.9244 - val_loss: 0.3196 - val_accuracy: 0.9048\n",
            "Epoch 117/150\n",
            "4/4 [==============================] - 3s 813ms/step - loss: 0.1701 - accuracy: 0.9412 - val_loss: 0.3826 - val_accuracy: 0.9048\n",
            "Epoch 118/150\n",
            "4/4 [==============================] - 3s 816ms/step - loss: 0.2018 - accuracy: 0.9244 - val_loss: 0.4607 - val_accuracy: 0.8095\n",
            "Epoch 119/150\n",
            "4/4 [==============================] - 3s 822ms/step - loss: 0.1720 - accuracy: 0.9412 - val_loss: 0.6240 - val_accuracy: 0.8095\n",
            "Epoch 120/150\n",
            "4/4 [==============================] - 3s 807ms/step - loss: 0.1563 - accuracy: 0.9412 - val_loss: 0.3478 - val_accuracy: 0.8571\n",
            "Epoch 121/150\n",
            "4/4 [==============================] - 3s 822ms/step - loss: 0.1712 - accuracy: 0.9160 - val_loss: 0.3776 - val_accuracy: 0.8095\n",
            "Epoch 122/150\n",
            "4/4 [==============================] - 3s 821ms/step - loss: 0.1647 - accuracy: 0.9412 - val_loss: 0.3123 - val_accuracy: 0.8095\n",
            "Epoch 123/150\n",
            "4/4 [==============================] - 4s 886ms/step - loss: 0.1816 - accuracy: 0.9076 - val_loss: 0.2798 - val_accuracy: 0.8571\n",
            "Epoch 124/150\n",
            "4/4 [==============================] - 3s 815ms/step - loss: 0.1914 - accuracy: 0.9244 - val_loss: 0.3659 - val_accuracy: 0.8571\n",
            "Epoch 125/150\n",
            "4/4 [==============================] - 3s 811ms/step - loss: 0.2030 - accuracy: 0.9244 - val_loss: 0.3327 - val_accuracy: 0.8571\n",
            "Epoch 126/150\n",
            "4/4 [==============================] - 3s 809ms/step - loss: 0.1498 - accuracy: 0.9496 - val_loss: 0.3899 - val_accuracy: 0.7143\n",
            "Epoch 127/150\n",
            "4/4 [==============================] - 3s 821ms/step - loss: 0.1877 - accuracy: 0.9496 - val_loss: 0.2748 - val_accuracy: 0.8571\n",
            "Epoch 128/150\n",
            "4/4 [==============================] - 3s 812ms/step - loss: 0.1667 - accuracy: 0.9328 - val_loss: 0.3086 - val_accuracy: 0.8571\n",
            "Epoch 129/150\n",
            "4/4 [==============================] - 3s 818ms/step - loss: 0.1689 - accuracy: 0.9496 - val_loss: 0.4868 - val_accuracy: 0.8095\n",
            "Epoch 130/150\n",
            "4/4 [==============================] - 3s 816ms/step - loss: 0.1987 - accuracy: 0.9160 - val_loss: 0.3866 - val_accuracy: 0.7619\n",
            "Epoch 131/150\n",
            "4/4 [==============================] - 3s 829ms/step - loss: 0.1395 - accuracy: 0.9580 - val_loss: 0.4589 - val_accuracy: 0.8095\n",
            "Epoch 132/150\n",
            "4/4 [==============================] - 3s 822ms/step - loss: 0.1537 - accuracy: 0.9412 - val_loss: 0.4867 - val_accuracy: 0.8095\n",
            "Epoch 133/150\n",
            "4/4 [==============================] - 3s 817ms/step - loss: 0.1752 - accuracy: 0.9412 - val_loss: 0.3351 - val_accuracy: 0.8095\n",
            "Epoch 134/150\n",
            "4/4 [==============================] - 3s 820ms/step - loss: 0.1428 - accuracy: 0.9580 - val_loss: 0.4802 - val_accuracy: 0.7143\n",
            "Epoch 135/150\n",
            "4/4 [==============================] - 3s 815ms/step - loss: 0.1542 - accuracy: 0.9748 - val_loss: 0.2512 - val_accuracy: 0.8571\n",
            "Epoch 136/150\n",
            "4/4 [==============================] - 3s 819ms/step - loss: 0.2000 - accuracy: 0.9244 - val_loss: 0.4877 - val_accuracy: 0.8095\n",
            "Epoch 137/150\n",
            "4/4 [==============================] - 3s 808ms/step - loss: 0.1994 - accuracy: 0.9076 - val_loss: 0.2722 - val_accuracy: 0.9048\n",
            "Epoch 138/150\n",
            "4/4 [==============================] - 3s 815ms/step - loss: 0.1796 - accuracy: 0.9412 - val_loss: 0.3385 - val_accuracy: 0.7619\n",
            "Epoch 139/150\n",
            "4/4 [==============================] - 3s 806ms/step - loss: 0.1981 - accuracy: 0.8992 - val_loss: 0.2507 - val_accuracy: 0.9048\n",
            "Epoch 140/150\n",
            "4/4 [==============================] - 3s 817ms/step - loss: 0.1798 - accuracy: 0.9160 - val_loss: 0.3471 - val_accuracy: 0.8571\n",
            "Epoch 141/150\n",
            "4/4 [==============================] - 3s 826ms/step - loss: 0.2290 - accuracy: 0.8992 - val_loss: 0.3657 - val_accuracy: 0.8095\n",
            "Epoch 142/150\n",
            "4/4 [==============================] - 3s 830ms/step - loss: 0.1574 - accuracy: 0.9412 - val_loss: 0.3733 - val_accuracy: 0.7143\n",
            "Epoch 143/150\n",
            "4/4 [==============================] - 3s 823ms/step - loss: 0.1805 - accuracy: 0.9328 - val_loss: 0.6108 - val_accuracy: 0.7143\n",
            "Epoch 144/150\n",
            "4/4 [==============================] - 4s 890ms/step - loss: 0.1588 - accuracy: 0.9412 - val_loss: 0.4861 - val_accuracy: 0.8095\n",
            "Epoch 145/150\n",
            "4/4 [==============================] - 3s 816ms/step - loss: 0.1916 - accuracy: 0.9328 - val_loss: 0.5706 - val_accuracy: 0.7619\n",
            "Epoch 146/150\n",
            "4/4 [==============================] - 4s 890ms/step - loss: 0.1695 - accuracy: 0.9328 - val_loss: 0.2760 - val_accuracy: 0.8571\n",
            "Epoch 147/150\n",
            "4/4 [==============================] - 3s 817ms/step - loss: 0.1688 - accuracy: 0.9412 - val_loss: 0.5310 - val_accuracy: 0.7143\n",
            "Epoch 148/150\n",
            "4/4 [==============================] - 3s 813ms/step - loss: 0.1962 - accuracy: 0.9160 - val_loss: 0.5255 - val_accuracy: 0.7619\n",
            "Epoch 149/150\n",
            "4/4 [==============================] - 3s 821ms/step - loss: 0.1544 - accuracy: 0.9496 - val_loss: 0.4060 - val_accuracy: 0.8571\n",
            "Epoch 150/150\n",
            "4/4 [==============================] - 4s 886ms/step - loss: 0.1358 - accuracy: 0.9748 - val_loss: 0.4283 - val_accuracy: 0.8571\n"
          ],
          "name": "stdout"
        },
        {
          "output_type": "stream",
          "text": [
            "/usr/local/lib/python3.6/dist-packages/ipykernel_launcher.py:84: SettingWithCopyWarning: \n",
            "A value is trying to be set on a copy of a slice from a DataFrame.\n",
            "Try using .loc[row_indexer,col_indexer] = value instead\n",
            "\n",
            "See the caveats in the documentation: https://pandas.pydata.org/pandas-docs/stable/user_guide/indexing.html#returning-a-view-versus-a-copy\n",
            "/usr/local/lib/python3.6/dist-packages/ipykernel_launcher.py:96: SettingWithCopyWarning: \n",
            "A value is trying to be set on a copy of a slice from a DataFrame.\n",
            "Try using .loc[row_indexer,col_indexer] = value instead\n",
            "\n",
            "See the caveats in the documentation: https://pandas.pydata.org/pandas-docs/stable/user_guide/indexing.html#returning-a-view-versus-a-copy\n"
          ],
          "name": "stderr"
        },
        {
          "output_type": "stream",
          "text": [
            "Found 119 validated image filenames belonging to 2 classes.\n",
            "Found 21 validated image filenames belonging to 2 classes.\n",
            "Found 25 validated image filenames.\n",
            "Found 140 validated image filenames.\n",
            "Epoch 1/150\n",
            "4/4 [==============================] - 6s 2s/step - loss: 1.4606 - accuracy: 0.5882 - val_loss: 0.9753 - val_accuracy: 0.5238\n",
            "Epoch 2/150\n",
            "4/4 [==============================] - 3s 829ms/step - loss: 0.7416 - accuracy: 0.6723 - val_loss: 0.6786 - val_accuracy: 0.4762\n",
            "Epoch 3/150\n",
            "4/4 [==============================] - 3s 822ms/step - loss: 0.6616 - accuracy: 0.6555 - val_loss: 0.6443 - val_accuracy: 0.5238\n",
            "Epoch 4/150\n",
            "4/4 [==============================] - 3s 812ms/step - loss: 0.6139 - accuracy: 0.6723 - val_loss: 0.6747 - val_accuracy: 0.5238\n",
            "Epoch 5/150\n",
            "4/4 [==============================] - 4s 896ms/step - loss: 0.5899 - accuracy: 0.6807 - val_loss: 0.7253 - val_accuracy: 0.5238\n",
            "Epoch 6/150\n",
            "4/4 [==============================] - 3s 811ms/step - loss: 0.5825 - accuracy: 0.6807 - val_loss: 0.6209 - val_accuracy: 0.5238\n",
            "Epoch 7/150\n",
            "4/4 [==============================] - 3s 818ms/step - loss: 0.5653 - accuracy: 0.6807 - val_loss: 0.6273 - val_accuracy: 0.5238\n",
            "Epoch 8/150\n",
            "4/4 [==============================] - 3s 820ms/step - loss: 0.5635 - accuracy: 0.6807 - val_loss: 0.5705 - val_accuracy: 0.5238\n",
            "Epoch 9/150\n",
            "4/4 [==============================] - 3s 812ms/step - loss: 0.5522 - accuracy: 0.6807 - val_loss: 0.5874 - val_accuracy: 0.5238\n",
            "Epoch 10/150\n",
            "4/4 [==============================] - 3s 813ms/step - loss: 0.5189 - accuracy: 0.6807 - val_loss: 0.5632 - val_accuracy: 0.5238\n",
            "Epoch 11/150\n",
            "4/4 [==============================] - 3s 813ms/step - loss: 0.5465 - accuracy: 0.6807 - val_loss: 0.5650 - val_accuracy: 0.5238\n",
            "Epoch 12/150\n",
            "4/4 [==============================] - 3s 813ms/step - loss: 0.5106 - accuracy: 0.6807 - val_loss: 0.5972 - val_accuracy: 0.5238\n",
            "Epoch 13/150\n",
            "4/4 [==============================] - 3s 812ms/step - loss: 0.5025 - accuracy: 0.6807 - val_loss: 0.5682 - val_accuracy: 0.5238\n",
            "Epoch 14/150\n",
            "4/4 [==============================] - 3s 820ms/step - loss: 0.4936 - accuracy: 0.6807 - val_loss: 0.5285 - val_accuracy: 0.5238\n",
            "Epoch 15/150\n",
            "4/4 [==============================] - 3s 814ms/step - loss: 0.5237 - accuracy: 0.6807 - val_loss: 0.5956 - val_accuracy: 0.5238\n",
            "Epoch 16/150\n",
            "4/4 [==============================] - 3s 814ms/step - loss: 0.4495 - accuracy: 0.6807 - val_loss: 0.5781 - val_accuracy: 0.5238\n",
            "Epoch 17/150\n",
            "4/4 [==============================] - 4s 885ms/step - loss: 0.4701 - accuracy: 0.6807 - val_loss: 0.5434 - val_accuracy: 0.5238\n",
            "Epoch 18/150\n",
            "4/4 [==============================] - 3s 815ms/step - loss: 0.4840 - accuracy: 0.6807 - val_loss: 0.5108 - val_accuracy: 0.5238\n",
            "Epoch 19/150\n",
            "4/4 [==============================] - 3s 814ms/step - loss: 0.4604 - accuracy: 0.6975 - val_loss: 0.5628 - val_accuracy: 0.6667\n",
            "Epoch 20/150\n",
            "4/4 [==============================] - 3s 823ms/step - loss: 0.4544 - accuracy: 0.7815 - val_loss: 0.6153 - val_accuracy: 0.5714\n",
            "Epoch 21/150\n",
            "4/4 [==============================] - 4s 875ms/step - loss: 0.4706 - accuracy: 0.7731 - val_loss: 0.5917 - val_accuracy: 0.5714\n",
            "Epoch 22/150\n",
            "4/4 [==============================] - 3s 828ms/step - loss: 0.4696 - accuracy: 0.7647 - val_loss: 0.5198 - val_accuracy: 0.6190\n",
            "Epoch 23/150\n",
            "4/4 [==============================] - 3s 827ms/step - loss: 0.4296 - accuracy: 0.8067 - val_loss: 0.5658 - val_accuracy: 0.6190\n",
            "Epoch 24/150\n",
            "4/4 [==============================] - 3s 828ms/step - loss: 0.4539 - accuracy: 0.7311 - val_loss: 0.4676 - val_accuracy: 0.7143\n",
            "Epoch 25/150\n",
            "4/4 [==============================] - 4s 885ms/step - loss: 0.4085 - accuracy: 0.8571 - val_loss: 0.5050 - val_accuracy: 0.6190\n",
            "Epoch 26/150\n",
            "4/4 [==============================] - 3s 818ms/step - loss: 0.4145 - accuracy: 0.7899 - val_loss: 0.6884 - val_accuracy: 0.6190\n",
            "Epoch 27/150\n",
            "4/4 [==============================] - 4s 890ms/step - loss: 0.4238 - accuracy: 0.8487 - val_loss: 0.5610 - val_accuracy: 0.5714\n",
            "Epoch 28/150\n",
            "4/4 [==============================] - 4s 888ms/step - loss: 0.4255 - accuracy: 0.7899 - val_loss: 0.6292 - val_accuracy: 0.6190\n",
            "Epoch 29/150\n",
            "4/4 [==============================] - 3s 814ms/step - loss: 0.4051 - accuracy: 0.7731 - val_loss: 0.5523 - val_accuracy: 0.6667\n",
            "Epoch 30/150\n",
            "4/4 [==============================] - 3s 815ms/step - loss: 0.4009 - accuracy: 0.8571 - val_loss: 0.4715 - val_accuracy: 0.6667\n",
            "Epoch 31/150\n",
            "4/4 [==============================] - 3s 816ms/step - loss: 0.4192 - accuracy: 0.7983 - val_loss: 0.5738 - val_accuracy: 0.5714\n",
            "Epoch 32/150\n",
            "4/4 [==============================] - 3s 809ms/step - loss: 0.4176 - accuracy: 0.7983 - val_loss: 0.4942 - val_accuracy: 0.6667\n",
            "Epoch 33/150\n",
            "4/4 [==============================] - 3s 813ms/step - loss: 0.4004 - accuracy: 0.7983 - val_loss: 0.4435 - val_accuracy: 0.6667\n",
            "Epoch 34/150\n",
            "4/4 [==============================] - 3s 812ms/step - loss: 0.3853 - accuracy: 0.8319 - val_loss: 0.5472 - val_accuracy: 0.6190\n",
            "Epoch 35/150\n",
            "4/4 [==============================] - 3s 812ms/step - loss: 0.3964 - accuracy: 0.8235 - val_loss: 0.4465 - val_accuracy: 0.7143\n",
            "Epoch 36/150\n",
            "4/4 [==============================] - 3s 823ms/step - loss: 0.4116 - accuracy: 0.7983 - val_loss: 0.5698 - val_accuracy: 0.6667\n",
            "Epoch 37/150\n",
            "4/4 [==============================] - 3s 809ms/step - loss: 0.4070 - accuracy: 0.8151 - val_loss: 0.4754 - val_accuracy: 0.5714\n",
            "Epoch 38/150\n",
            "4/4 [==============================] - 4s 878ms/step - loss: 0.3957 - accuracy: 0.8151 - val_loss: 0.4477 - val_accuracy: 0.7143\n",
            "Epoch 39/150\n",
            "4/4 [==============================] - 3s 817ms/step - loss: 0.3955 - accuracy: 0.8235 - val_loss: 0.5467 - val_accuracy: 0.6667\n",
            "Epoch 40/150\n",
            "4/4 [==============================] - 3s 810ms/step - loss: 0.3852 - accuracy: 0.8067 - val_loss: 0.5287 - val_accuracy: 0.6667\n",
            "Epoch 41/150\n",
            "4/4 [==============================] - 3s 825ms/step - loss: 0.3859 - accuracy: 0.8487 - val_loss: 0.5127 - val_accuracy: 0.7143\n",
            "Epoch 42/150\n",
            "4/4 [==============================] - 4s 886ms/step - loss: 0.3751 - accuracy: 0.8824 - val_loss: 0.5406 - val_accuracy: 0.7143\n",
            "Epoch 43/150\n",
            "4/4 [==============================] - 3s 818ms/step - loss: 0.3645 - accuracy: 0.8824 - val_loss: 0.5182 - val_accuracy: 0.6667\n",
            "Epoch 44/150\n",
            "4/4 [==============================] - 3s 824ms/step - loss: 0.3405 - accuracy: 0.8151 - val_loss: 0.6313 - val_accuracy: 0.5714\n",
            "Epoch 45/150\n",
            "4/4 [==============================] - 3s 815ms/step - loss: 0.3570 - accuracy: 0.8571 - val_loss: 0.5139 - val_accuracy: 0.7143\n",
            "Epoch 46/150\n",
            "4/4 [==============================] - 3s 809ms/step - loss: 0.3680 - accuracy: 0.8319 - val_loss: 0.4624 - val_accuracy: 0.7143\n",
            "Epoch 47/150\n",
            "4/4 [==============================] - 3s 810ms/step - loss: 0.3573 - accuracy: 0.8908 - val_loss: 0.4694 - val_accuracy: 0.7143\n",
            "Epoch 48/150\n",
            "4/4 [==============================] - 4s 888ms/step - loss: 0.3959 - accuracy: 0.8319 - val_loss: 0.4300 - val_accuracy: 0.7619\n",
            "Epoch 49/150\n",
            "4/4 [==============================] - 3s 811ms/step - loss: 0.3401 - accuracy: 0.8655 - val_loss: 0.4058 - val_accuracy: 0.8571\n",
            "Epoch 50/150\n",
            "4/4 [==============================] - 3s 815ms/step - loss: 0.3729 - accuracy: 0.8824 - val_loss: 0.4088 - val_accuracy: 0.8571\n",
            "Epoch 51/150\n",
            "4/4 [==============================] - 3s 803ms/step - loss: 0.3666 - accuracy: 0.8487 - val_loss: 0.4191 - val_accuracy: 0.8571\n",
            "Epoch 52/150\n",
            "4/4 [==============================] - 3s 810ms/step - loss: 0.3798 - accuracy: 0.8403 - val_loss: 0.5010 - val_accuracy: 0.6667\n",
            "Epoch 53/150\n",
            "4/4 [==============================] - 4s 876ms/step - loss: 0.3840 - accuracy: 0.8487 - val_loss: 0.5086 - val_accuracy: 0.7143\n",
            "Epoch 54/150\n",
            "4/4 [==============================] - 3s 819ms/step - loss: 0.3696 - accuracy: 0.8403 - val_loss: 0.3912 - val_accuracy: 0.8095\n",
            "Epoch 55/150\n",
            "4/4 [==============================] - 3s 807ms/step - loss: 0.3779 - accuracy: 0.8319 - val_loss: 0.5176 - val_accuracy: 0.7143\n",
            "Epoch 56/150\n",
            "4/4 [==============================] - 3s 811ms/step - loss: 0.3600 - accuracy: 0.8655 - val_loss: 0.5407 - val_accuracy: 0.7619\n",
            "Epoch 57/150\n",
            "4/4 [==============================] - 3s 802ms/step - loss: 0.3448 - accuracy: 0.8403 - val_loss: 0.4604 - val_accuracy: 0.7619\n",
            "Epoch 58/150\n",
            "4/4 [==============================] - 3s 812ms/step - loss: 0.3266 - accuracy: 0.8655 - val_loss: 0.4366 - val_accuracy: 0.8095\n",
            "Epoch 59/150\n",
            "4/4 [==============================] - 3s 810ms/step - loss: 0.3953 - accuracy: 0.8319 - val_loss: 0.4709 - val_accuracy: 0.7143\n",
            "Epoch 60/150\n",
            "4/4 [==============================] - 3s 821ms/step - loss: 0.3719 - accuracy: 0.8487 - val_loss: 0.4945 - val_accuracy: 0.7143\n",
            "Epoch 61/150\n",
            "4/4 [==============================] - 3s 814ms/step - loss: 0.3568 - accuracy: 0.8571 - val_loss: 0.4786 - val_accuracy: 0.6667\n",
            "Epoch 62/150\n",
            "4/4 [==============================] - 4s 888ms/step - loss: 0.3529 - accuracy: 0.8571 - val_loss: 0.4242 - val_accuracy: 0.8095\n",
            "Epoch 63/150\n",
            "4/4 [==============================] - 3s 808ms/step - loss: 0.4169 - accuracy: 0.7983 - val_loss: 0.4665 - val_accuracy: 0.6667\n",
            "Epoch 64/150\n",
            "4/4 [==============================] - 3s 819ms/step - loss: 0.3670 - accuracy: 0.8403 - val_loss: 0.5059 - val_accuracy: 0.8095\n",
            "Epoch 65/150\n",
            "4/4 [==============================] - 3s 816ms/step - loss: 0.3587 - accuracy: 0.8739 - val_loss: 0.4331 - val_accuracy: 0.8095\n",
            "Epoch 66/150\n",
            "4/4 [==============================] - 3s 812ms/step - loss: 0.3626 - accuracy: 0.8571 - val_loss: 0.4531 - val_accuracy: 0.7619\n",
            "Epoch 67/150\n",
            "4/4 [==============================] - 3s 808ms/step - loss: 0.3470 - accuracy: 0.8824 - val_loss: 0.5055 - val_accuracy: 0.7619\n",
            "Epoch 68/150\n",
            "4/4 [==============================] - 3s 817ms/step - loss: 0.3950 - accuracy: 0.8571 - val_loss: 0.4405 - val_accuracy: 0.7619\n",
            "Epoch 69/150\n",
            "4/4 [==============================] - 3s 820ms/step - loss: 0.3455 - accuracy: 0.8655 - val_loss: 0.6099 - val_accuracy: 0.7619\n",
            "Epoch 70/150\n",
            "4/4 [==============================] - 3s 832ms/step - loss: 0.3372 - accuracy: 0.8908 - val_loss: 0.4318 - val_accuracy: 0.8095\n",
            "Epoch 71/150\n",
            "4/4 [==============================] - 3s 843ms/step - loss: 0.3559 - accuracy: 0.8655 - val_loss: 0.5061 - val_accuracy: 0.7143\n",
            "Epoch 72/150\n",
            "4/4 [==============================] - 3s 841ms/step - loss: 0.3564 - accuracy: 0.8739 - val_loss: 0.4510 - val_accuracy: 0.8095\n",
            "Epoch 73/150\n",
            "4/4 [==============================] - 3s 831ms/step - loss: 0.3429 - accuracy: 0.8824 - val_loss: 0.4552 - val_accuracy: 0.7619\n",
            "Epoch 74/150\n",
            "4/4 [==============================] - 3s 805ms/step - loss: 0.3880 - accuracy: 0.8571 - val_loss: 0.5589 - val_accuracy: 0.6667\n",
            "Epoch 75/150\n",
            "4/4 [==============================] - 3s 816ms/step - loss: 0.3392 - accuracy: 0.8571 - val_loss: 0.4538 - val_accuracy: 0.7143\n",
            "Epoch 76/150\n",
            "4/4 [==============================] - 3s 807ms/step - loss: 0.3441 - accuracy: 0.8655 - val_loss: 0.5414 - val_accuracy: 0.6667\n",
            "Epoch 77/150\n",
            "4/4 [==============================] - 3s 811ms/step - loss: 0.3344 - accuracy: 0.8992 - val_loss: 0.5155 - val_accuracy: 0.6667\n",
            "Epoch 78/150\n",
            "4/4 [==============================] - 3s 819ms/step - loss: 0.3307 - accuracy: 0.8992 - val_loss: 0.4198 - val_accuracy: 0.8095\n",
            "Epoch 79/150\n",
            "4/4 [==============================] - 4s 890ms/step - loss: 0.3366 - accuracy: 0.8908 - val_loss: 0.4489 - val_accuracy: 0.7619\n",
            "Epoch 80/150\n",
            "4/4 [==============================] - 3s 821ms/step - loss: 0.3284 - accuracy: 0.8824 - val_loss: 0.4513 - val_accuracy: 0.8571\n",
            "Epoch 81/150\n",
            "4/4 [==============================] - 3s 809ms/step - loss: 0.3383 - accuracy: 0.9076 - val_loss: 0.5792 - val_accuracy: 0.6190\n",
            "Epoch 82/150\n",
            "4/4 [==============================] - 3s 818ms/step - loss: 0.3346 - accuracy: 0.8824 - val_loss: 0.5122 - val_accuracy: 0.7143\n",
            "Epoch 83/150\n",
            "4/4 [==============================] - 3s 804ms/step - loss: 0.3891 - accuracy: 0.8908 - val_loss: 0.5054 - val_accuracy: 0.7619\n",
            "Epoch 84/150\n",
            "4/4 [==============================] - 4s 888ms/step - loss: 0.3604 - accuracy: 0.8571 - val_loss: 0.4314 - val_accuracy: 0.7143\n",
            "Epoch 85/150\n",
            "4/4 [==============================] - 4s 889ms/step - loss: 0.3417 - accuracy: 0.8235 - val_loss: 0.4631 - val_accuracy: 0.6667\n",
            "Epoch 86/150\n",
            "4/4 [==============================] - 3s 815ms/step - loss: 0.3526 - accuracy: 0.8319 - val_loss: 0.4772 - val_accuracy: 0.6190\n",
            "Epoch 87/150\n",
            "4/4 [==============================] - 4s 892ms/step - loss: 0.3412 - accuracy: 0.8908 - val_loss: 0.5829 - val_accuracy: 0.7143\n",
            "Epoch 88/150\n",
            "4/4 [==============================] - 4s 889ms/step - loss: 0.3412 - accuracy: 0.9076 - val_loss: 0.5398 - val_accuracy: 0.7619\n",
            "Epoch 89/150\n",
            "4/4 [==============================] - 3s 817ms/step - loss: 0.3832 - accuracy: 0.8487 - val_loss: 0.4904 - val_accuracy: 0.8095\n",
            "Epoch 90/150\n",
            "4/4 [==============================] - 4s 886ms/step - loss: 0.3529 - accuracy: 0.8824 - val_loss: 0.5029 - val_accuracy: 0.7143\n",
            "Epoch 91/150\n",
            "4/4 [==============================] - 4s 886ms/step - loss: 0.3505 - accuracy: 0.8487 - val_loss: 0.6035 - val_accuracy: 0.7143\n",
            "Epoch 92/150\n",
            "4/4 [==============================] - 3s 818ms/step - loss: 0.3322 - accuracy: 0.8403 - val_loss: 0.4399 - val_accuracy: 0.8095\n",
            "Epoch 93/150\n",
            "4/4 [==============================] - 4s 883ms/step - loss: 0.3302 - accuracy: 0.8824 - val_loss: 0.5529 - val_accuracy: 0.7143\n",
            "Epoch 94/150\n",
            "4/4 [==============================] - 3s 826ms/step - loss: 0.3572 - accuracy: 0.8739 - val_loss: 0.5099 - val_accuracy: 0.7619\n",
            "Epoch 95/150\n",
            "4/4 [==============================] - 3s 808ms/step - loss: 0.3456 - accuracy: 0.8908 - val_loss: 0.6092 - val_accuracy: 0.7143\n",
            "Epoch 96/150\n",
            "4/4 [==============================] - 4s 883ms/step - loss: 0.3509 - accuracy: 0.8403 - val_loss: 0.5420 - val_accuracy: 0.6667\n",
            "Epoch 97/150\n",
            "4/4 [==============================] - 4s 894ms/step - loss: 0.3366 - accuracy: 0.8908 - val_loss: 0.4921 - val_accuracy: 0.6190\n",
            "Epoch 98/150\n",
            "4/4 [==============================] - 3s 827ms/step - loss: 0.3467 - accuracy: 0.8908 - val_loss: 0.4789 - val_accuracy: 0.6667\n",
            "Epoch 99/150\n",
            "4/4 [==============================] - 4s 883ms/step - loss: 0.3648 - accuracy: 0.8235 - val_loss: 0.5347 - val_accuracy: 0.6667\n",
            "Epoch 100/150\n",
            "4/4 [==============================] - ETA: 0s - loss: 0.3498 - accuracy: 0.8824Epoch 101/150\n",
            "4/4 [==============================] - 3s 813ms/step - loss: 0.3640 - accuracy: 0.8235 - val_loss: 0.5544 - val_accuracy: 0.6667\n",
            "Epoch 102/150\n",
            "4/4 [==============================] - 3s 814ms/step - loss: 0.3399 - accuracy: 0.9076 - val_loss: 0.4893 - val_accuracy: 0.7143\n",
            "Epoch 103/150\n",
            "4/4 [==============================] - 4s 880ms/step - loss: 0.3378 - accuracy: 0.8824 - val_loss: 0.5288 - val_accuracy: 0.6190\n",
            "Epoch 104/150\n",
            "4/4 [==============================] - 4s 886ms/step - loss: 0.3932 - accuracy: 0.8403 - val_loss: 0.5072 - val_accuracy: 0.7619\n",
            "Epoch 105/150\n",
            "4/4 [==============================] - 3s 818ms/step - loss: 0.3751 - accuracy: 0.8403 - val_loss: 0.3974 - val_accuracy: 0.7619\n",
            "Epoch 106/150\n",
            "4/4 [==============================] - 3s 815ms/step - loss: 0.3424 - accuracy: 0.8824 - val_loss: 0.4266 - val_accuracy: 0.7619\n",
            "Epoch 107/150\n",
            "4/4 [==============================] - 3s 811ms/step - loss: 0.3413 - accuracy: 0.8655 - val_loss: 0.4793 - val_accuracy: 0.8095\n",
            "Epoch 108/150\n",
            "4/4 [==============================] - 3s 817ms/step - loss: 0.3555 - accuracy: 0.8487 - val_loss: 0.4674 - val_accuracy: 0.7143\n",
            "Epoch 109/150\n",
            "4/4 [==============================] - 4s 897ms/step - loss: 0.3477 - accuracy: 0.8908 - val_loss: 0.5049 - val_accuracy: 0.6190\n",
            "Epoch 110/150\n",
            "4/4 [==============================] - 3s 812ms/step - loss: 0.3491 - accuracy: 0.8487 - val_loss: 0.5505 - val_accuracy: 0.6667\n",
            "Epoch 111/150\n",
            "4/4 [==============================] - 3s 811ms/step - loss: 0.3427 - accuracy: 0.8655 - val_loss: 0.4663 - val_accuracy: 0.6667\n",
            "Epoch 112/150\n",
            "4/4 [==============================] - 4s 894ms/step - loss: 0.3563 - accuracy: 0.8992 - val_loss: 0.6024 - val_accuracy: 0.6667\n",
            "Epoch 113/150\n",
            "4/4 [==============================] - 3s 816ms/step - loss: 0.3608 - accuracy: 0.8487 - val_loss: 0.5080 - val_accuracy: 0.7143\n",
            "Epoch 114/150\n",
            "4/4 [==============================] - 4s 886ms/step - loss: 0.3587 - accuracy: 0.8739 - val_loss: 0.5362 - val_accuracy: 0.6667\n",
            "Epoch 115/150\n",
            "4/4 [==============================] - 4s 896ms/step - loss: 0.3640 - accuracy: 0.8908 - val_loss: 0.5140 - val_accuracy: 0.6667\n",
            "Epoch 116/150\n",
            "4/4 [==============================] - 3s 829ms/step - loss: 0.3536 - accuracy: 0.8824 - val_loss: 0.3861 - val_accuracy: 0.8571\n",
            "Epoch 117/150\n",
            "4/4 [==============================] - 3s 827ms/step - loss: 0.3473 - accuracy: 0.8739 - val_loss: 0.4779 - val_accuracy: 0.7619\n",
            "Epoch 118/150\n",
            "4/4 [==============================] - 4s 881ms/step - loss: 0.3609 - accuracy: 0.8403 - val_loss: 0.5084 - val_accuracy: 0.7143\n",
            "Epoch 119/150\n",
            "4/4 [==============================] - 3s 825ms/step - loss: 0.3244 - accuracy: 0.8824 - val_loss: 0.4902 - val_accuracy: 0.6667\n",
            "Epoch 120/150\n",
            "4/4 [==============================] - 4s 881ms/step - loss: 0.3796 - accuracy: 0.8487 - val_loss: 0.3969 - val_accuracy: 0.7619\n",
            "Epoch 121/150\n",
            "4/4 [==============================] - 4s 882ms/step - loss: 0.3555 - accuracy: 0.8739 - val_loss: 0.6177 - val_accuracy: 0.6190\n",
            "Epoch 122/150\n",
            "4/4 [==============================] - 3s 821ms/step - loss: 0.3481 - accuracy: 0.8571 - val_loss: 0.4393 - val_accuracy: 0.6667\n",
            "Epoch 123/150\n",
            "4/4 [==============================] - 3s 818ms/step - loss: 0.3674 - accuracy: 0.8655 - val_loss: 0.4923 - val_accuracy: 0.7619\n",
            "Epoch 124/150\n",
            "4/4 [==============================] - 3s 800ms/step - loss: 0.3325 - accuracy: 0.8908 - val_loss: 0.4305 - val_accuracy: 0.7619\n",
            "Epoch 125/150\n",
            "4/4 [==============================] - 4s 878ms/step - loss: 0.3415 - accuracy: 0.8992 - val_loss: 0.4302 - val_accuracy: 0.7619\n",
            "Epoch 126/150\n",
            "4/4 [==============================] - 4s 882ms/step - loss: 0.3503 - accuracy: 0.8992 - val_loss: 0.4297 - val_accuracy: 0.7143\n",
            "Epoch 127/150\n",
            "4/4 [==============================] - 3s 811ms/step - loss: 0.3318 - accuracy: 0.8908 - val_loss: 0.3931 - val_accuracy: 0.7143\n",
            "Epoch 128/150\n",
            "4/4 [==============================] - 4s 886ms/step - loss: 0.3308 - accuracy: 0.8824 - val_loss: 0.4430 - val_accuracy: 0.7619\n",
            "Epoch 129/150\n",
            "4/4 [==============================] - 3s 808ms/step - loss: 0.3541 - accuracy: 0.8067 - val_loss: 0.4846 - val_accuracy: 0.7619\n",
            "Epoch 130/150\n",
            "4/4 [==============================] - 3s 806ms/step - loss: 0.3582 - accuracy: 0.8655 - val_loss: 0.5165 - val_accuracy: 0.7619\n",
            "Epoch 131/150\n",
            "4/4 [==============================] - 3s 810ms/step - loss: 0.3231 - accuracy: 0.9076 - val_loss: 0.4809 - val_accuracy: 0.6667\n",
            "Epoch 132/150\n",
            "4/4 [==============================] - 3s 811ms/step - loss: 0.3228 - accuracy: 0.8992 - val_loss: 0.4406 - val_accuracy: 0.6667\n",
            "Epoch 133/150\n",
            "4/4 [==============================] - 3s 816ms/step - loss: 0.3442 - accuracy: 0.8824 - val_loss: 0.6278 - val_accuracy: 0.6190\n",
            "Epoch 134/150\n",
            "4/4 [==============================] - 3s 818ms/step - loss: 0.3611 - accuracy: 0.8739 - val_loss: 0.4994 - val_accuracy: 0.7619\n",
            "Epoch 135/150\n",
            "4/4 [==============================] - 3s 821ms/step - loss: 0.3455 - accuracy: 0.9076 - val_loss: 0.5709 - val_accuracy: 0.6667\n",
            "Epoch 136/150\n",
            "4/4 [==============================] - 3s 810ms/step - loss: 0.3663 - accuracy: 0.8487 - val_loss: 0.5573 - val_accuracy: 0.7143\n",
            "Epoch 137/150\n",
            "4/4 [==============================] - 3s 815ms/step - loss: 0.3622 - accuracy: 0.9160 - val_loss: 0.5208 - val_accuracy: 0.6667\n",
            "Epoch 138/150\n",
            "4/4 [==============================] - 3s 803ms/step - loss: 0.3817 - accuracy: 0.8908 - val_loss: 0.5432 - val_accuracy: 0.6190\n",
            "Epoch 139/150\n",
            "4/4 [==============================] - 3s 811ms/step - loss: 0.3448 - accuracy: 0.8571 - val_loss: 0.4592 - val_accuracy: 0.6190\n",
            "Epoch 140/150\n",
            "4/4 [==============================] - 3s 814ms/step - loss: 0.3636 - accuracy: 0.8319 - val_loss: 0.5833 - val_accuracy: 0.7619\n",
            "Epoch 141/150\n",
            "4/4 [==============================] - 3s 809ms/step - loss: 0.3461 - accuracy: 0.8319 - val_loss: 0.4849 - val_accuracy: 0.7619\n",
            "Epoch 142/150\n",
            "4/4 [==============================] - 3s 826ms/step - loss: 0.3272 - accuracy: 0.8824 - val_loss: 0.6646 - val_accuracy: 0.6667\n",
            "Epoch 143/150\n",
            "4/4 [==============================] - 3s 843ms/step - loss: 0.3769 - accuracy: 0.8403 - val_loss: 0.4524 - val_accuracy: 0.8095\n",
            "Epoch 144/150\n",
            "4/4 [==============================] - 3s 818ms/step - loss: 0.3707 - accuracy: 0.8319 - val_loss: 0.4917 - val_accuracy: 0.7619\n",
            "Epoch 145/150\n",
            "4/4 [==============================] - 3s 808ms/step - loss: 0.3423 - accuracy: 0.8739 - val_loss: 0.4579 - val_accuracy: 0.7143\n",
            "Epoch 146/150\n",
            "4/4 [==============================] - 4s 884ms/step - loss: 0.3415 - accuracy: 0.8908 - val_loss: 0.6004 - val_accuracy: 0.6667\n",
            "Epoch 147/150\n",
            "4/4 [==============================] - 3s 813ms/step - loss: 0.3300 - accuracy: 0.9076 - val_loss: 0.5206 - val_accuracy: 0.6667\n",
            "Epoch 148/150\n",
            "4/4 [==============================] - 3s 811ms/step - loss: 0.3362 - accuracy: 0.9160 - val_loss: 0.4345 - val_accuracy: 0.7619\n",
            "Epoch 149/150\n",
            "4/4 [==============================] - 3s 814ms/step - loss: 0.3647 - accuracy: 0.8403 - val_loss: 0.4574 - val_accuracy: 0.7143\n",
            "Epoch 150/150\n",
            "4/4 [==============================] - 3s 818ms/step - loss: 0.3367 - accuracy: 0.8992 - val_loss: 0.6206 - val_accuracy: 0.6190\n"
          ],
          "name": "stdout"
        },
        {
          "output_type": "stream",
          "text": [
            "/usr/local/lib/python3.6/dist-packages/ipykernel_launcher.py:84: SettingWithCopyWarning: \n",
            "A value is trying to be set on a copy of a slice from a DataFrame.\n",
            "Try using .loc[row_indexer,col_indexer] = value instead\n",
            "\n",
            "See the caveats in the documentation: https://pandas.pydata.org/pandas-docs/stable/user_guide/indexing.html#returning-a-view-versus-a-copy\n",
            "/usr/local/lib/python3.6/dist-packages/ipykernel_launcher.py:96: SettingWithCopyWarning: \n",
            "A value is trying to be set on a copy of a slice from a DataFrame.\n",
            "Try using .loc[row_indexer,col_indexer] = value instead\n",
            "\n",
            "See the caveats in the documentation: https://pandas.pydata.org/pandas-docs/stable/user_guide/indexing.html#returning-a-view-versus-a-copy\n"
          ],
          "name": "stderr"
        },
        {
          "output_type": "stream",
          "text": [
            "Found 119 validated image filenames belonging to 2 classes.\n",
            "Found 21 validated image filenames belonging to 2 classes.\n",
            "Found 25 validated image filenames.\n",
            "Found 140 validated image filenames.\n",
            "Epoch 1/150\n",
            "4/4 [==============================] - 6s 2s/step - loss: 1.5359 - accuracy: 0.5966 - val_loss: 0.9433 - val_accuracy: 0.5238\n",
            "Epoch 2/150\n",
            "4/4 [==============================] - 3s 830ms/step - loss: 0.7998 - accuracy: 0.5630 - val_loss: 0.6606 - val_accuracy: 0.7143\n",
            "Epoch 3/150\n",
            "4/4 [==============================] - 3s 819ms/step - loss: 0.6507 - accuracy: 0.5630 - val_loss: 0.7077 - val_accuracy: 0.5238\n",
            "Epoch 4/150\n",
            "4/4 [==============================] - 3s 812ms/step - loss: 0.7839 - accuracy: 0.6218 - val_loss: 0.6436 - val_accuracy: 0.5238\n",
            "Epoch 5/150\n",
            "4/4 [==============================] - 3s 818ms/step - loss: 0.6195 - accuracy: 0.6807 - val_loss: 0.5823 - val_accuracy: 0.7619\n",
            "Epoch 6/150\n",
            "4/4 [==============================] - 3s 811ms/step - loss: 0.6415 - accuracy: 0.6387 - val_loss: 0.5866 - val_accuracy: 0.6190\n",
            "Epoch 7/150\n",
            "4/4 [==============================] - 4s 885ms/step - loss: 0.6155 - accuracy: 0.6303 - val_loss: 0.5775 - val_accuracy: 0.5714\n",
            "Epoch 8/150\n",
            "4/4 [==============================] - 4s 890ms/step - loss: 0.5972 - accuracy: 0.6975 - val_loss: 0.5994 - val_accuracy: 0.5238\n",
            "Epoch 9/150\n",
            "4/4 [==============================] - 3s 811ms/step - loss: 0.6031 - accuracy: 0.7059 - val_loss: 0.5845 - val_accuracy: 0.5238\n",
            "Epoch 10/150\n",
            "4/4 [==============================] - 3s 820ms/step - loss: 0.6005 - accuracy: 0.6975 - val_loss: 0.5742 - val_accuracy: 0.5238\n",
            "Epoch 11/150\n",
            "4/4 [==============================] - 4s 891ms/step - loss: 0.5776 - accuracy: 0.6975 - val_loss: 0.5742 - val_accuracy: 0.5714\n",
            "Epoch 12/150\n",
            "4/4 [==============================] - 4s 882ms/step - loss: 0.5399 - accuracy: 0.6975 - val_loss: 0.5660 - val_accuracy: 0.5714\n",
            "Epoch 13/150\n",
            "4/4 [==============================] - 3s 813ms/step - loss: 0.5068 - accuracy: 0.7227 - val_loss: 0.5712 - val_accuracy: 0.6190\n",
            "Epoch 14/150\n",
            "4/4 [==============================] - 3s 806ms/step - loss: 0.5245 - accuracy: 0.6471 - val_loss: 0.5567 - val_accuracy: 0.6190\n",
            "Epoch 15/150\n",
            "4/4 [==============================] - 3s 827ms/step - loss: 0.5443 - accuracy: 0.6975 - val_loss: 0.5445 - val_accuracy: 0.6190\n",
            "Epoch 16/150\n",
            "4/4 [==============================] - 3s 814ms/step - loss: 0.5299 - accuracy: 0.7143 - val_loss: 0.5495 - val_accuracy: 0.5714\n",
            "Epoch 17/150\n",
            "4/4 [==============================] - 4s 889ms/step - loss: 0.5072 - accuracy: 0.6975 - val_loss: 0.5265 - val_accuracy: 0.5714\n",
            "Epoch 18/150\n",
            "4/4 [==============================] - 3s 808ms/step - loss: 0.5053 - accuracy: 0.7143 - val_loss: 0.5519 - val_accuracy: 0.5714\n",
            "Epoch 19/150\n",
            "4/4 [==============================] - 3s 812ms/step - loss: 0.5357 - accuracy: 0.7227 - val_loss: 0.6189 - val_accuracy: 0.5714\n",
            "Epoch 20/150\n",
            "4/4 [==============================] - 3s 812ms/step - loss: 0.4592 - accuracy: 0.7227 - val_loss: 0.5242 - val_accuracy: 0.7143\n",
            "Epoch 21/150\n",
            "4/4 [==============================] - 3s 812ms/step - loss: 0.4921 - accuracy: 0.7479 - val_loss: 0.5857 - val_accuracy: 0.5714\n",
            "Epoch 22/150\n",
            "4/4 [==============================] - 3s 816ms/step - loss: 0.4451 - accuracy: 0.7395 - val_loss: 0.5713 - val_accuracy: 0.6190\n",
            "Epoch 23/150\n",
            "4/4 [==============================] - 3s 803ms/step - loss: 0.4884 - accuracy: 0.7227 - val_loss: 0.4884 - val_accuracy: 0.5238\n",
            "Epoch 24/150\n",
            "4/4 [==============================] - 3s 804ms/step - loss: 0.4640 - accuracy: 0.7227 - val_loss: 0.4939 - val_accuracy: 0.6667\n",
            "Epoch 25/150\n",
            "4/4 [==============================] - 3s 814ms/step - loss: 0.4340 - accuracy: 0.7395 - val_loss: 0.6218 - val_accuracy: 0.5714\n",
            "Epoch 26/150\n",
            "4/4 [==============================] - 3s 821ms/step - loss: 0.4168 - accuracy: 0.7227 - val_loss: 0.6342 - val_accuracy: 0.5714\n",
            "Epoch 27/150\n",
            "4/4 [==============================] - 3s 803ms/step - loss: 0.4247 - accuracy: 0.7395 - val_loss: 0.5148 - val_accuracy: 0.7619\n",
            "Epoch 28/150\n",
            "4/4 [==============================] - 4s 879ms/step - loss: 0.4400 - accuracy: 0.7395 - val_loss: 0.4513 - val_accuracy: 0.6667\n",
            "Epoch 29/150\n",
            "4/4 [==============================] - 3s 810ms/step - loss: 0.4169 - accuracy: 0.7227 - val_loss: 0.4532 - val_accuracy: 0.7143\n",
            "Epoch 30/150\n",
            "4/4 [==============================] - 3s 813ms/step - loss: 0.4121 - accuracy: 0.7563 - val_loss: 0.5465 - val_accuracy: 0.7143\n",
            "Epoch 31/150\n",
            "4/4 [==============================] - 4s 878ms/step - loss: 0.4104 - accuracy: 0.7563 - val_loss: 0.5259 - val_accuracy: 0.7619\n",
            "Epoch 32/150\n",
            "4/4 [==============================] - 3s 810ms/step - loss: 0.3977 - accuracy: 0.7815 - val_loss: 0.4069 - val_accuracy: 0.7143\n",
            "Epoch 33/150\n",
            "4/4 [==============================] - 3s 807ms/step - loss: 0.4108 - accuracy: 0.7311 - val_loss: 0.5269 - val_accuracy: 0.6190\n",
            "Epoch 34/150\n",
            "4/4 [==============================] - 3s 814ms/step - loss: 0.3952 - accuracy: 0.7647 - val_loss: 0.7158 - val_accuracy: 0.5714\n",
            "Epoch 35/150\n",
            "4/4 [==============================] - 3s 815ms/step - loss: 0.4339 - accuracy: 0.7479 - val_loss: 0.4169 - val_accuracy: 0.8095\n",
            "Epoch 36/150\n",
            "4/4 [==============================] - 3s 812ms/step - loss: 0.4220 - accuracy: 0.7815 - val_loss: 0.4141 - val_accuracy: 0.8095\n",
            "Epoch 37/150\n",
            "4/4 [==============================] - 4s 883ms/step - loss: 0.3853 - accuracy: 0.8067 - val_loss: 0.4146 - val_accuracy: 0.8095\n",
            "Epoch 38/150\n",
            "4/4 [==============================] - 3s 806ms/step - loss: 0.3587 - accuracy: 0.8067 - val_loss: 0.5004 - val_accuracy: 0.7143\n",
            "Epoch 39/150\n",
            "4/4 [==============================] - 4s 881ms/step - loss: 0.4394 - accuracy: 0.7059 - val_loss: 0.5356 - val_accuracy: 0.6667\n",
            "Epoch 40/150\n",
            "4/4 [==============================] - 3s 813ms/step - loss: 0.3840 - accuracy: 0.8319 - val_loss: 0.4308 - val_accuracy: 0.8571\n",
            "Epoch 41/150\n",
            "4/4 [==============================] - 3s 801ms/step - loss: 0.4042 - accuracy: 0.7983 - val_loss: 0.3647 - val_accuracy: 0.8571\n",
            "Epoch 42/150\n",
            "4/4 [==============================] - 3s 805ms/step - loss: 0.3482 - accuracy: 0.8235 - val_loss: 0.4444 - val_accuracy: 0.9048\n",
            "Epoch 43/150\n",
            "4/4 [==============================] - 3s 807ms/step - loss: 0.3967 - accuracy: 0.7983 - val_loss: 0.4158 - val_accuracy: 0.8571\n",
            "Epoch 44/150\n",
            "4/4 [==============================] - 3s 815ms/step - loss: 0.4190 - accuracy: 0.7983 - val_loss: 0.3662 - val_accuracy: 0.8571\n",
            "Epoch 45/150\n",
            "4/4 [==============================] - 3s 808ms/step - loss: 0.3955 - accuracy: 0.7899 - val_loss: 0.4102 - val_accuracy: 0.7143\n",
            "Epoch 46/150\n",
            "4/4 [==============================] - 3s 814ms/step - loss: 0.4343 - accuracy: 0.7647 - val_loss: 0.3745 - val_accuracy: 0.8095\n",
            "Epoch 47/150\n",
            "4/4 [==============================] - 4s 878ms/step - loss: 0.3444 - accuracy: 0.8403 - val_loss: 0.3665 - val_accuracy: 0.8571\n",
            "Epoch 48/150\n",
            "4/4 [==============================] - 3s 803ms/step - loss: 0.3920 - accuracy: 0.8487 - val_loss: 0.4050 - val_accuracy: 0.8095\n",
            "Epoch 49/150\n",
            "4/4 [==============================] - 3s 800ms/step - loss: 0.3723 - accuracy: 0.8403 - val_loss: 0.4148 - val_accuracy: 0.8095\n",
            "Epoch 50/150\n",
            "4/4 [==============================] - 4s 876ms/step - loss: 0.3254 - accuracy: 0.8739 - val_loss: 0.4139 - val_accuracy: 0.8095\n",
            "Epoch 51/150\n",
            "4/4 [==============================] - 3s 808ms/step - loss: 0.3603 - accuracy: 0.7983 - val_loss: 0.4838 - val_accuracy: 0.6667\n",
            "Epoch 52/150\n",
            "4/4 [==============================] - 3s 802ms/step - loss: 0.3641 - accuracy: 0.8571 - val_loss: 0.4019 - val_accuracy: 0.8095\n",
            "Epoch 53/150\n",
            "4/4 [==============================] - 3s 818ms/step - loss: 0.2926 - accuracy: 0.8739 - val_loss: 0.6718 - val_accuracy: 0.6667\n",
            "Epoch 54/150\n",
            "4/4 [==============================] - 3s 812ms/step - loss: 0.3458 - accuracy: 0.8151 - val_loss: 0.4114 - val_accuracy: 0.7143\n",
            "Epoch 55/150\n",
            "4/4 [==============================] - 3s 806ms/step - loss: 0.2957 - accuracy: 0.8739 - val_loss: 0.3494 - val_accuracy: 0.8095\n",
            "Epoch 56/150\n",
            "4/4 [==============================] - 3s 806ms/step - loss: 0.3528 - accuracy: 0.8571 - val_loss: 0.3811 - val_accuracy: 0.8571\n",
            "Epoch 57/150\n",
            "4/4 [==============================] - 3s 828ms/step - loss: 0.3093 - accuracy: 0.9244 - val_loss: 0.4871 - val_accuracy: 0.7143\n",
            "Epoch 58/150\n",
            "4/4 [==============================] - 3s 841ms/step - loss: 0.3309 - accuracy: 0.7899 - val_loss: 0.5428 - val_accuracy: 0.7143\n",
            "Epoch 59/150\n",
            "4/4 [==============================] - 4s 908ms/step - loss: 0.2848 - accuracy: 0.8908 - val_loss: 0.5502 - val_accuracy: 0.6667\n",
            "Epoch 60/150\n",
            "4/4 [==============================] - 3s 807ms/step - loss: 0.3652 - accuracy: 0.7899 - val_loss: 0.5693 - val_accuracy: 0.7143\n",
            "Epoch 61/150\n",
            "4/4 [==============================] - 3s 803ms/step - loss: 0.3212 - accuracy: 0.8739 - val_loss: 0.4259 - val_accuracy: 0.7619\n",
            "Epoch 62/150\n",
            "4/4 [==============================] - 4s 882ms/step - loss: 0.3095 - accuracy: 0.8571 - val_loss: 0.3926 - val_accuracy: 0.7143\n",
            "Epoch 63/150\n",
            "4/4 [==============================] - 3s 809ms/step - loss: 0.3464 - accuracy: 0.8319 - val_loss: 0.5724 - val_accuracy: 0.6667\n",
            "Epoch 64/150\n",
            "4/4 [==============================] - 3s 811ms/step - loss: 0.3495 - accuracy: 0.8235 - val_loss: 0.3823 - val_accuracy: 0.8571\n",
            "Epoch 65/150\n",
            "4/4 [==============================] - 3s 805ms/step - loss: 0.3048 - accuracy: 0.8739 - val_loss: 0.4282 - val_accuracy: 0.7143\n",
            "Epoch 66/150\n",
            "4/4 [==============================] - 3s 802ms/step - loss: 0.3334 - accuracy: 0.8151 - val_loss: 0.3594 - val_accuracy: 0.9048\n",
            "Epoch 67/150\n",
            "4/4 [==============================] - 3s 805ms/step - loss: 0.3295 - accuracy: 0.8151 - val_loss: 0.5208 - val_accuracy: 0.6667\n",
            "Epoch 68/150\n",
            "4/4 [==============================] - 3s 809ms/step - loss: 0.3446 - accuracy: 0.8655 - val_loss: 0.3734 - val_accuracy: 0.8095\n",
            "Epoch 69/150\n",
            "4/4 [==============================] - 3s 817ms/step - loss: 0.3306 - accuracy: 0.8992 - val_loss: 0.4650 - val_accuracy: 0.6667\n",
            "Epoch 70/150\n",
            "4/4 [==============================] - 3s 812ms/step - loss: 0.3103 - accuracy: 0.8655 - val_loss: 0.5351 - val_accuracy: 0.6667\n",
            "Epoch 71/150\n",
            "4/4 [==============================] - 3s 823ms/step - loss: 0.3299 - accuracy: 0.8319 - val_loss: 0.3670 - val_accuracy: 0.8095\n",
            "Epoch 72/150\n",
            "4/4 [==============================] - 4s 886ms/step - loss: 0.2966 - accuracy: 0.8487 - val_loss: 0.5621 - val_accuracy: 0.7619\n",
            "Epoch 73/150\n",
            "4/4 [==============================] - 3s 813ms/step - loss: 0.3403 - accuracy: 0.8319 - val_loss: 0.3618 - val_accuracy: 0.8095\n",
            "Epoch 74/150\n",
            "4/4 [==============================] - 4s 882ms/step - loss: 0.3027 - accuracy: 0.8824 - val_loss: 0.4434 - val_accuracy: 0.7619\n",
            "Epoch 75/150\n",
            "4/4 [==============================] - 3s 873ms/step - loss: 0.3429 - accuracy: 0.8403 - val_loss: 0.4475 - val_accuracy: 0.8095\n",
            "Epoch 76/150\n",
            "4/4 [==============================] - 3s 805ms/step - loss: 0.3328 - accuracy: 0.8151 - val_loss: 0.3942 - val_accuracy: 0.8095\n",
            "Epoch 77/150\n",
            "4/4 [==============================] - 4s 885ms/step - loss: 0.3599 - accuracy: 0.8235 - val_loss: 0.4758 - val_accuracy: 0.6667\n",
            "Epoch 78/150\n",
            "4/4 [==============================] - 3s 807ms/step - loss: 0.3191 - accuracy: 0.8319 - val_loss: 0.6592 - val_accuracy: 0.7143\n",
            "Epoch 79/150\n",
            "4/4 [==============================] - 3s 800ms/step - loss: 0.2872 - accuracy: 0.9244 - val_loss: 0.4718 - val_accuracy: 0.8095\n",
            "Epoch 80/150\n",
            "4/4 [==============================] - 4s 879ms/step - loss: 0.2934 - accuracy: 0.9160 - val_loss: 0.3751 - val_accuracy: 0.8095\n",
            "Epoch 81/150\n",
            "4/4 [==============================] - 3s 804ms/step - loss: 0.2806 - accuracy: 0.9328 - val_loss: 0.3643 - val_accuracy: 0.8571\n",
            "Epoch 82/150\n",
            "4/4 [==============================] - 3s 813ms/step - loss: 0.3618 - accuracy: 0.8319 - val_loss: 0.4623 - val_accuracy: 0.7143\n",
            "Epoch 83/150\n",
            "4/4 [==============================] - 4s 877ms/step - loss: 0.3654 - accuracy: 0.8571 - val_loss: 0.4750 - val_accuracy: 0.7143\n",
            "Epoch 84/150\n",
            "4/4 [==============================] - 3s 806ms/step - loss: 0.3278 - accuracy: 0.8655 - val_loss: 0.4399 - val_accuracy: 0.8095\n",
            "Epoch 85/150\n",
            "4/4 [==============================] - 3s 812ms/step - loss: 0.3316 - accuracy: 0.8487 - val_loss: 0.5265 - val_accuracy: 0.7619\n",
            "Epoch 86/150\n",
            "4/4 [==============================] - 3s 811ms/step - loss: 0.2897 - accuracy: 0.9076 - val_loss: 0.3457 - val_accuracy: 0.9048\n",
            "Epoch 87/150\n",
            "4/4 [==============================] - 3s 811ms/step - loss: 0.3745 - accuracy: 0.8235 - val_loss: 0.4406 - val_accuracy: 0.7143\n",
            "Epoch 88/150\n",
            "4/4 [==============================] - 3s 814ms/step - loss: 0.3515 - accuracy: 0.8403 - val_loss: 0.5014 - val_accuracy: 0.8095\n",
            "Epoch 89/150\n",
            "4/4 [==============================] - 3s 809ms/step - loss: 0.3563 - accuracy: 0.8739 - val_loss: 0.4169 - val_accuracy: 0.6190\n",
            "Epoch 90/150\n",
            "4/4 [==============================] - 4s 883ms/step - loss: 0.3661 - accuracy: 0.7983 - val_loss: 0.4598 - val_accuracy: 0.7619\n",
            "Epoch 91/150\n",
            "4/4 [==============================] - 3s 816ms/step - loss: 0.3346 - accuracy: 0.8655 - val_loss: 0.4534 - val_accuracy: 0.8571\n",
            "Epoch 92/150\n",
            "4/4 [==============================] - 3s 809ms/step - loss: 0.3094 - accuracy: 0.8235 - val_loss: 0.4282 - val_accuracy: 0.7143\n",
            "Epoch 93/150\n",
            "4/4 [==============================] - 3s 811ms/step - loss: 0.4037 - accuracy: 0.7815 - val_loss: 0.4706 - val_accuracy: 0.8095\n",
            "Epoch 94/150\n",
            "4/4 [==============================] - 3s 809ms/step - loss: 0.3494 - accuracy: 0.8151 - val_loss: 0.4754 - val_accuracy: 0.7143\n",
            "Epoch 95/150\n",
            "4/4 [==============================] - 3s 813ms/step - loss: 0.2659 - accuracy: 0.8992 - val_loss: 0.5290 - val_accuracy: 0.7619\n",
            "Epoch 96/150\n",
            "4/4 [==============================] - 3s 814ms/step - loss: 0.3268 - accuracy: 0.8319 - val_loss: 0.5664 - val_accuracy: 0.6190\n",
            "Epoch 97/150\n",
            "4/4 [==============================] - 3s 803ms/step - loss: 0.3439 - accuracy: 0.8235 - val_loss: 0.4190 - val_accuracy: 0.7619\n",
            "Epoch 98/150\n",
            "4/4 [==============================] - 3s 873ms/step - loss: 0.3012 - accuracy: 0.8824 - val_loss: 0.4414 - val_accuracy: 0.7619\n",
            "Epoch 99/150\n",
            "4/4 [==============================] - 3s 812ms/step - loss: 0.3309 - accuracy: 0.8151 - val_loss: 0.4285 - val_accuracy: 0.8095\n",
            "Epoch 100/150\n",
            "4/4 [==============================] - 3s 804ms/step - loss: 0.3354 - accuracy: 0.8487 - val_loss: 0.4469 - val_accuracy: 0.7619\n",
            "Epoch 101/150\n",
            "4/4 [==============================] - 4s 877ms/step - loss: 0.3484 - accuracy: 0.7899 - val_loss: 0.4166 - val_accuracy: 0.7143\n",
            "Epoch 102/150\n",
            "4/4 [==============================] - 4s 878ms/step - loss: 0.3072 - accuracy: 0.8571 - val_loss: 0.3703 - val_accuracy: 0.8095\n",
            "Epoch 103/150\n",
            "4/4 [==============================] - 4s 882ms/step - loss: 0.3330 - accuracy: 0.8151 - val_loss: 0.4648 - val_accuracy: 0.8095\n",
            "Epoch 104/150\n",
            "4/4 [==============================] - 4s 884ms/step - loss: 0.3321 - accuracy: 0.8739 - val_loss: 0.3659 - val_accuracy: 0.8571\n",
            "Epoch 105/150\n",
            "4/4 [==============================] - 4s 880ms/step - loss: 0.3575 - accuracy: 0.8319 - val_loss: 0.5361 - val_accuracy: 0.8095\n",
            "Epoch 106/150\n",
            "4/4 [==============================] - 3s 874ms/step - loss: 0.3180 - accuracy: 0.8487 - val_loss: 0.5154 - val_accuracy: 0.7619\n",
            "Epoch 107/150\n",
            "4/4 [==============================] - 4s 886ms/step - loss: 0.3090 - accuracy: 0.8151 - val_loss: 0.5043 - val_accuracy: 0.8095\n",
            "Epoch 108/150\n",
            "4/4 [==============================] - 3s 809ms/step - loss: 0.3039 - accuracy: 0.8151 - val_loss: 0.4134 - val_accuracy: 0.8095\n",
            "Epoch 109/150\n",
            "4/4 [==============================] - 3s 822ms/step - loss: 0.3780 - accuracy: 0.8235 - val_loss: 0.5300 - val_accuracy: 0.7619\n",
            "Epoch 110/150\n",
            "4/4 [==============================] - 4s 890ms/step - loss: 0.3393 - accuracy: 0.8487 - val_loss: 0.4277 - val_accuracy: 0.7619\n",
            "Epoch 111/150\n",
            "4/4 [==============================] - 3s 819ms/step - loss: 0.3006 - accuracy: 0.8487 - val_loss: 0.3870 - val_accuracy: 0.8095\n",
            "Epoch 112/150\n",
            "4/4 [==============================] - 3s 809ms/step - loss: 0.3385 - accuracy: 0.8151 - val_loss: 0.4192 - val_accuracy: 0.8095\n",
            "Epoch 113/150\n",
            "4/4 [==============================] - 4s 880ms/step - loss: 0.3638 - accuracy: 0.8235 - val_loss: 0.5300 - val_accuracy: 0.7143\n",
            "Epoch 114/150\n",
            "4/4 [==============================] - 4s 876ms/step - loss: 0.2863 - accuracy: 0.8655 - val_loss: 0.3953 - val_accuracy: 0.8095\n",
            "Epoch 115/150\n",
            "4/4 [==============================] - 3s 814ms/step - loss: 0.3204 - accuracy: 0.8319 - val_loss: 0.4785 - val_accuracy: 0.7619\n",
            "Epoch 116/150\n",
            "4/4 [==============================] - 3s 821ms/step - loss: 0.3604 - accuracy: 0.8487 - val_loss: 0.4178 - val_accuracy: 0.8571\n",
            "Epoch 117/150\n",
            "4/4 [==============================] - 3s 814ms/step - loss: 0.3506 - accuracy: 0.8403 - val_loss: 0.4093 - val_accuracy: 0.8571\n",
            "Epoch 118/150\n",
            "4/4 [==============================] - 3s 812ms/step - loss: 0.2937 - accuracy: 0.8992 - val_loss: 0.3294 - val_accuracy: 0.9048\n",
            "Epoch 119/150\n",
            "4/4 [==============================] - 4s 885ms/step - loss: 0.3466 - accuracy: 0.8151 - val_loss: 0.4998 - val_accuracy: 0.8095\n",
            "Epoch 120/150\n",
            "4/4 [==============================] - 4s 884ms/step - loss: 0.2966 - accuracy: 0.8824 - val_loss: 0.4099 - val_accuracy: 0.8571\n",
            "Epoch 121/150\n",
            "4/4 [==============================] - 3s 813ms/step - loss: 0.3603 - accuracy: 0.8403 - val_loss: 0.5998 - val_accuracy: 0.6667\n",
            "Epoch 122/150\n",
            "4/4 [==============================] - 3s 812ms/step - loss: 0.2896 - accuracy: 0.8571 - val_loss: 0.4616 - val_accuracy: 0.9048\n",
            "Epoch 123/150\n",
            "4/4 [==============================] - 3s 809ms/step - loss: 0.3244 - accuracy: 0.8151 - val_loss: 0.4771 - val_accuracy: 0.7143\n",
            "Epoch 124/150\n",
            "4/4 [==============================] - 3s 813ms/step - loss: 0.3506 - accuracy: 0.8151 - val_loss: 0.4679 - val_accuracy: 0.8095\n",
            "Epoch 125/150\n",
            "4/4 [==============================] - 4s 880ms/step - loss: 0.3444 - accuracy: 0.8403 - val_loss: 0.4766 - val_accuracy: 0.8095\n",
            "Epoch 126/150\n",
            "4/4 [==============================] - 4s 879ms/step - loss: 0.3604 - accuracy: 0.8235 - val_loss: 0.4735 - val_accuracy: 0.7619\n",
            "Epoch 127/150\n",
            "4/4 [==============================] - 4s 888ms/step - loss: 0.3573 - accuracy: 0.8487 - val_loss: 0.4073 - val_accuracy: 0.7619\n",
            "Epoch 128/150\n",
            "4/4 [==============================] - 4s 901ms/step - loss: 0.2848 - accuracy: 0.8403 - val_loss: 0.4136 - val_accuracy: 0.8095\n",
            "Epoch 129/150\n",
            "4/4 [==============================] - 3s 830ms/step - loss: 0.2941 - accuracy: 0.8739 - val_loss: 0.5513 - val_accuracy: 0.7619\n",
            "Epoch 130/150\n",
            "4/4 [==============================] - 4s 903ms/step - loss: 0.3359 - accuracy: 0.8235 - val_loss: 0.4729 - val_accuracy: 0.8571\n",
            "Epoch 131/150\n",
            "4/4 [==============================] - 3s 834ms/step - loss: 0.3157 - accuracy: 0.8571 - val_loss: 0.4763 - val_accuracy: 0.8095\n",
            "Epoch 132/150\n",
            "4/4 [==============================] - 3s 811ms/step - loss: 0.3143 - accuracy: 0.8151 - val_loss: 0.5317 - val_accuracy: 0.7619\n",
            "Epoch 133/150\n",
            "4/4 [==============================] - 3s 805ms/step - loss: 0.3463 - accuracy: 0.8403 - val_loss: 0.5711 - val_accuracy: 0.6667\n",
            "Epoch 134/150\n",
            "4/4 [==============================] - 3s 820ms/step - loss: 0.3074 - accuracy: 0.8235 - val_loss: 0.4573 - val_accuracy: 0.7143\n",
            "Epoch 135/150\n",
            "4/4 [==============================] - 3s 811ms/step - loss: 0.3398 - accuracy: 0.8151 - val_loss: 0.3541 - val_accuracy: 0.8571\n",
            "Epoch 136/150\n",
            "4/4 [==============================] - 3s 805ms/step - loss: 0.3453 - accuracy: 0.7983 - val_loss: 0.4361 - val_accuracy: 0.8571\n",
            "Epoch 137/150\n",
            "4/4 [==============================] - 3s 811ms/step - loss: 0.3285 - accuracy: 0.8571 - val_loss: 0.4239 - val_accuracy: 0.8571\n",
            "Epoch 138/150\n",
            "4/4 [==============================] - 4s 889ms/step - loss: 0.3395 - accuracy: 0.8319 - val_loss: 0.5142 - val_accuracy: 0.7619\n",
            "Epoch 139/150\n",
            "4/4 [==============================] - 3s 810ms/step - loss: 0.3471 - accuracy: 0.8319 - val_loss: 0.4096 - val_accuracy: 0.7619\n",
            "Epoch 140/150\n",
            "4/4 [==============================] - 3s 815ms/step - loss: 0.3049 - accuracy: 0.8487 - val_loss: 0.4001 - val_accuracy: 0.7619\n",
            "Epoch 141/150\n",
            "4/4 [==============================] - 3s 811ms/step - loss: 0.3222 - accuracy: 0.8908 - val_loss: 0.4411 - val_accuracy: 0.7619\n",
            "Epoch 142/150\n",
            "4/4 [==============================] - 4s 883ms/step - loss: 0.3374 - accuracy: 0.8235 - val_loss: 0.4146 - val_accuracy: 0.7619\n",
            "Epoch 143/150\n",
            "4/4 [==============================] - 3s 801ms/step - loss: 0.3134 - accuracy: 0.8739 - val_loss: 0.3593 - val_accuracy: 0.8571\n",
            "Epoch 144/150\n",
            "4/4 [==============================] - 3s 817ms/step - loss: 0.3227 - accuracy: 0.8655 - val_loss: 0.4383 - val_accuracy: 0.7619\n",
            "Epoch 145/150\n",
            "4/4 [==============================] - 3s 812ms/step - loss: 0.3465 - accuracy: 0.8571 - val_loss: 0.5113 - val_accuracy: 0.7619\n",
            "Epoch 146/150\n",
            "4/4 [==============================] - 3s 825ms/step - loss: 0.3444 - accuracy: 0.8319 - val_loss: 0.5378 - val_accuracy: 0.7143\n",
            "Epoch 147/150\n",
            "4/4 [==============================] - 4s 891ms/step - loss: 0.3480 - accuracy: 0.8403 - val_loss: 0.5138 - val_accuracy: 0.7619\n",
            "Epoch 148/150\n",
            "4/4 [==============================] - 3s 803ms/step - loss: 0.2972 - accuracy: 0.8739 - val_loss: 0.4843 - val_accuracy: 0.7143\n",
            "Epoch 149/150\n",
            "4/4 [==============================] - 3s 811ms/step - loss: 0.3292 - accuracy: 0.8235 - val_loss: 0.4272 - val_accuracy: 0.7619\n",
            "Epoch 150/150\n",
            "4/4 [==============================] - 3s 813ms/step - loss: 0.3037 - accuracy: 0.8571 - val_loss: 0.4151 - val_accuracy: 0.7143\n"
          ],
          "name": "stdout"
        },
        {
          "output_type": "stream",
          "text": [
            "/usr/local/lib/python3.6/dist-packages/ipykernel_launcher.py:84: SettingWithCopyWarning: \n",
            "A value is trying to be set on a copy of a slice from a DataFrame.\n",
            "Try using .loc[row_indexer,col_indexer] = value instead\n",
            "\n",
            "See the caveats in the documentation: https://pandas.pydata.org/pandas-docs/stable/user_guide/indexing.html#returning-a-view-versus-a-copy\n",
            "/usr/local/lib/python3.6/dist-packages/ipykernel_launcher.py:96: SettingWithCopyWarning: \n",
            "A value is trying to be set on a copy of a slice from a DataFrame.\n",
            "Try using .loc[row_indexer,col_indexer] = value instead\n",
            "\n",
            "See the caveats in the documentation: https://pandas.pydata.org/pandas-docs/stable/user_guide/indexing.html#returning-a-view-versus-a-copy\n"
          ],
          "name": "stderr"
        }
      ]
    },
    {
      "cell_type": "code",
      "metadata": {
        "id": "iMJ6-ptp9G85"
      },
      "source": [
        "test_performance = pd.DataFrame(test_accuracy, columns=['Accuracy'])\n",
        "test_performance['Precision'] = test_precision\n",
        "test_performance['Recall'] = test_recall\n",
        "test_performance['F1'] = test_f1\n",
        "\n",
        "test_performance.to_csv('/content/drive/My Drive/Colab Notebooks/聖馬爾定/csv/test_performance_sigModel.csv', index=0)\n",
        "\n",
        "train_performance = pd.DataFrame(train_accuracy, columns=['Accuracy'])\n",
        "train_performance['Precision'] = train_precision\n",
        "train_performance['Recall'] = train_recall\n",
        "train_performance['F1'] = train_f1\n",
        "\n",
        "train_performance.to_csv('/content/drive/My Drive/Colab Notebooks/聖馬爾定/csv/train_performance_sigModel.csv', index=0)"
      ],
      "execution_count": null,
      "outputs": []
    },
    {
      "cell_type": "code",
      "metadata": {
        "id": "RvCqBZXUyZu5",
        "colab": {
          "base_uri": "https://localhost:8080/",
          "height": 173
        },
        "outputId": "d30f9200-ca76-49d1-d89f-027fb4193eb0"
      },
      "source": [
        "test_performance"
      ],
      "execution_count": null,
      "outputs": [
        {
          "output_type": "execute_result",
          "data": {
            "text/html": [
              "<div>\n",
              "<style scoped>\n",
              "    .dataframe tbody tr th:only-of-type {\n",
              "        vertical-align: middle;\n",
              "    }\n",
              "\n",
              "    .dataframe tbody tr th {\n",
              "        vertical-align: top;\n",
              "    }\n",
              "\n",
              "    .dataframe thead th {\n",
              "        text-align: right;\n",
              "    }\n",
              "</style>\n",
              "<table border=\"1\" class=\"dataframe\">\n",
              "  <thead>\n",
              "    <tr style=\"text-align: right;\">\n",
              "      <th></th>\n",
              "      <th>Accuracy</th>\n",
              "      <th>Precision</th>\n",
              "      <th>Recall</th>\n",
              "      <th>F1</th>\n",
              "    </tr>\n",
              "  </thead>\n",
              "  <tbody>\n",
              "    <tr>\n",
              "      <th>0</th>\n",
              "      <td>0.84</td>\n",
              "      <td>1.000000</td>\n",
              "      <td>0.6</td>\n",
              "      <td>0.750000</td>\n",
              "    </tr>\n",
              "    <tr>\n",
              "      <th>1</th>\n",
              "      <td>0.92</td>\n",
              "      <td>1.000000</td>\n",
              "      <td>0.8</td>\n",
              "      <td>0.888889</td>\n",
              "    </tr>\n",
              "    <tr>\n",
              "      <th>2</th>\n",
              "      <td>0.80</td>\n",
              "      <td>0.857143</td>\n",
              "      <td>0.6</td>\n",
              "      <td>0.705882</td>\n",
              "    </tr>\n",
              "    <tr>\n",
              "      <th>3</th>\n",
              "      <td>0.84</td>\n",
              "      <td>0.800000</td>\n",
              "      <td>0.8</td>\n",
              "      <td>0.800000</td>\n",
              "    </tr>\n",
              "  </tbody>\n",
              "</table>\n",
              "</div>"
            ],
            "text/plain": [
              "   Accuracy  Precision  Recall        F1\n",
              "0      0.84   1.000000     0.6  0.750000\n",
              "1      0.92   1.000000     0.8  0.888889\n",
              "2      0.80   0.857143     0.6  0.705882\n",
              "3      0.84   0.800000     0.8  0.800000"
            ]
          },
          "metadata": {
            "tags": []
          },
          "execution_count": 21
        }
      ]
    },
    {
      "cell_type": "code",
      "metadata": {
        "id": "HClx5HIMyWy7",
        "colab": {
          "base_uri": "https://localhost:8080/",
          "height": 173
        },
        "outputId": "b97bc192-9799-434d-e63d-a4937f5bbd04"
      },
      "source": [
        "train_performance"
      ],
      "execution_count": null,
      "outputs": [
        {
          "output_type": "execute_result",
          "data": {
            "text/html": [
              "<div>\n",
              "<style scoped>\n",
              "    .dataframe tbody tr th:only-of-type {\n",
              "        vertical-align: middle;\n",
              "    }\n",
              "\n",
              "    .dataframe tbody tr th {\n",
              "        vertical-align: top;\n",
              "    }\n",
              "\n",
              "    .dataframe thead th {\n",
              "        text-align: right;\n",
              "    }\n",
              "</style>\n",
              "<table border=\"1\" class=\"dataframe\">\n",
              "  <thead>\n",
              "    <tr style=\"text-align: right;\">\n",
              "      <th></th>\n",
              "      <th>Accuracy</th>\n",
              "      <th>Precision</th>\n",
              "      <th>Recall</th>\n",
              "      <th>F1</th>\n",
              "    </tr>\n",
              "  </thead>\n",
              "  <tbody>\n",
              "    <tr>\n",
              "      <th>0</th>\n",
              "      <td>0.964286</td>\n",
              "      <td>0.977778</td>\n",
              "      <td>0.916667</td>\n",
              "      <td>0.946237</td>\n",
              "    </tr>\n",
              "    <tr>\n",
              "      <th>1</th>\n",
              "      <td>0.971429</td>\n",
              "      <td>0.958333</td>\n",
              "      <td>0.958333</td>\n",
              "      <td>0.958333</td>\n",
              "    </tr>\n",
              "    <tr>\n",
              "      <th>2</th>\n",
              "      <td>0.857143</td>\n",
              "      <td>0.911765</td>\n",
              "      <td>0.645833</td>\n",
              "      <td>0.756098</td>\n",
              "    </tr>\n",
              "    <tr>\n",
              "      <th>3</th>\n",
              "      <td>0.907143</td>\n",
              "      <td>0.926829</td>\n",
              "      <td>0.791667</td>\n",
              "      <td>0.853933</td>\n",
              "    </tr>\n",
              "  </tbody>\n",
              "</table>\n",
              "</div>"
            ],
            "text/plain": [
              "   Accuracy  Precision    Recall        F1\n",
              "0  0.964286   0.977778  0.916667  0.946237\n",
              "1  0.971429   0.958333  0.958333  0.958333\n",
              "2  0.857143   0.911765  0.645833  0.756098\n",
              "3  0.907143   0.926829  0.791667  0.853933"
            ]
          },
          "metadata": {
            "tags": []
          },
          "execution_count": 22
        }
      ]
    },
    {
      "cell_type": "code",
      "metadata": {
        "id": "zrQ40jJXHvtB"
      },
      "source": [
        "def count_diffs(a, b, to_max_1, to_max_2):\n",
        "    n_better = 0\n",
        "    n_worse = 0\n",
        "\n",
        "    for f in to_max_1:\n",
        "      n_better += a[f] > b[f]\n",
        "      n_worse += a[f] < b[f]\n",
        "\n",
        "    for f in to_max_2:\n",
        "        n_better += a[f] > b[f]\n",
        "        n_worse += a[f] < b[f]\n",
        "\n",
        "    return n_better, n_worse\n",
        "\n",
        "\n",
        "def find_skyline_bnl(df, to_max_1, to_max_2):\n",
        "    \"\"\"Finds the skyline using a block-nested loop.\"\"\"\n",
        "\n",
        "    rows = df.to_dict(orient='index')\n",
        "\n",
        "    # Use the first row to initialize the skyline\n",
        "    skyline = {df.index[0]}\n",
        "\n",
        "    # Loop through the rest of the rows\n",
        "    for i in df.index[1:]:\n",
        "\n",
        "        to_drop = set()\n",
        "        is_dominated = False\n",
        "\n",
        "        for j in skyline:\n",
        "\n",
        "            n_better, n_worse = count_diffs(rows[i], rows[j], to_max_1, to_max_2)\n",
        "\n",
        "            # Case 1\n",
        "            if n_worse > 0 and n_better == 0:\n",
        "                is_dominated = True\n",
        "                break\n",
        "\n",
        "            # Case 3\n",
        "            if n_better > 0 and n_worse == 0:\n",
        "                to_drop.add(j)\n",
        "\n",
        "        if is_dominated:\n",
        "            continue\n",
        "\n",
        "        skyline = skyline.difference(to_drop)\n",
        "        skyline.add(i)\n",
        "\n",
        "    return pd.Series(df.index.isin(skyline), index=df.index)"
      ],
      "execution_count": null,
      "outputs": []
    },
    {
      "cell_type": "code",
      "metadata": {
        "id": "K5-AacI8lGpA",
        "colab": {
          "base_uri": "https://localhost:8080/",
          "height": 295
        },
        "outputId": "c99c77b9-2877-41f2-c59c-ae2e644746c5"
      },
      "source": [
        "skyline = find_skyline_bnl(df=train_performance, to_max_1=['Recall'], to_max_2=['Precision'])\n",
        "colors = skyline.map({True: 'C1', False: 'C0'})\n",
        "ax = train_performance.plot.scatter(x='Precision', y='Recall', c=colors, alpha=0.8)\n",
        "ax.set_title('Train_Performance skyline')\n",
        "plt.grid(b=True, which='major', color='#666666', linestyle='-')"
      ],
      "execution_count": null,
      "outputs": [
        {
          "output_type": "display_data",
          "data": {
            "image/png": "[encoded data removed]",
            "text/plain": [
              "<Figure size 432x288 with 1 Axes>"
            ]
          },
          "metadata": {
            "tags": []
          }
        }
      ]
    },
    {
      "cell_type": "code",
      "metadata": {
        "id": "AdS1OBO8y0cA",
        "colab": {
          "base_uri": "https://localhost:8080/",
          "height": 295
        },
        "outputId": "7fdaa307-76bb-40ba-b955-1a3e0a45009c"
      },
      "source": [
        "skyline = find_skyline_bnl(df=test_performance, to_max_1=['Recall'], to_max_2=['Precision'])\n",
        "colors = skyline.map({True: 'C1', False: 'C0'})\n",
        "ax = test_performance.plot.scatter(x='Precision', y='Recall', c=colors, alpha=0.8)\n",
        "ax.set_title('Test_Performance skyline')\n",
        "plt.grid(b=True, which='major', color='#666666', linestyle='-')"
      ],
      "execution_count": null,
      "outputs": [
        {
          "output_type": "display_data",
          "data": {
            "image/png": "[encoded data removed]",
            "text/plain": [
              "<Figure size 432x288 with 1 Axes>"
            ]
          },
          "metadata": {
            "tags": []
          }
        }
      ]
    },
    {
      "cell_type": "code",
      "metadata": {
        "id": "F8bopdKbzOk7"
      },
      "source": [
        ""
      ],
      "execution_count": null,
      "outputs": []
    },
    {
      "cell_type": "markdown",
      "metadata": {
        "id": "Il0fhz74_mRe"
      },
      "source": [
        "# Test"
      ]
    },
    {
      "cell_type": "code",
      "metadata": {
        "id": "zbpR4MTn_oGU",
        "colab": {
          "base_uri": "https://localhost:8080/",
          "height": 322
        },
        "outputId": "1f193fdd-8edc-4be8-f50c-3994d61caa6f"
      },
      "source": [
        "path = [\"roi.jpg\"]\n",
        "predict_df = pd.DataFrame(path, columns=['path'])\n",
        "\n",
        "predict_datagen = ImageDataGenerator(rescale=1./255)\n",
        "predict_generator = predict_datagen.\n",
        "# _from_dataframe(predict_df,\n",
        "#                                                         '/content/drive/My Drive/Colab/Dataset/Test', \n",
        "#                                                         x_col='path', \n",
        "#                                                         y_col=None, \n",
        "#                                                         class_mode=None, \n",
        "#                                                         target_size=(300, 360), \n",
        "#                                                         batch_size=1,\n",
        "#                                                         shuffle=False\n",
        "#                                                         )\n",
        "\n",
        "preds = model.predict(predict_generator)\n",
        "i = np.argmax(preds, axis=-1).astype('str')\n",
        "print(i)"
      ],
      "execution_count": null,
      "outputs": [
        {
          "output_type": "stream",
          "text": [
            "(300, 360, 3)\n"
          ],
          "name": "stdout"
        },
        {
          "output_type": "execute_result",
          "data": {
            "text/plain": [
              "<matplotlib.image.AxesImage at 0x7fe206e8e080>"
            ]
          },
          "metadata": {
            "tags": []
          },
          "execution_count": 244
        },
        {
          "output_type": "display_data",
          "data": {
            "image/png": "[encoded data removed]",
            "text/plain": [
              "<Figure size 432x288 with 1 Axes>"
            ]
          },
          "metadata": {
            "tags": []
          }
        }
      ]
    },
    {
      "cell_type": "code",
      "metadata": {
        "id": "cOLrhCxIWsSW",
        "colab": {
          "base_uri": "https://localhost:8080/",
          "height": 34
        },
        "outputId": "6c83d0cf-1efc-4ded-a883-9611de06e75c"
      },
      "source": [
        "img_name = '3754852_0705110712_I00053203321.jpg'\n",
        "\n",
        "img_path = \"/content/drive/My Drive/Colab Notebooks/聖馬爾定/Dataset_Check/Original/1/\" + img_name\n",
        "orig_path = \"/content/drive/My Drive/Colab Notebooks/聖馬爾定/Dataset_Check/Original/1/\" + img_name\n",
        "# img_path = \"/content/roi.jpg\"\n",
        "orig = cv2.imread(img_path)\n",
        "orig.shape[0]"
      ],
      "execution_count": null,
      "outputs": [
        {
          "output_type": "execute_result",
          "data": {
            "text/plain": [
              "300"
            ]
          },
          "metadata": {
            "tags": []
          },
          "execution_count": 4
        }
      ]
    }
  ]
}